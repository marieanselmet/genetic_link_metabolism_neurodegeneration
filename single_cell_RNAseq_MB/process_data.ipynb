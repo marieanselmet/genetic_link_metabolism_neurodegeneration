{
 "cells": [
  {
   "cell_type": "code",
   "execution_count": 1,
   "metadata": {},
   "outputs": [],
   "source": [
    "import numpy as np\n",
    "import pandas as pd\n",
    "import os.path"
   ]
  },
  {
   "cell_type": "code",
   "execution_count": 2,
   "metadata": {},
   "outputs": [],
   "source": [
    "PATH = \"./data/\"\n",
    "\n",
    "#COUNT_CPM = \"GSE74989_CountCPM.txt\"\n",
    "COUNT_CPM = \"GSE74989_HTseqCountscompiledData.txt\"\n",
    "COGNITION_GENE_NAMES = \"FlyBase_Fields_download.txt\""
   ]
  },
  {
   "cell_type": "code",
   "execution_count": 3,
   "metadata": {},
   "outputs": [
    {
     "output_type": "execute_result",
     "data": {
      "text/plain": [
       "        genes  DAL1  DAL2  DAL3  DAL4  DAL5  DAL6  DAL7  DAL8  DAL9  ...  \\\n",
       "0       40421   119   140   834   256   270    13    72   328   346  ...   \n",
       "1       40422   814   158    78   487  1815   233   286  1603  1848  ...   \n",
       "2       40424  1094   436   945  2432   657  2503  1533  2139   660  ...   \n",
       "3       40425    26     0     1     1     0    34    26     0    85  ...   \n",
       "4       40512     0     3     4     1     0     3     0     0     0  ...   \n",
       "...       ...   ...   ...   ...   ...   ...   ...   ...   ...   ...  ...   \n",
       "15677     zuc     3     0     1     9     4     1     6     6     2  ...   \n",
       "15678      Zw   174     3     1    81     6     8     0    29    26  ...   \n",
       "15679  zwilch     0     0     0     0     0     0     0     0     0  ...   \n",
       "15680     zye     0     0     0     6     0     0     0    10     6  ...   \n",
       "15681     Zyx   178  1628   825  5162  2314  1427  1747  2140  1652  ...   \n",
       "\n",
       "       V3_WF_4  V3_WF_1  R27_WF_4  c739_WF_1  V2_WF_4  R27_WF_3  Brain1A  \\\n",
       "0          106      218       206         98       36        94      227   \n",
       "1          282      508       542        303      116       194      213   \n",
       "2           37       64        81         53       20        40      176   \n",
       "3           11      103        46         43        4        28       11   \n",
       "4         2201      190      1892        842      124      1625        1   \n",
       "...        ...      ...       ...        ...      ...       ...      ...   \n",
       "15677        9       57        34         37        5        31        0   \n",
       "15678      280      231       271         80      100        45        2   \n",
       "15679       27      127        48         52       13        44        0   \n",
       "15680       10        0         0          2       10         0        0   \n",
       "15681      161       64       217        119       61        69     1660   \n",
       "\n",
       "       Brain1B  AB_KCs_T1  AB_KCs_T2  \n",
       "0           56        182        332  \n",
       "1           64        122        208  \n",
       "2           90        859       1366  \n",
       "3            9         24          1  \n",
       "4            1          3          7  \n",
       "...        ...        ...        ...  \n",
       "15677        0          0          0  \n",
       "15678        5          3          0  \n",
       "15679        0          0          0  \n",
       "15680        1          3          6  \n",
       "15681      794       4676       3617  \n",
       "\n",
       "[15682 rows x 102 columns]"
      ],
      "text/html": "<div>\n<style scoped>\n    .dataframe tbody tr th:only-of-type {\n        vertical-align: middle;\n    }\n\n    .dataframe tbody tr th {\n        vertical-align: top;\n    }\n\n    .dataframe thead th {\n        text-align: right;\n    }\n</style>\n<table border=\"1\" class=\"dataframe\">\n  <thead>\n    <tr style=\"text-align: right;\">\n      <th></th>\n      <th>genes</th>\n      <th>DAL1</th>\n      <th>DAL2</th>\n      <th>DAL3</th>\n      <th>DAL4</th>\n      <th>DAL5</th>\n      <th>DAL6</th>\n      <th>DAL7</th>\n      <th>DAL8</th>\n      <th>DAL9</th>\n      <th>...</th>\n      <th>V3_WF_4</th>\n      <th>V3_WF_1</th>\n      <th>R27_WF_4</th>\n      <th>c739_WF_1</th>\n      <th>V2_WF_4</th>\n      <th>R27_WF_3</th>\n      <th>Brain1A</th>\n      <th>Brain1B</th>\n      <th>AB_KCs_T1</th>\n      <th>AB_KCs_T2</th>\n    </tr>\n  </thead>\n  <tbody>\n    <tr>\n      <th>0</th>\n      <td>40421</td>\n      <td>119</td>\n      <td>140</td>\n      <td>834</td>\n      <td>256</td>\n      <td>270</td>\n      <td>13</td>\n      <td>72</td>\n      <td>328</td>\n      <td>346</td>\n      <td>...</td>\n      <td>106</td>\n      <td>218</td>\n      <td>206</td>\n      <td>98</td>\n      <td>36</td>\n      <td>94</td>\n      <td>227</td>\n      <td>56</td>\n      <td>182</td>\n      <td>332</td>\n    </tr>\n    <tr>\n      <th>1</th>\n      <td>40422</td>\n      <td>814</td>\n      <td>158</td>\n      <td>78</td>\n      <td>487</td>\n      <td>1815</td>\n      <td>233</td>\n      <td>286</td>\n      <td>1603</td>\n      <td>1848</td>\n      <td>...</td>\n      <td>282</td>\n      <td>508</td>\n      <td>542</td>\n      <td>303</td>\n      <td>116</td>\n      <td>194</td>\n      <td>213</td>\n      <td>64</td>\n      <td>122</td>\n      <td>208</td>\n    </tr>\n    <tr>\n      <th>2</th>\n      <td>40424</td>\n      <td>1094</td>\n      <td>436</td>\n      <td>945</td>\n      <td>2432</td>\n      <td>657</td>\n      <td>2503</td>\n      <td>1533</td>\n      <td>2139</td>\n      <td>660</td>\n      <td>...</td>\n      <td>37</td>\n      <td>64</td>\n      <td>81</td>\n      <td>53</td>\n      <td>20</td>\n      <td>40</td>\n      <td>176</td>\n      <td>90</td>\n      <td>859</td>\n      <td>1366</td>\n    </tr>\n    <tr>\n      <th>3</th>\n      <td>40425</td>\n      <td>26</td>\n      <td>0</td>\n      <td>1</td>\n      <td>1</td>\n      <td>0</td>\n      <td>34</td>\n      <td>26</td>\n      <td>0</td>\n      <td>85</td>\n      <td>...</td>\n      <td>11</td>\n      <td>103</td>\n      <td>46</td>\n      <td>43</td>\n      <td>4</td>\n      <td>28</td>\n      <td>11</td>\n      <td>9</td>\n      <td>24</td>\n      <td>1</td>\n    </tr>\n    <tr>\n      <th>4</th>\n      <td>40512</td>\n      <td>0</td>\n      <td>3</td>\n      <td>4</td>\n      <td>1</td>\n      <td>0</td>\n      <td>3</td>\n      <td>0</td>\n      <td>0</td>\n      <td>0</td>\n      <td>...</td>\n      <td>2201</td>\n      <td>190</td>\n      <td>1892</td>\n      <td>842</td>\n      <td>124</td>\n      <td>1625</td>\n      <td>1</td>\n      <td>1</td>\n      <td>3</td>\n      <td>7</td>\n    </tr>\n    <tr>\n      <th>...</th>\n      <td>...</td>\n      <td>...</td>\n      <td>...</td>\n      <td>...</td>\n      <td>...</td>\n      <td>...</td>\n      <td>...</td>\n      <td>...</td>\n      <td>...</td>\n      <td>...</td>\n      <td>...</td>\n      <td>...</td>\n      <td>...</td>\n      <td>...</td>\n      <td>...</td>\n      <td>...</td>\n      <td>...</td>\n      <td>...</td>\n      <td>...</td>\n      <td>...</td>\n      <td>...</td>\n    </tr>\n    <tr>\n      <th>15677</th>\n      <td>zuc</td>\n      <td>3</td>\n      <td>0</td>\n      <td>1</td>\n      <td>9</td>\n      <td>4</td>\n      <td>1</td>\n      <td>6</td>\n      <td>6</td>\n      <td>2</td>\n      <td>...</td>\n      <td>9</td>\n      <td>57</td>\n      <td>34</td>\n      <td>37</td>\n      <td>5</td>\n      <td>31</td>\n      <td>0</td>\n      <td>0</td>\n      <td>0</td>\n      <td>0</td>\n    </tr>\n    <tr>\n      <th>15678</th>\n      <td>Zw</td>\n      <td>174</td>\n      <td>3</td>\n      <td>1</td>\n      <td>81</td>\n      <td>6</td>\n      <td>8</td>\n      <td>0</td>\n      <td>29</td>\n      <td>26</td>\n      <td>...</td>\n      <td>280</td>\n      <td>231</td>\n      <td>271</td>\n      <td>80</td>\n      <td>100</td>\n      <td>45</td>\n      <td>2</td>\n      <td>5</td>\n      <td>3</td>\n      <td>0</td>\n    </tr>\n    <tr>\n      <th>15679</th>\n      <td>zwilch</td>\n      <td>0</td>\n      <td>0</td>\n      <td>0</td>\n      <td>0</td>\n      <td>0</td>\n      <td>0</td>\n      <td>0</td>\n      <td>0</td>\n      <td>0</td>\n      <td>...</td>\n      <td>27</td>\n      <td>127</td>\n      <td>48</td>\n      <td>52</td>\n      <td>13</td>\n      <td>44</td>\n      <td>0</td>\n      <td>0</td>\n      <td>0</td>\n      <td>0</td>\n    </tr>\n    <tr>\n      <th>15680</th>\n      <td>zye</td>\n      <td>0</td>\n      <td>0</td>\n      <td>0</td>\n      <td>6</td>\n      <td>0</td>\n      <td>0</td>\n      <td>0</td>\n      <td>10</td>\n      <td>6</td>\n      <td>...</td>\n      <td>10</td>\n      <td>0</td>\n      <td>0</td>\n      <td>2</td>\n      <td>10</td>\n      <td>0</td>\n      <td>0</td>\n      <td>1</td>\n      <td>3</td>\n      <td>6</td>\n    </tr>\n    <tr>\n      <th>15681</th>\n      <td>Zyx</td>\n      <td>178</td>\n      <td>1628</td>\n      <td>825</td>\n      <td>5162</td>\n      <td>2314</td>\n      <td>1427</td>\n      <td>1747</td>\n      <td>2140</td>\n      <td>1652</td>\n      <td>...</td>\n      <td>161</td>\n      <td>64</td>\n      <td>217</td>\n      <td>119</td>\n      <td>61</td>\n      <td>69</td>\n      <td>1660</td>\n      <td>794</td>\n      <td>4676</td>\n      <td>3617</td>\n    </tr>\n  </tbody>\n</table>\n<p>15682 rows × 102 columns</p>\n</div>"
     },
     "metadata": {},
     "execution_count": 3
    }
   ],
   "source": [
    "# Counts data\n",
    "read_counts = pd.read_csv(PATH + COUNT_CPM, delimiter = '\\t')\n",
    "read_counts.rename(columns = {'Unnamed: 0':'genes'}, inplace = True)\n",
    "read_counts"
   ]
  },
  {
   "cell_type": "code",
   "execution_count": 4,
   "metadata": {},
   "outputs": [
    {
     "output_type": "execute_result",
     "data": {
      "text/plain": [
       "        genes  DAL1  DAL2  DAL3  DAL4  DAL5  DAL6  DAL7  DAL8  DAL9  ...  \\\n",
       "0       40421   119   140   834   256   270    13    72   328   346  ...   \n",
       "1       40422   814   158    78   487  1815   233   286  1603  1848  ...   \n",
       "2       40424  1094   436   945  2432   657  2503  1533  2139   660  ...   \n",
       "3       40425    26     0     1     1     0    34    26     0    85  ...   \n",
       "4       40512     0     3     4     1     0     3     0     0     0  ...   \n",
       "...       ...   ...   ...   ...   ...   ...   ...   ...   ...   ...  ...   \n",
       "15677     zuc     3     0     1     9     4     1     6     6     2  ...   \n",
       "15678      Zw   174     3     1    81     6     8     0    29    26  ...   \n",
       "15679  zwilch     0     0     0     0     0     0     0     0     0  ...   \n",
       "15680     zye     0     0     0     6     0     0     0    10     6  ...   \n",
       "15681     Zyx   178  1628   825  5162  2314  1427  1747  2140  1652  ...   \n",
       "\n",
       "       V3_WF_4  V3_WF_1  R27_WF_4  c739_WF_1  V2_WF_4  R27_WF_3  Brain1A  \\\n",
       "0          106      218       206         98       36        94      227   \n",
       "1          282      508       542        303      116       194      213   \n",
       "2           37       64        81         53       20        40      176   \n",
       "3           11      103        46         43        4        28       11   \n",
       "4         2201      190      1892        842      124      1625        1   \n",
       "...        ...      ...       ...        ...      ...       ...      ...   \n",
       "15677        9       57        34         37        5        31        0   \n",
       "15678      280      231       271         80      100        45        2   \n",
       "15679       27      127        48         52       13        44        0   \n",
       "15680       10        0         0          2       10         0        0   \n",
       "15681      161       64       217        119       61        69     1660   \n",
       "\n",
       "       Brain1B  AB_KCs_T1  AB_KCs_T2  \n",
       "0           56        182        332  \n",
       "1           64        122        208  \n",
       "2           90        859       1366  \n",
       "3            9         24          1  \n",
       "4            1          3          7  \n",
       "...        ...        ...        ...  \n",
       "15677        0          0          0  \n",
       "15678        5          3          0  \n",
       "15679        0          0          0  \n",
       "15680        1          3          6  \n",
       "15681      794       4676       3617  \n",
       "\n",
       "[15682 rows x 102 columns]"
      ],
      "text/html": "<div>\n<style scoped>\n    .dataframe tbody tr th:only-of-type {\n        vertical-align: middle;\n    }\n\n    .dataframe tbody tr th {\n        vertical-align: top;\n    }\n\n    .dataframe thead th {\n        text-align: right;\n    }\n</style>\n<table border=\"1\" class=\"dataframe\">\n  <thead>\n    <tr style=\"text-align: right;\">\n      <th></th>\n      <th>genes</th>\n      <th>DAL1</th>\n      <th>DAL2</th>\n      <th>DAL3</th>\n      <th>DAL4</th>\n      <th>DAL5</th>\n      <th>DAL6</th>\n      <th>DAL7</th>\n      <th>DAL8</th>\n      <th>DAL9</th>\n      <th>...</th>\n      <th>V3_WF_4</th>\n      <th>V3_WF_1</th>\n      <th>R27_WF_4</th>\n      <th>c739_WF_1</th>\n      <th>V2_WF_4</th>\n      <th>R27_WF_3</th>\n      <th>Brain1A</th>\n      <th>Brain1B</th>\n      <th>AB_KCs_T1</th>\n      <th>AB_KCs_T2</th>\n    </tr>\n  </thead>\n  <tbody>\n    <tr>\n      <th>0</th>\n      <td>40421</td>\n      <td>119</td>\n      <td>140</td>\n      <td>834</td>\n      <td>256</td>\n      <td>270</td>\n      <td>13</td>\n      <td>72</td>\n      <td>328</td>\n      <td>346</td>\n      <td>...</td>\n      <td>106</td>\n      <td>218</td>\n      <td>206</td>\n      <td>98</td>\n      <td>36</td>\n      <td>94</td>\n      <td>227</td>\n      <td>56</td>\n      <td>182</td>\n      <td>332</td>\n    </tr>\n    <tr>\n      <th>1</th>\n      <td>40422</td>\n      <td>814</td>\n      <td>158</td>\n      <td>78</td>\n      <td>487</td>\n      <td>1815</td>\n      <td>233</td>\n      <td>286</td>\n      <td>1603</td>\n      <td>1848</td>\n      <td>...</td>\n      <td>282</td>\n      <td>508</td>\n      <td>542</td>\n      <td>303</td>\n      <td>116</td>\n      <td>194</td>\n      <td>213</td>\n      <td>64</td>\n      <td>122</td>\n      <td>208</td>\n    </tr>\n    <tr>\n      <th>2</th>\n      <td>40424</td>\n      <td>1094</td>\n      <td>436</td>\n      <td>945</td>\n      <td>2432</td>\n      <td>657</td>\n      <td>2503</td>\n      <td>1533</td>\n      <td>2139</td>\n      <td>660</td>\n      <td>...</td>\n      <td>37</td>\n      <td>64</td>\n      <td>81</td>\n      <td>53</td>\n      <td>20</td>\n      <td>40</td>\n      <td>176</td>\n      <td>90</td>\n      <td>859</td>\n      <td>1366</td>\n    </tr>\n    <tr>\n      <th>3</th>\n      <td>40425</td>\n      <td>26</td>\n      <td>0</td>\n      <td>1</td>\n      <td>1</td>\n      <td>0</td>\n      <td>34</td>\n      <td>26</td>\n      <td>0</td>\n      <td>85</td>\n      <td>...</td>\n      <td>11</td>\n      <td>103</td>\n      <td>46</td>\n      <td>43</td>\n      <td>4</td>\n      <td>28</td>\n      <td>11</td>\n      <td>9</td>\n      <td>24</td>\n      <td>1</td>\n    </tr>\n    <tr>\n      <th>4</th>\n      <td>40512</td>\n      <td>0</td>\n      <td>3</td>\n      <td>4</td>\n      <td>1</td>\n      <td>0</td>\n      <td>3</td>\n      <td>0</td>\n      <td>0</td>\n      <td>0</td>\n      <td>...</td>\n      <td>2201</td>\n      <td>190</td>\n      <td>1892</td>\n      <td>842</td>\n      <td>124</td>\n      <td>1625</td>\n      <td>1</td>\n      <td>1</td>\n      <td>3</td>\n      <td>7</td>\n    </tr>\n    <tr>\n      <th>...</th>\n      <td>...</td>\n      <td>...</td>\n      <td>...</td>\n      <td>...</td>\n      <td>...</td>\n      <td>...</td>\n      <td>...</td>\n      <td>...</td>\n      <td>...</td>\n      <td>...</td>\n      <td>...</td>\n      <td>...</td>\n      <td>...</td>\n      <td>...</td>\n      <td>...</td>\n      <td>...</td>\n      <td>...</td>\n      <td>...</td>\n      <td>...</td>\n      <td>...</td>\n      <td>...</td>\n    </tr>\n    <tr>\n      <th>15677</th>\n      <td>zuc</td>\n      <td>3</td>\n      <td>0</td>\n      <td>1</td>\n      <td>9</td>\n      <td>4</td>\n      <td>1</td>\n      <td>6</td>\n      <td>6</td>\n      <td>2</td>\n      <td>...</td>\n      <td>9</td>\n      <td>57</td>\n      <td>34</td>\n      <td>37</td>\n      <td>5</td>\n      <td>31</td>\n      <td>0</td>\n      <td>0</td>\n      <td>0</td>\n      <td>0</td>\n    </tr>\n    <tr>\n      <th>15678</th>\n      <td>Zw</td>\n      <td>174</td>\n      <td>3</td>\n      <td>1</td>\n      <td>81</td>\n      <td>6</td>\n      <td>8</td>\n      <td>0</td>\n      <td>29</td>\n      <td>26</td>\n      <td>...</td>\n      <td>280</td>\n      <td>231</td>\n      <td>271</td>\n      <td>80</td>\n      <td>100</td>\n      <td>45</td>\n      <td>2</td>\n      <td>5</td>\n      <td>3</td>\n      <td>0</td>\n    </tr>\n    <tr>\n      <th>15679</th>\n      <td>zwilch</td>\n      <td>0</td>\n      <td>0</td>\n      <td>0</td>\n      <td>0</td>\n      <td>0</td>\n      <td>0</td>\n      <td>0</td>\n      <td>0</td>\n      <td>0</td>\n      <td>...</td>\n      <td>27</td>\n      <td>127</td>\n      <td>48</td>\n      <td>52</td>\n      <td>13</td>\n      <td>44</td>\n      <td>0</td>\n      <td>0</td>\n      <td>0</td>\n      <td>0</td>\n    </tr>\n    <tr>\n      <th>15680</th>\n      <td>zye</td>\n      <td>0</td>\n      <td>0</td>\n      <td>0</td>\n      <td>6</td>\n      <td>0</td>\n      <td>0</td>\n      <td>0</td>\n      <td>10</td>\n      <td>6</td>\n      <td>...</td>\n      <td>10</td>\n      <td>0</td>\n      <td>0</td>\n      <td>2</td>\n      <td>10</td>\n      <td>0</td>\n      <td>0</td>\n      <td>1</td>\n      <td>3</td>\n      <td>6</td>\n    </tr>\n    <tr>\n      <th>15681</th>\n      <td>Zyx</td>\n      <td>178</td>\n      <td>1628</td>\n      <td>825</td>\n      <td>5162</td>\n      <td>2314</td>\n      <td>1427</td>\n      <td>1747</td>\n      <td>2140</td>\n      <td>1652</td>\n      <td>...</td>\n      <td>161</td>\n      <td>64</td>\n      <td>217</td>\n      <td>119</td>\n      <td>61</td>\n      <td>69</td>\n      <td>1660</td>\n      <td>794</td>\n      <td>4676</td>\n      <td>3617</td>\n    </tr>\n  </tbody>\n</table>\n<p>15682 rows × 102 columns</p>\n</div>"
     },
     "metadata": {},
     "execution_count": 4
    }
   ],
   "source": [
    "# Remove rows full of zeros\n",
    "read_counts = read_counts.loc[~(read_counts==0.0).all(axis=1)]\n",
    "read_counts"
   ]
  },
  {
   "cell_type": "code",
   "execution_count": 5,
   "metadata": {},
   "outputs": [
    {
     "output_type": "execute_result",
     "data": {
      "text/plain": [
       "   genes  DAL_1  DAL_2  DAL_3  DAL_4  DAL_5  DAL_6  DAL_7  DAL_8  DAL_9  ...  \\\n",
       "0  40421    119    140    834    256    270     13     72    328    346  ...   \n",
       "1  40422    814    158     78    487   1815    233    286   1603   1848  ...   \n",
       "2  40424   1094    436    945   2432    657   2503   1533   2139    660  ...   \n",
       "3  40425     26      0      1      1      0     34     26      0     85  ...   \n",
       "4  40512      0      3      4      1      0      3      0      0      0  ...   \n",
       "\n",
       "   V3_WF_4  V3_WF_1  R27_WF_4  c739_WF_1  V2_WF_4  R27_WF_3  Brain1A  Brain1B  \\\n",
       "0      106      218       206         98       36        94      227       56   \n",
       "1      282      508       542        303      116       194      213       64   \n",
       "2       37       64        81         53       20        40      176       90   \n",
       "3       11      103        46         43        4        28       11        9   \n",
       "4     2201      190      1892        842      124      1625        1        1   \n",
       "\n",
       "   AB_KCs__T1  AB_KCs__T2  \n",
       "0         182         332  \n",
       "1         122         208  \n",
       "2         859        1366  \n",
       "3          24           1  \n",
       "4           3           7  \n",
       "\n",
       "[5 rows x 102 columns]"
      ],
      "text/html": "<div>\n<style scoped>\n    .dataframe tbody tr th:only-of-type {\n        vertical-align: middle;\n    }\n\n    .dataframe tbody tr th {\n        vertical-align: top;\n    }\n\n    .dataframe thead th {\n        text-align: right;\n    }\n</style>\n<table border=\"1\" class=\"dataframe\">\n  <thead>\n    <tr style=\"text-align: right;\">\n      <th></th>\n      <th>genes</th>\n      <th>DAL_1</th>\n      <th>DAL_2</th>\n      <th>DAL_3</th>\n      <th>DAL_4</th>\n      <th>DAL_5</th>\n      <th>DAL_6</th>\n      <th>DAL_7</th>\n      <th>DAL_8</th>\n      <th>DAL_9</th>\n      <th>...</th>\n      <th>V3_WF_4</th>\n      <th>V3_WF_1</th>\n      <th>R27_WF_4</th>\n      <th>c739_WF_1</th>\n      <th>V2_WF_4</th>\n      <th>R27_WF_3</th>\n      <th>Brain1A</th>\n      <th>Brain1B</th>\n      <th>AB_KCs__T1</th>\n      <th>AB_KCs__T2</th>\n    </tr>\n  </thead>\n  <tbody>\n    <tr>\n      <th>0</th>\n      <td>40421</td>\n      <td>119</td>\n      <td>140</td>\n      <td>834</td>\n      <td>256</td>\n      <td>270</td>\n      <td>13</td>\n      <td>72</td>\n      <td>328</td>\n      <td>346</td>\n      <td>...</td>\n      <td>106</td>\n      <td>218</td>\n      <td>206</td>\n      <td>98</td>\n      <td>36</td>\n      <td>94</td>\n      <td>227</td>\n      <td>56</td>\n      <td>182</td>\n      <td>332</td>\n    </tr>\n    <tr>\n      <th>1</th>\n      <td>40422</td>\n      <td>814</td>\n      <td>158</td>\n      <td>78</td>\n      <td>487</td>\n      <td>1815</td>\n      <td>233</td>\n      <td>286</td>\n      <td>1603</td>\n      <td>1848</td>\n      <td>...</td>\n      <td>282</td>\n      <td>508</td>\n      <td>542</td>\n      <td>303</td>\n      <td>116</td>\n      <td>194</td>\n      <td>213</td>\n      <td>64</td>\n      <td>122</td>\n      <td>208</td>\n    </tr>\n    <tr>\n      <th>2</th>\n      <td>40424</td>\n      <td>1094</td>\n      <td>436</td>\n      <td>945</td>\n      <td>2432</td>\n      <td>657</td>\n      <td>2503</td>\n      <td>1533</td>\n      <td>2139</td>\n      <td>660</td>\n      <td>...</td>\n      <td>37</td>\n      <td>64</td>\n      <td>81</td>\n      <td>53</td>\n      <td>20</td>\n      <td>40</td>\n      <td>176</td>\n      <td>90</td>\n      <td>859</td>\n      <td>1366</td>\n    </tr>\n    <tr>\n      <th>3</th>\n      <td>40425</td>\n      <td>26</td>\n      <td>0</td>\n      <td>1</td>\n      <td>1</td>\n      <td>0</td>\n      <td>34</td>\n      <td>26</td>\n      <td>0</td>\n      <td>85</td>\n      <td>...</td>\n      <td>11</td>\n      <td>103</td>\n      <td>46</td>\n      <td>43</td>\n      <td>4</td>\n      <td>28</td>\n      <td>11</td>\n      <td>9</td>\n      <td>24</td>\n      <td>1</td>\n    </tr>\n    <tr>\n      <th>4</th>\n      <td>40512</td>\n      <td>0</td>\n      <td>3</td>\n      <td>4</td>\n      <td>1</td>\n      <td>0</td>\n      <td>3</td>\n      <td>0</td>\n      <td>0</td>\n      <td>0</td>\n      <td>...</td>\n      <td>2201</td>\n      <td>190</td>\n      <td>1892</td>\n      <td>842</td>\n      <td>124</td>\n      <td>1625</td>\n      <td>1</td>\n      <td>1</td>\n      <td>3</td>\n      <td>7</td>\n    </tr>\n  </tbody>\n</table>\n<p>5 rows × 102 columns</p>\n</div>"
     },
     "metadata": {},
     "execution_count": 5
    }
   ],
   "source": [
    "# Homogenize the nomenclature of the columns to store for storing and further analysis\n",
    "read_counts.columns = read_counts.columns.str.replace('DAL', 'DAL_')\n",
    "read_counts.columns = read_counts.columns.str.replace('AB_KCs', 'AB_KCs_')\n",
    "read_counts.columns = read_counts.columns.str.replace('G_KCs', 'G_KCs_')\n",
    "read_counts.head()"
   ]
  },
  {
   "cell_type": "code",
   "execution_count": 6,
   "metadata": {},
   "outputs": [
    {
     "output_type": "execute_result",
     "data": {
      "text/plain": [
       "Index(['genes', 'DAL_1', 'DAL_2', 'DAL_3', 'DAL_4', 'DAL_5', 'DAL_6', 'DAL_7',\n",
       "       'DAL_8', 'DAL_9', 'DAL_10', 'V2_1', 'V2_2', 'V2_3', 'V2_4', 'V2_5',\n",
       "       'V2_6', 'V2_7', 'V2_8', 'V2_9', 'V2_10', 'AB_KCs_1', 'AB_KCs_2',\n",
       "       'AB_KCs_3', 'AB_KCs_4', 'AB_KCs_5', 'AB_KCs_6', 'AB_KCs_7', 'AB_KCs_8',\n",
       "       'AB_KCs_9', 'AB_KCs_10', 'G_KCs_1', 'G_KCs_2', 'G_KCs_3', 'G_KCs_4',\n",
       "       'G_KCs_5', 'G_KCs_6', 'G_KCs_7', 'G_KCs_8', 'G_KCs_9', 'G_KCs_10',\n",
       "       'G_KCs_11', 'G_KCs_12', 'V3_1', 'V3_2', 'V3_3', 'V3_4', 'V3_5', 'V3_6',\n",
       "       'V3_7', 'V3_8', 'V3_9', 'V3_10', 'R27_1', 'R27_2', 'R27_3', 'R27_4',\n",
       "       'R27_5', 'R27_6', 'R27_7', 'R27_8', 'G386_1', 'G386_2', 'G386_3',\n",
       "       'G386_4', 'G386_5', 'G386_6', 'G386_7', 'G386_8', 'G386_9', 'G386_10'],\n",
       "      dtype='object')"
      ]
     },
     "metadata": {},
     "execution_count": 6
    }
   ],
   "source": [
    "# for the moment\n",
    "read_counts = read_counts[read_counts.columns[:71]].copy() # keep all the samples or just neuron samples?\n",
    "read_counts.columns"
   ]
  },
  {
   "cell_type": "code",
   "execution_count": 17,
   "metadata": {},
   "outputs": [
    {
     "output_type": "stream",
     "name": "stdout",
     "text": [
      "15682 genes are present in this expression data\n"
     ]
    }
   ],
   "source": [
    "nbr_expressed_genes_all = read_counts.shape[0]\n",
    "print(str(nbr_expressed_genes_all) + \" genes are present in this expression data\")"
   ]
  },
  {
   "cell_type": "code",
   "execution_count": 8,
   "metadata": {},
   "outputs": [],
   "source": [
    "# Save the processed data frame \"read_counts\" in a txt file\n",
    "\n",
    "if os.path.isfile('data/processed_read_counts_all_genes.txt'):\n",
    "    print (\"File already exists\")\n",
    "else:\n",
    "    read_counts.to_csv('data/processed_read_counts_all_genes.txt', header=True, index=False, sep='\\t', mode='a')"
   ]
  },
  {
   "cell_type": "code",
   "execution_count": 9,
   "metadata": {},
   "outputs": [
    {
     "output_type": "execute_result",
     "data": {
      "text/plain": [
       "  #SUBMITTED ID     FBID_KEY                                 NAME SYMBOL\n",
       "0   FBgn0000017  FBgn0000017                  Abl tyrosine kinase    Abl\n",
       "1   FBgn0000108  FBgn0000108  beta amyloid protein precursor-like   Appl\n",
       "2   FBgn0000117  FBgn0000117                            armadillo    arm\n",
       "3   FBgn0000119  FBgn0000119                                arrow    arr\n",
       "4   FBgn0000229  FBgn0000229                               basket    bsk"
      ],
      "text/html": "<div>\n<style scoped>\n    .dataframe tbody tr th:only-of-type {\n        vertical-align: middle;\n    }\n\n    .dataframe tbody tr th {\n        vertical-align: top;\n    }\n\n    .dataframe thead th {\n        text-align: right;\n    }\n</style>\n<table border=\"1\" class=\"dataframe\">\n  <thead>\n    <tr style=\"text-align: right;\">\n      <th></th>\n      <th>#SUBMITTED ID</th>\n      <th>FBID_KEY</th>\n      <th>NAME</th>\n      <th>SYMBOL</th>\n    </tr>\n  </thead>\n  <tbody>\n    <tr>\n      <th>0</th>\n      <td>FBgn0000017</td>\n      <td>FBgn0000017</td>\n      <td>Abl tyrosine kinase</td>\n      <td>Abl</td>\n    </tr>\n    <tr>\n      <th>1</th>\n      <td>FBgn0000108</td>\n      <td>FBgn0000108</td>\n      <td>beta amyloid protein precursor-like</td>\n      <td>Appl</td>\n    </tr>\n    <tr>\n      <th>2</th>\n      <td>FBgn0000117</td>\n      <td>FBgn0000117</td>\n      <td>armadillo</td>\n      <td>arm</td>\n    </tr>\n    <tr>\n      <th>3</th>\n      <td>FBgn0000119</td>\n      <td>FBgn0000119</td>\n      <td>arrow</td>\n      <td>arr</td>\n    </tr>\n    <tr>\n      <th>4</th>\n      <td>FBgn0000229</td>\n      <td>FBgn0000229</td>\n      <td>basket</td>\n      <td>bsk</td>\n    </tr>\n  </tbody>\n</table>\n</div>"
     },
     "metadata": {},
     "execution_count": 9
    }
   ],
   "source": [
    "# Names of genes related to cognition from FlyBase (names converted on flybase.org directly)\n",
    "cognition_genes = pd.read_csv(PATH + COGNITION_GENE_NAMES, delimiter = '\\t')\n",
    "cognition_genes.head()"
   ]
  },
  {
   "cell_type": "code",
   "execution_count": 10,
   "metadata": {},
   "outputs": [],
   "source": [
    "# Store the gene names in a list\n",
    "cognition_gene_names = list(cognition_genes['SYMBOL'])"
   ]
  },
  {
   "cell_type": "code",
   "execution_count": 11,
   "metadata": {},
   "outputs": [
    {
     "output_type": "execute_result",
     "data": {
      "text/plain": [
       "            genes  DAL_1  DAL_2  DAL_3   DAL_4  DAL_5  DAL_6  DAL_7  DAL_8  \\\n",
       "8      14-3-3zeta  26376  26104  32690  112973  37716  31467  36564  39539   \n",
       "11           2mit    715   2379   1094    9603   2727   2606   2966   2053   \n",
       "14         5-HT1A    128     30    619    2286     74    688    588    463   \n",
       "158           Abl    192    654    244     844    122    140    163    545   \n",
       "227          Adf1   1338    291    133    1255    615    798    860   1236   \n",
       "...           ...    ...    ...    ...     ...    ...    ...    ...    ...   \n",
       "15514          vn      0    313      0       1      0      4     50      0   \n",
       "15534         vsg   2712   3555   5633    5911   3294   4674   1313  12345   \n",
       "15541           w      3     58     24      40     86      0     29      8   \n",
       "15567          wg      0      0      0       0      0      0      0      0   \n",
       "15579         wnd      0    616    137     120     84     67    234    317   \n",
       "\n",
       "       DAL_9  ...  G386_1  G386_2  G386_3  G386_4  G386_5  G386_6  G386_7  \\\n",
       "8      42445  ...   14006   19955   35952   28793   18268   36185   11075   \n",
       "11      2571  ...    1277    1325    1536    3578    2590    1373     830   \n",
       "14       339  ...    1451     817    2783    3408    6200    2158     269   \n",
       "158      257  ...       1      11     274     878     327       2       0   \n",
       "227     1450  ...       0      18       5     459     136     757     342   \n",
       "...      ...  ...     ...     ...     ...     ...     ...     ...     ...   \n",
       "15514      0  ...       0       0       1     598       0       8       0   \n",
       "15534   3382  ...    3473    2457    1363    4866    2555    3324    1936   \n",
       "15541     19  ...      90      69     604     877     154     189      10   \n",
       "15567      0  ...       0       0       0       0       0       0       0   \n",
       "15579    298  ...       6       4      32      13     330     852      27   \n",
       "\n",
       "       G386_8  G386_9  G386_10  \n",
       "8       42853   17591     6861  \n",
       "11       4882    4421      521  \n",
       "14       3994    3435       64  \n",
       "158       372      44        3  \n",
       "227         2       1      436  \n",
       "...       ...     ...      ...  \n",
       "15514       0       6      251  \n",
       "15534    3316    1055     2761  \n",
       "15541     792    1001        1  \n",
       "15567       0       0        1  \n",
       "15579     147      49        5  \n",
       "\n",
       "[137 rows x 71 columns]"
      ],
      "text/html": "<div>\n<style scoped>\n    .dataframe tbody tr th:only-of-type {\n        vertical-align: middle;\n    }\n\n    .dataframe tbody tr th {\n        vertical-align: top;\n    }\n\n    .dataframe thead th {\n        text-align: right;\n    }\n</style>\n<table border=\"1\" class=\"dataframe\">\n  <thead>\n    <tr style=\"text-align: right;\">\n      <th></th>\n      <th>genes</th>\n      <th>DAL_1</th>\n      <th>DAL_2</th>\n      <th>DAL_3</th>\n      <th>DAL_4</th>\n      <th>DAL_5</th>\n      <th>DAL_6</th>\n      <th>DAL_7</th>\n      <th>DAL_8</th>\n      <th>DAL_9</th>\n      <th>...</th>\n      <th>G386_1</th>\n      <th>G386_2</th>\n      <th>G386_3</th>\n      <th>G386_4</th>\n      <th>G386_5</th>\n      <th>G386_6</th>\n      <th>G386_7</th>\n      <th>G386_8</th>\n      <th>G386_9</th>\n      <th>G386_10</th>\n    </tr>\n  </thead>\n  <tbody>\n    <tr>\n      <th>8</th>\n      <td>14-3-3zeta</td>\n      <td>26376</td>\n      <td>26104</td>\n      <td>32690</td>\n      <td>112973</td>\n      <td>37716</td>\n      <td>31467</td>\n      <td>36564</td>\n      <td>39539</td>\n      <td>42445</td>\n      <td>...</td>\n      <td>14006</td>\n      <td>19955</td>\n      <td>35952</td>\n      <td>28793</td>\n      <td>18268</td>\n      <td>36185</td>\n      <td>11075</td>\n      <td>42853</td>\n      <td>17591</td>\n      <td>6861</td>\n    </tr>\n    <tr>\n      <th>11</th>\n      <td>2mit</td>\n      <td>715</td>\n      <td>2379</td>\n      <td>1094</td>\n      <td>9603</td>\n      <td>2727</td>\n      <td>2606</td>\n      <td>2966</td>\n      <td>2053</td>\n      <td>2571</td>\n      <td>...</td>\n      <td>1277</td>\n      <td>1325</td>\n      <td>1536</td>\n      <td>3578</td>\n      <td>2590</td>\n      <td>1373</td>\n      <td>830</td>\n      <td>4882</td>\n      <td>4421</td>\n      <td>521</td>\n    </tr>\n    <tr>\n      <th>14</th>\n      <td>5-HT1A</td>\n      <td>128</td>\n      <td>30</td>\n      <td>619</td>\n      <td>2286</td>\n      <td>74</td>\n      <td>688</td>\n      <td>588</td>\n      <td>463</td>\n      <td>339</td>\n      <td>...</td>\n      <td>1451</td>\n      <td>817</td>\n      <td>2783</td>\n      <td>3408</td>\n      <td>6200</td>\n      <td>2158</td>\n      <td>269</td>\n      <td>3994</td>\n      <td>3435</td>\n      <td>64</td>\n    </tr>\n    <tr>\n      <th>158</th>\n      <td>Abl</td>\n      <td>192</td>\n      <td>654</td>\n      <td>244</td>\n      <td>844</td>\n      <td>122</td>\n      <td>140</td>\n      <td>163</td>\n      <td>545</td>\n      <td>257</td>\n      <td>...</td>\n      <td>1</td>\n      <td>11</td>\n      <td>274</td>\n      <td>878</td>\n      <td>327</td>\n      <td>2</td>\n      <td>0</td>\n      <td>372</td>\n      <td>44</td>\n      <td>3</td>\n    </tr>\n    <tr>\n      <th>227</th>\n      <td>Adf1</td>\n      <td>1338</td>\n      <td>291</td>\n      <td>133</td>\n      <td>1255</td>\n      <td>615</td>\n      <td>798</td>\n      <td>860</td>\n      <td>1236</td>\n      <td>1450</td>\n      <td>...</td>\n      <td>0</td>\n      <td>18</td>\n      <td>5</td>\n      <td>459</td>\n      <td>136</td>\n      <td>757</td>\n      <td>342</td>\n      <td>2</td>\n      <td>1</td>\n      <td>436</td>\n    </tr>\n    <tr>\n      <th>...</th>\n      <td>...</td>\n      <td>...</td>\n      <td>...</td>\n      <td>...</td>\n      <td>...</td>\n      <td>...</td>\n      <td>...</td>\n      <td>...</td>\n      <td>...</td>\n      <td>...</td>\n      <td>...</td>\n      <td>...</td>\n      <td>...</td>\n      <td>...</td>\n      <td>...</td>\n      <td>...</td>\n      <td>...</td>\n      <td>...</td>\n      <td>...</td>\n      <td>...</td>\n      <td>...</td>\n    </tr>\n    <tr>\n      <th>15514</th>\n      <td>vn</td>\n      <td>0</td>\n      <td>313</td>\n      <td>0</td>\n      <td>1</td>\n      <td>0</td>\n      <td>4</td>\n      <td>50</td>\n      <td>0</td>\n      <td>0</td>\n      <td>...</td>\n      <td>0</td>\n      <td>0</td>\n      <td>1</td>\n      <td>598</td>\n      <td>0</td>\n      <td>8</td>\n      <td>0</td>\n      <td>0</td>\n      <td>6</td>\n      <td>251</td>\n    </tr>\n    <tr>\n      <th>15534</th>\n      <td>vsg</td>\n      <td>2712</td>\n      <td>3555</td>\n      <td>5633</td>\n      <td>5911</td>\n      <td>3294</td>\n      <td>4674</td>\n      <td>1313</td>\n      <td>12345</td>\n      <td>3382</td>\n      <td>...</td>\n      <td>3473</td>\n      <td>2457</td>\n      <td>1363</td>\n      <td>4866</td>\n      <td>2555</td>\n      <td>3324</td>\n      <td>1936</td>\n      <td>3316</td>\n      <td>1055</td>\n      <td>2761</td>\n    </tr>\n    <tr>\n      <th>15541</th>\n      <td>w</td>\n      <td>3</td>\n      <td>58</td>\n      <td>24</td>\n      <td>40</td>\n      <td>86</td>\n      <td>0</td>\n      <td>29</td>\n      <td>8</td>\n      <td>19</td>\n      <td>...</td>\n      <td>90</td>\n      <td>69</td>\n      <td>604</td>\n      <td>877</td>\n      <td>154</td>\n      <td>189</td>\n      <td>10</td>\n      <td>792</td>\n      <td>1001</td>\n      <td>1</td>\n    </tr>\n    <tr>\n      <th>15567</th>\n      <td>wg</td>\n      <td>0</td>\n      <td>0</td>\n      <td>0</td>\n      <td>0</td>\n      <td>0</td>\n      <td>0</td>\n      <td>0</td>\n      <td>0</td>\n      <td>0</td>\n      <td>...</td>\n      <td>0</td>\n      <td>0</td>\n      <td>0</td>\n      <td>0</td>\n      <td>0</td>\n      <td>0</td>\n      <td>0</td>\n      <td>0</td>\n      <td>0</td>\n      <td>1</td>\n    </tr>\n    <tr>\n      <th>15579</th>\n      <td>wnd</td>\n      <td>0</td>\n      <td>616</td>\n      <td>137</td>\n      <td>120</td>\n      <td>84</td>\n      <td>67</td>\n      <td>234</td>\n      <td>317</td>\n      <td>298</td>\n      <td>...</td>\n      <td>6</td>\n      <td>4</td>\n      <td>32</td>\n      <td>13</td>\n      <td>330</td>\n      <td>852</td>\n      <td>27</td>\n      <td>147</td>\n      <td>49</td>\n      <td>5</td>\n    </tr>\n  </tbody>\n</table>\n<p>137 rows × 71 columns</p>\n</div>"
     },
     "metadata": {},
     "execution_count": 11
    }
   ],
   "source": [
    "# Keep only data about genes related to cognition\n",
    "cognition_data = read_counts[read_counts['genes'].isin(cognition_gene_names)].copy()\n",
    "cognition_data"
   ]
  },
  {
   "cell_type": "code",
   "execution_count": 15,
   "metadata": {},
   "outputs": [
    {
     "output_type": "stream",
     "name": "stdout",
     "text": [
      "137 genes of this expression data are genes related to cognition \n"
     ]
    }
   ],
   "source": [
    "nbr_expressed_genes_cognition = cognition_data.shape[0]\n",
    "print(str(nbr_expressed_genes_cognition) + \" genes of this expression data are genes related to cognition \")"
   ]
  },
  {
   "cell_type": "code",
   "execution_count": 12,
   "metadata": {},
   "outputs": [
    {
     "output_type": "stream",
     "name": "stdout",
     "text": [
      "File already exists\n"
     ]
    }
   ],
   "source": [
    "# Save the processed data frame \"neuron_samples_cognition\" in a txt file\n",
    "\n",
    "if os.path.isfile('data/processed_read_counts_cognition.txt'):\n",
    "    print (\"File already exists\")\n",
    "else:\n",
    "    cognition_data.to_csv('data/processed_read_counts_cognition.txt', header=True, index=False, sep='\\t', mode='a')"
   ]
  },
  {
   "cell_type": "code",
   "execution_count": null,
   "metadata": {},
   "outputs": [],
   "source": []
  }
 ],
 "metadata": {
  "kernelspec": {
   "name": "python385jvsc74a57bd024ca4be73995f5f6c55b5047f39da87722f02f9d48b69a91b127def2869ddebf",
   "display_name": "Python 3.8.5 64-bit ('ada': conda)"
  },
  "language_info": {
   "codemirror_mode": {
    "name": "ipython",
    "version": 3
   },
   "file_extension": ".py",
   "mimetype": "text/x-python",
   "name": "python",
   "nbconvert_exporter": "python",
   "pygments_lexer": "ipython3",
   "version": "3.8.5"
  }
 },
 "nbformat": 4,
 "nbformat_minor": 4
}