{
 "cells": [
  {
   "cell_type": "code",
   "execution_count": 1,
   "metadata": {},
   "outputs": [],
   "source": [
    "import numpy as np\n",
    "import pandas as pd\n",
    "import seaborn as sns\n",
    "import os.path"
   ]
  },
  {
   "cell_type": "code",
   "execution_count": 11,
   "metadata": {},
   "outputs": [],
   "source": [
    "PATH = \"./data/\"\n",
    "PATH_MY_DGE = \"./data/DESeq_results/\"\n",
    "\n",
    "# LRT results\n",
    "LRT_NEURON_TYPE = \"LRT/neuron_type/DESeq_output.xlsx\"\n",
    "LRT_TREATMENT = \"LRT/treatment/DESeq_output.xlsx\"\n",
    "LRT_INTERACTION = \"LRT/interaction/DESeq_output.xlsx\"\n",
    "\n",
    "# Mean vs neuron_type results\n",
    "MEAN_DAL = \"mean/DAL/res_mean.xlsx\"\n",
    "MEAN_V2 = \"mean/V2/res_mean.xlsx\"\n",
    "MEAN_V3 = \"mean/V3/res_mean.xlsx\"\n",
    "MEAN_AB_KCs = \"mean/AB_KCs/res_mean.xlsx\"\n",
    "MEAN_G_KCs = \"mean/G_KCs/res_mean.xlsx\"\n",
    "MEAN_R27 = \"mean/R27/res_mean.xlsx\"\n",
    "MEAN_G386 = \"mean/G386/res_mean.xlsx\"\n",
    "\n",
    "# Wald pairwise tests\n",
    "PAIRWISE_DAL = \"pairwise/res_DAL_\"\n",
    "PAIRWISE_V2 = \"pairwise/res_V2_\"\n",
    "PAIRWISE_V3 = \"pairwise/res_V3_\"\n",
    "PAIRWISE_AB_KCs = \"pairwise/res_AB_KCs_\"\n",
    "PAIRWISE_G_KCs = \"pairwise/res_G_KCs_\"\n",
    "PAIRWISE_R27 = \"pairwise/res_R27_\"\n",
    "PAIRWISE_G386 = \"pairwise/res_G386_\"\n",
    "\n",
    "# Training data of the suppl. material\n",
    "DGE_PAPER = \"./data/NIHMS780544-supplement-5.xlsx\"\n",
    "\n",
    "# List of genes names related to cognition from FlyBase.org\n",
    "COGNITION_GENE_NAMES = \"FlyBase_Fields_download.txt\""
   ]
  },
  {
   "cell_type": "code",
   "execution_count": 7,
   "metadata": {},
   "outputs": [],
   "source": [
    "NB_COGNITION_GENES = 137\n",
    "NB_GENES = 15682"
   ]
  },
  {
   "source": [
    "Load names of genes related to cognition:"
   ],
   "cell_type": "markdown",
   "metadata": {}
  },
  {
   "cell_type": "code",
   "execution_count": 8,
   "metadata": {},
   "outputs": [],
   "source": [
    "# Names of genes related to cognition from FlyBase (names converted on flybase.org directly)\n",
    "cognition_genes = pd.read_csv(PATH + COGNITION_GENE_NAMES, delimiter = '\\t')\n",
    "#  Store these gene names in a list\n",
    "cognition_gene_names = list(cognition_genes['SYMBOL'])"
   ]
  },
  {
   "source": [
    "Utilitary functions:"
   ],
   "cell_type": "markdown",
   "metadata": {}
  },
  {
   "cell_type": "code",
   "execution_count": 9,
   "metadata": {},
   "outputs": [],
   "source": [
    "def compute_contingency_table(results_table):\n",
    "    nb_sig = results_table.shape[0]\n",
    "\n",
    "    results_table_cognition = results_table[results_table['gene'].isin(cognition_gene_names)].copy()\n",
    "    nb_cognition_sig = results_table_cognition.shape[0]\n",
    "    nb_cognition_non_sig = NB_COGNITION_GENES - nb_cognition_sig\n",
    "\n",
    "    results_table_non_cognition = results_table[~results_table['gene'].isin(cognition_gene_names)].copy()\n",
    "    nb_non_cognition_sig = nb_sig - nb_cognition_sig\n",
    "    nb_non_cognition_non_sig = NB_GENES - NB_COGNITION_GENES - nb_non_cognition_sig\n",
    "\n",
    "    contingency_table = pd.DataFrame()\n",
    "    contingency_table['names'] = ['cognition', 'non-cognition']\n",
    "    contingency_table['significant'] = [nb_cognition_sig, nb_non_cognition_sig]\n",
    "    contingency_table['non-significant'] = [nb_cognition_non_sig, nb_non_cognition_non_sig]\n",
    "    contingency_table.set_index('names', inplace=True)\n",
    "\n",
    "    return contingency_table"
   ]
  },
  {
   "cell_type": "code",
   "execution_count": 10,
   "metadata": {},
   "outputs": [],
   "source": [
    "def compute_odds_ratio(contingency_table):\n",
    "    odd_numerator = contingency_table.iloc[0,0] / contingency_table.iloc[1,0]\n",
    "    odd_denominator = contingency_table.iloc[0,1] / contingency_table.iloc[1,1]\n",
    "    odds_ratio = odd_numerator / odd_denominator\n",
    "    return odds_ratio"
   ]
  },
  {
   "cell_type": "code",
   "execution_count": 29,
   "metadata": {},
   "outputs": [],
   "source": [
    "def top_list_genes(results_table):\n",
    "    results_table.sort_values(by=['padj'], inplace=True)\n",
    "    top_20 = results_table.head(20).copy()\n",
    "    top_cognition = top_20[top_20['gene'].isin(cognition_gene_names)].copy()\n",
    "    ratio_cognition = top_cognition.shape[0]/20\n",
    "    return top_20, top_cognition, ratio_cognition"
   ]
  },
  {
   "source": [
    "# 1) LRT TESTS"
   ],
   "cell_type": "markdown",
   "metadata": {}
  },
  {
   "source": [
    "## a) Effect of neuron_type"
   ],
   "cell_type": "markdown",
   "metadata": {}
  },
  {
   "cell_type": "code",
   "execution_count": 42,
   "metadata": {},
   "outputs": [
    {
     "output_type": "execute_result",
     "data": {
      "text/plain": [
       "               gene      baseMean  log2FoldChange     lfcSE        stat  \\\n",
       "0             40512     15.273559       19.183609  2.879341   17.970839   \n",
       "1             128up    166.372302        0.759255  0.678395   22.132593   \n",
       "2     14-3-3epsilon  11584.976852        0.059121  0.172566   20.264403   \n",
       "3        14-3-3zeta  58800.016238       -1.867902  0.165862  383.209783   \n",
       "4              2mit   5687.472251       -2.184018  0.308143  134.197652   \n",
       "...             ...           ...             ...       ...         ...   \n",
       "4430           zfh2   1369.012103       -0.957744  0.441119   62.189454   \n",
       "4431         ZnT63C    564.227619       -1.801210  0.484022   29.477366   \n",
       "4432         zormin     38.535995        0.749091  0.950265   27.286527   \n",
       "4433             Zw     58.897987        2.226988  1.447630   27.129564   \n",
       "4434            Zyx   2661.899122       -0.588232  0.309583   21.368976   \n",
       "\n",
       "            pvalue          padj  \n",
       "0     6.305485e-03  1.751580e-02  \n",
       "1     1.145669e-03  3.903124e-03  \n",
       "2     2.484639e-03  7.696410e-03  \n",
       "3     1.135976e-79  2.372373e-76  \n",
       "4     1.677618e-26  7.268750e-25  \n",
       "...            ...           ...  \n",
       "4430  1.614323e-11  1.765106e-10  \n",
       "4431  4.940009e-05  2.286506e-04  \n",
       "4432  1.279595e-04  5.418300e-04  \n",
       "4433  1.369338e-04  5.770227e-04  \n",
       "4434  1.574507e-03  5.144243e-03  \n",
       "\n",
       "[4435 rows x 7 columns]"
      ],
      "text/html": "<div>\n<style scoped>\n    .dataframe tbody tr th:only-of-type {\n        vertical-align: middle;\n    }\n\n    .dataframe tbody tr th {\n        vertical-align: top;\n    }\n\n    .dataframe thead th {\n        text-align: right;\n    }\n</style>\n<table border=\"1\" class=\"dataframe\">\n  <thead>\n    <tr style=\"text-align: right;\">\n      <th></th>\n      <th>gene</th>\n      <th>baseMean</th>\n      <th>log2FoldChange</th>\n      <th>lfcSE</th>\n      <th>stat</th>\n      <th>pvalue</th>\n      <th>padj</th>\n    </tr>\n  </thead>\n  <tbody>\n    <tr>\n      <th>0</th>\n      <td>40512</td>\n      <td>15.273559</td>\n      <td>19.183609</td>\n      <td>2.879341</td>\n      <td>17.970839</td>\n      <td>6.305485e-03</td>\n      <td>1.751580e-02</td>\n    </tr>\n    <tr>\n      <th>1</th>\n      <td>128up</td>\n      <td>166.372302</td>\n      <td>0.759255</td>\n      <td>0.678395</td>\n      <td>22.132593</td>\n      <td>1.145669e-03</td>\n      <td>3.903124e-03</td>\n    </tr>\n    <tr>\n      <th>2</th>\n      <td>14-3-3epsilon</td>\n      <td>11584.976852</td>\n      <td>0.059121</td>\n      <td>0.172566</td>\n      <td>20.264403</td>\n      <td>2.484639e-03</td>\n      <td>7.696410e-03</td>\n    </tr>\n    <tr>\n      <th>3</th>\n      <td>14-3-3zeta</td>\n      <td>58800.016238</td>\n      <td>-1.867902</td>\n      <td>0.165862</td>\n      <td>383.209783</td>\n      <td>1.135976e-79</td>\n      <td>2.372373e-76</td>\n    </tr>\n    <tr>\n      <th>4</th>\n      <td>2mit</td>\n      <td>5687.472251</td>\n      <td>-2.184018</td>\n      <td>0.308143</td>\n      <td>134.197652</td>\n      <td>1.677618e-26</td>\n      <td>7.268750e-25</td>\n    </tr>\n    <tr>\n      <th>...</th>\n      <td>...</td>\n      <td>...</td>\n      <td>...</td>\n      <td>...</td>\n      <td>...</td>\n      <td>...</td>\n      <td>...</td>\n    </tr>\n    <tr>\n      <th>4430</th>\n      <td>zfh2</td>\n      <td>1369.012103</td>\n      <td>-0.957744</td>\n      <td>0.441119</td>\n      <td>62.189454</td>\n      <td>1.614323e-11</td>\n      <td>1.765106e-10</td>\n    </tr>\n    <tr>\n      <th>4431</th>\n      <td>ZnT63C</td>\n      <td>564.227619</td>\n      <td>-1.801210</td>\n      <td>0.484022</td>\n      <td>29.477366</td>\n      <td>4.940009e-05</td>\n      <td>2.286506e-04</td>\n    </tr>\n    <tr>\n      <th>4432</th>\n      <td>zormin</td>\n      <td>38.535995</td>\n      <td>0.749091</td>\n      <td>0.950265</td>\n      <td>27.286527</td>\n      <td>1.279595e-04</td>\n      <td>5.418300e-04</td>\n    </tr>\n    <tr>\n      <th>4433</th>\n      <td>Zw</td>\n      <td>58.897987</td>\n      <td>2.226988</td>\n      <td>1.447630</td>\n      <td>27.129564</td>\n      <td>1.369338e-04</td>\n      <td>5.770227e-04</td>\n    </tr>\n    <tr>\n      <th>4434</th>\n      <td>Zyx</td>\n      <td>2661.899122</td>\n      <td>-0.588232</td>\n      <td>0.309583</td>\n      <td>21.368976</td>\n      <td>1.574507e-03</td>\n      <td>5.144243e-03</td>\n    </tr>\n  </tbody>\n</table>\n<p>4435 rows × 7 columns</p>\n</div>"
     },
     "metadata": {},
     "execution_count": 42
    }
   ],
   "source": [
    "# Load DESeq results\n",
    "genes_LRT_neuron_type = pd.read_excel(PATH_MY_DGE + LRT_NEURON_TYPE)\n",
    "genes_LRT_neuron_type"
   ]
  },
  {
   "cell_type": "code",
   "execution_count": 20,
   "metadata": {},
   "outputs": [
    {
     "output_type": "stream",
     "name": "stdout",
     "text": [
      "               significant  non-significant\nnames                                      \ncognition               81               56\nnon-cognition         4354            11191\nOdds ratio for LRT neuron_type:  3.72\n"
     ]
    }
   ],
   "source": [
    "# Build contigency table of genes significant genes vs genes related to cognition\n",
    "contingency_table_LRT_neuron_type = compute_contingency_table(genes_LRT_neuron_type)\n",
    "print(contingency_table_LRT_neuron_type)\n",
    "# Compute odds ratios of significance for the condition \"gene related to cognition\"\n",
    "odds_ratio_LRT_neuron_type = compute_odds_ratio(contingency_table_LRT_neuron_type)\n",
    "print(\"Odds ratio for LRT neuron_type:  %.2f\" % odds_ratio_LRT_neuron_type)"
   ]
  },
  {
   "cell_type": "code",
   "execution_count": 35,
   "metadata": {},
   "outputs": [
    {
     "output_type": "stream",
     "name": "stdout",
     "text": [
      "TOP 20 SIGNIFICANT:              gene      baseMean  log2FoldChange     lfcSE        stat  \\\n3582      Pka-C1  13758.814627       -3.048991  0.233290  617.644695   \n3314         mub  24535.829534       -3.540036  0.272025  600.362465   \n3413       Nplp1  10440.536927        2.587029  0.452205  487.421839   \n4346       VGlut  25766.143689        2.620154  0.329602  396.646933   \n3     14-3-3zeta  58800.016238       -1.867902  0.165862  383.209783   \n109         Appl  24678.701098       -2.092339  0.206516  372.147871   \n2640        dysc  14458.194629       -2.465205  0.241575  370.808076   \n1728      CG4577  20973.006814       -1.431690  0.349717  359.050047   \n3022         jdp  21487.406914       -4.144634  0.322294  341.926309   \n2792      Gapdh1   2868.651287        2.125477  0.235256  339.976029   \n3204        Mef2   3490.889867       -3.868042  0.334064  329.638012   \n3584      Pka-R2  13133.991016       -3.172450  0.335258  319.827760   \n2585         dnc  16732.863922       -1.734358  0.196732  318.629870   \n72           Ald  17495.929955        1.502991  0.162569  317.864401   \n3720         Rbp   6035.953383       -2.604899  0.259002  315.436711   \n3734         Rdl  26184.966497       -2.518181  0.241501  312.655571   \n4307         Ubx   3622.856686       -1.977676  0.505119  312.686660   \n2679      Eip93F   9992.995895       -3.366063  0.310902  312.160224   \n2400     CR43212     19.487941        2.681739  0.956687  299.996382   \n3585      Pkc53E   8672.833282       -3.308090  0.362057  291.210288   \n\n             pvalue           padj  \n3582  3.642156e-130  3.803139e-126  \n3314  1.947949e-126  1.017024e-122  \n3413  4.305032e-102   1.498438e-98  \n4346   1.469977e-82   3.837376e-79  \n3      1.135976e-79   2.372373e-76  \n109    2.704740e-77   4.707149e-74  \n2640   5.247380e-77   7.827592e-74  \n1728   1.759264e-74   2.296279e-71  \n3022   8.346431e-71   9.683714e-68  \n2792   2.188061e-70   2.284773e-67  \n3204   3.616342e-68   3.432895e-65  \n3584   4.596826e-66   4.000004e-63  \n2585   8.304964e-66   6.670802e-63  \n72     1.211940e-65   9.039341e-63  \n3720   4.018187e-65   2.797194e-62  \n3734   1.586003e-64   9.741787e-62  \n4307   1.561848e-64   9.741787e-62  \n2679   2.025343e-64   1.174924e-61  \n2400   8.194940e-62   4.503767e-59  \n3585   6.248533e-60   3.262359e-57   \n\nTOP COGNITION:              gene      baseMean  log2FoldChange     lfcSE        stat  \\\n3582      Pka-C1  13758.814627       -3.048991  0.233290  617.644695   \n3     14-3-3zeta  58800.016238       -1.867902  0.165862  383.209783   \n109         Appl  24678.701098       -2.092339  0.206516  372.147871   \n2585         dnc  16732.863922       -1.734358  0.196732  318.629870   \n3734         Rdl  26184.966497       -2.518181  0.241501  312.655571   \n\n             pvalue           padj  \n3582  3.642156e-130  3.803139e-126  \n3      1.135976e-79   2.372373e-76  \n109    2.704740e-77   4.707149e-74  \n2585   8.304964e-66   6.670802e-63  \n3734   1.586003e-64   9.741787e-62   \n\nRatio cognition vs non-cognition in top 20:  0.25 \n\n"
     ]
    }
   ],
   "source": [
    "# Plot the 20 most significant genes, the genes related to cognition that belong to the top significant genes, and a ratio of cognition and non-cognition genes in the top 20\n",
    "top_20_LRT_neuron_type, top_cognition_LRT_neuron_type, ratio_LRT_neuron_type = top_list_genes(genes_LRT_neuron_type)\n",
    "print(\"TOP 20 SIGNIFICANT: \", top_20_LRT_neuron_type, \"\\n\")\n",
    "print(\"TOP COGNITION: \", top_cognition_LRT_neuron_type, \"\\n\")\n",
    "print(\"Ratio cognition vs non-cognition in top 20:  %.2f\" % ratio_LRT_neuron_type, \"\\n\")"
   ]
  },
  {
   "source": [
    "## b) Effect of treatment"
   ],
   "cell_type": "markdown",
   "metadata": {}
  },
  {
   "cell_type": "code",
   "execution_count": 36,
   "metadata": {},
   "outputs": [
    {
     "output_type": "execute_result",
     "data": {
      "text/plain": [
       "Empty DataFrame\n",
       "Columns: [gene, baseMean, log2FoldChange, lfcSE, stat, pvalue, padj]\n",
       "Index: []"
      ],
      "text/html": "<div>\n<style scoped>\n    .dataframe tbody tr th:only-of-type {\n        vertical-align: middle;\n    }\n\n    .dataframe tbody tr th {\n        vertical-align: top;\n    }\n\n    .dataframe thead th {\n        text-align: right;\n    }\n</style>\n<table border=\"1\" class=\"dataframe\">\n  <thead>\n    <tr style=\"text-align: right;\">\n      <th></th>\n      <th>gene</th>\n      <th>baseMean</th>\n      <th>log2FoldChange</th>\n      <th>lfcSE</th>\n      <th>stat</th>\n      <th>pvalue</th>\n      <th>padj</th>\n    </tr>\n  </thead>\n  <tbody>\n  </tbody>\n</table>\n</div>"
     },
     "metadata": {},
     "execution_count": 36
    }
   ],
   "source": [
    "# Load DESeq results\n",
    "genes_LRT_treatment = pd.read_excel(PATH_MY_DGE + LRT_TREATMENT)\n",
    "genes_LRT_treatment.head()"
   ]
  },
  {
   "source": [
    "No significant genes (the effect of treatment is probably masked by the really bigger effect of the neuron_type)."
   ],
   "cell_type": "markdown",
   "metadata": {}
  },
  {
   "source": [
    "## c) Effect of the interaction treatment:neuron_type"
   ],
   "cell_type": "markdown",
   "metadata": {}
  },
  {
   "cell_type": "code",
   "execution_count": 41,
   "metadata": {},
   "outputs": [
    {
     "output_type": "execute_result",
     "data": {
      "text/plain": [
       "          gene      baseMean  log2FoldChange     lfcSE       stat    pvalue  \\\n",
       "0           a6     44.574190       -1.141517  1.853339  20.212179  0.002539   \n",
       "1     Aats-ser     63.729640       -0.293710  2.091632  21.838556  0.001295   \n",
       "2          ACC    801.375292       -1.416194  0.671115  26.427018  0.000185   \n",
       "3    Acox57D-d     43.262937       -0.416476  1.265613  20.099821  0.002658   \n",
       "4       Act57B    645.529292       -3.305572  2.015065  26.595129  0.000172   \n",
       "..         ...           ...             ...       ...        ...       ...   \n",
       "518      WDR79     50.512737       -7.919750  2.635935  24.707558  0.000387   \n",
       "519   yemalpha     32.985791       -5.425059  1.719368  21.809822  0.001311   \n",
       "520        Yp1  60103.840084       -3.028913  1.168891  21.688319  0.001379   \n",
       "521        Yp3  55458.193915       -2.714578  1.146160  26.357185  0.000191   \n",
       "522        Zif    211.079310        0.987966  1.489446  24.345203  0.000451   \n",
       "\n",
       "         padj  \n",
       "0    0.045343  \n",
       "1    0.029220  \n",
       "2    0.009300  \n",
       "3    0.046108  \n",
       "4    0.008939  \n",
       "..        ...  \n",
       "518  0.014720  \n",
       "519  0.029374  \n",
       "520  0.030400  \n",
       "521  0.009529  \n",
       "522  0.016210  \n",
       "\n",
       "[523 rows x 7 columns]"
      ],
      "text/html": "<div>\n<style scoped>\n    .dataframe tbody tr th:only-of-type {\n        vertical-align: middle;\n    }\n\n    .dataframe tbody tr th {\n        vertical-align: top;\n    }\n\n    .dataframe thead th {\n        text-align: right;\n    }\n</style>\n<table border=\"1\" class=\"dataframe\">\n  <thead>\n    <tr style=\"text-align: right;\">\n      <th></th>\n      <th>gene</th>\n      <th>baseMean</th>\n      <th>log2FoldChange</th>\n      <th>lfcSE</th>\n      <th>stat</th>\n      <th>pvalue</th>\n      <th>padj</th>\n    </tr>\n  </thead>\n  <tbody>\n    <tr>\n      <th>0</th>\n      <td>a6</td>\n      <td>44.574190</td>\n      <td>-1.141517</td>\n      <td>1.853339</td>\n      <td>20.212179</td>\n      <td>0.002539</td>\n      <td>0.045343</td>\n    </tr>\n    <tr>\n      <th>1</th>\n      <td>Aats-ser</td>\n      <td>63.729640</td>\n      <td>-0.293710</td>\n      <td>2.091632</td>\n      <td>21.838556</td>\n      <td>0.001295</td>\n      <td>0.029220</td>\n    </tr>\n    <tr>\n      <th>2</th>\n      <td>ACC</td>\n      <td>801.375292</td>\n      <td>-1.416194</td>\n      <td>0.671115</td>\n      <td>26.427018</td>\n      <td>0.000185</td>\n      <td>0.009300</td>\n    </tr>\n    <tr>\n      <th>3</th>\n      <td>Acox57D-d</td>\n      <td>43.262937</td>\n      <td>-0.416476</td>\n      <td>1.265613</td>\n      <td>20.099821</td>\n      <td>0.002658</td>\n      <td>0.046108</td>\n    </tr>\n    <tr>\n      <th>4</th>\n      <td>Act57B</td>\n      <td>645.529292</td>\n      <td>-3.305572</td>\n      <td>2.015065</td>\n      <td>26.595129</td>\n      <td>0.000172</td>\n      <td>0.008939</td>\n    </tr>\n    <tr>\n      <th>...</th>\n      <td>...</td>\n      <td>...</td>\n      <td>...</td>\n      <td>...</td>\n      <td>...</td>\n      <td>...</td>\n      <td>...</td>\n    </tr>\n    <tr>\n      <th>518</th>\n      <td>WDR79</td>\n      <td>50.512737</td>\n      <td>-7.919750</td>\n      <td>2.635935</td>\n      <td>24.707558</td>\n      <td>0.000387</td>\n      <td>0.014720</td>\n    </tr>\n    <tr>\n      <th>519</th>\n      <td>yemalpha</td>\n      <td>32.985791</td>\n      <td>-5.425059</td>\n      <td>1.719368</td>\n      <td>21.809822</td>\n      <td>0.001311</td>\n      <td>0.029374</td>\n    </tr>\n    <tr>\n      <th>520</th>\n      <td>Yp1</td>\n      <td>60103.840084</td>\n      <td>-3.028913</td>\n      <td>1.168891</td>\n      <td>21.688319</td>\n      <td>0.001379</td>\n      <td>0.030400</td>\n    </tr>\n    <tr>\n      <th>521</th>\n      <td>Yp3</td>\n      <td>55458.193915</td>\n      <td>-2.714578</td>\n      <td>1.146160</td>\n      <td>26.357185</td>\n      <td>0.000191</td>\n      <td>0.009529</td>\n    </tr>\n    <tr>\n      <th>522</th>\n      <td>Zif</td>\n      <td>211.079310</td>\n      <td>0.987966</td>\n      <td>1.489446</td>\n      <td>24.345203</td>\n      <td>0.000451</td>\n      <td>0.016210</td>\n    </tr>\n  </tbody>\n</table>\n<p>523 rows × 7 columns</p>\n</div>"
     },
     "metadata": {},
     "execution_count": 41
    }
   ],
   "source": [
    "# Load DESeq results\n",
    "genes_LRT_interaction = pd.read_excel(PATH_MY_DGE + LRT_INTERACTION)\n",
    "genes_LRT_interaction"
   ]
  },
  {
   "cell_type": "code",
   "execution_count": 39,
   "metadata": {},
   "outputs": [
    {
     "output_type": "stream",
     "name": "stdout",
     "text": [
      "               significant  non-significant\nnames                                      \ncognition                6              131\nnon-cognition          517            15028\nOdds ratio for LRT interaction:  1.33\n"
     ]
    }
   ],
   "source": [
    "# Build contigency table of genes significant genes vs genes related to cognition\n",
    "contingency_table_LRT_interaction = compute_contingency_table(genes_LRT_interaction)\n",
    "print(contingency_table_LRT_interaction)\n",
    "# Compute odds ratios of significance for the condition \"gene related to cognition\"\n",
    "odds_ratio_LRT_interaction = compute_odds_ratio(contingency_table_LRT_interaction)\n",
    "print(\"Odds ratio for LRT interaction:  %.2f\" % odds_ratio_LRT_interaction)"
   ]
  },
  {
   "cell_type": "code",
   "execution_count": 40,
   "metadata": {},
   "outputs": [
    {
     "output_type": "stream",
     "name": "stdout",
     "text": [
      "TOP 20 SIGNIFICANT:          gene    baseMean  log2FoldChange     lfcSE       stat        pvalue  \\\n13     Bap55  211.606972        1.735826  1.411814  68.215304  9.492066e-13   \n434   PDCD-5  329.533022       -0.293894  0.782156  59.543504  5.572180e-11   \n467    Sfmbt  175.519200        1.275570  1.198552  58.374416  9.621635e-11   \n165  CG33228   70.345716       -0.293695  1.298651  58.036505  1.126563e-10   \n507   Topors  109.047384       -1.478591  1.618646  53.212079  1.063388e-09   \n157  CG32262  128.365673       -0.426489  1.624291  49.950597  4.809500e-09   \n106  CG15432  205.536312        1.272443  1.122446  49.238765  6.678926e-09   \n256   CG6867  188.936717        0.844858  1.536640  47.883475  1.246684e-08   \n352     frtz  147.790531        0.133079  1.200585  47.863459  1.258215e-08   \n514      uri   46.629745       -2.519746  1.760530  46.992643  1.877466e-08   \n269   CG7382  429.362607        0.065773  0.876162  45.372730  3.946181e-08   \n199  CG42666  123.774550        0.699575  1.238109  44.909295  4.878509e-08   \n86   CG13850  145.200335        1.007108  1.555749  44.837228  5.042005e-08   \n446      Psc  101.811176       -0.650379  1.458381  44.745262  5.258591e-08   \n406    mRpS2  229.849984       -1.500188  1.070850  43.333404  1.001987e-07   \n211   CG4766  352.157446       -4.966846  1.684287  41.871428  1.949441e-07   \n439      phl  232.379097       -0.995641  1.297416  41.462957  2.346932e-07   \n191   CG4078   60.752133       -2.864151  1.600940  41.306503  2.519697e-07   \n291   CG8336  219.523086       -0.722447  1.496367  41.150024  2.705141e-07   \n304   CG9975  264.675153        3.691440  2.137537  40.531104  3.581502e-07   \n\n             padj  \n13   8.287523e-09  \n434  2.432535e-07  \n467  2.459006e-07  \n165  2.459006e-07  \n507  1.856888e-06  \n157  6.998624e-06  \n106  8.330528e-06  \n256  1.220608e-05  \n352  1.220608e-05  \n514  1.639216e-05  \n269  3.132192e-05  \n199  3.279482e-05  \n86   3.279482e-05  \n446  3.279482e-05  \n406  5.832232e-05  \n211  1.063786e-04  \n439  1.205357e-04  \n191  1.222193e-04  \n291  1.243084e-04  \n304  1.489052e-04   \n\nTOP COGNITION:  Empty DataFrame\nColumns: [gene, baseMean, log2FoldChange, lfcSE, stat, pvalue, padj]\nIndex: [] \n\nRatio cognition vs non-cognition in top 20:  0.00 \n\n"
     ]
    }
   ],
   "source": [
    "# Plot the 20 most significant genes, the genes related to cognition that belong to the top significant genes, and a ratio of cognition and non-cognition genes in the top 20\n",
    "top_20_LRT_interaction, top_cognition_LRT_interaction, ratio_LRT_interaction = top_list_genes(genes_LRT_interaction)\n",
    "print(\"TOP 20 SIGNIFICANT: \", top_20_LRT_interaction, \"\\n\")\n",
    "print(\"TOP COGNITION: \", top_cognition_LRT_interaction, \"\\n\")\n",
    "print(\"Ratio cognition vs non-cognition in top 20:  %.2f\" % ratio_LRT_interaction, \"\\n\")"
   ]
  },
  {
   "source": [
    "So now we have seen that the main effect explaining differences in gene expression profiles between cell types is the neuron type. The effect of the treatment is neglectable compared to the effect of neuron_type when considering all the cell types together, as no significant genes show up from the DESeq analysis. There seems to be an interaction between treatment and neuron_type for some genes, but which concerns a substantially lower number of genes (only 523) compared to the genes concerned by the effect of neuron_type alone (4425 significant genes for the effect of neuron_type alone).\n",
    "\n",
    "Therefore, we will now focus on the gene expression differences between the different cell types and the mean of other cell types.\n"
   ],
   "cell_type": "markdown",
   "metadata": {}
  },
  {
   "source": [
    "# 2) Tests neuron_type vs mean(of other neuron types)"
   ],
   "cell_type": "markdown",
   "metadata": {}
  },
  {
   "source": [
    "## a) DAL vs mean:"
   ],
   "cell_type": "markdown",
   "metadata": {}
  },
  {
   "cell_type": "code",
   "execution_count": 55,
   "metadata": {},
   "outputs": [
    {
     "output_type": "execute_result",
     "data": {
      "text/plain": [
       "         gene      baseMean  log2FoldChange     lfcSE      stat        pvalue  \\\n",
       "0  14-3-3zeta  58800.016238       -0.507378  0.126177 -4.021153  5.791394e-05   \n",
       "1        2mit   5687.472251       -1.099488  0.233955 -4.699559  2.607234e-06   \n",
       "2      5-HT1A   1726.547143       -1.928913  0.316882 -6.087171  1.149232e-09   \n",
       "3      5-HT1B    633.144348       -1.199750  0.367610 -3.263653  1.099857e-03   \n",
       "4         7B2   4951.678226        1.178411  0.166558  7.075088  1.493544e-12   \n",
       "\n",
       "           padj  \n",
       "0  1.879890e-03  \n",
       "1  1.892107e-04  \n",
       "2  2.538304e-07  \n",
       "3  1.653039e-02  \n",
       "4  6.597567e-10  "
      ],
      "text/html": "<div>\n<style scoped>\n    .dataframe tbody tr th:only-of-type {\n        vertical-align: middle;\n    }\n\n    .dataframe tbody tr th {\n        vertical-align: top;\n    }\n\n    .dataframe thead th {\n        text-align: right;\n    }\n</style>\n<table border=\"1\" class=\"dataframe\">\n  <thead>\n    <tr style=\"text-align: right;\">\n      <th></th>\n      <th>gene</th>\n      <th>baseMean</th>\n      <th>log2FoldChange</th>\n      <th>lfcSE</th>\n      <th>stat</th>\n      <th>pvalue</th>\n      <th>padj</th>\n    </tr>\n  </thead>\n  <tbody>\n    <tr>\n      <th>0</th>\n      <td>14-3-3zeta</td>\n      <td>58800.016238</td>\n      <td>-0.507378</td>\n      <td>0.126177</td>\n      <td>-4.021153</td>\n      <td>5.791394e-05</td>\n      <td>1.879890e-03</td>\n    </tr>\n    <tr>\n      <th>1</th>\n      <td>2mit</td>\n      <td>5687.472251</td>\n      <td>-1.099488</td>\n      <td>0.233955</td>\n      <td>-4.699559</td>\n      <td>2.607234e-06</td>\n      <td>1.892107e-04</td>\n    </tr>\n    <tr>\n      <th>2</th>\n      <td>5-HT1A</td>\n      <td>1726.547143</td>\n      <td>-1.928913</td>\n      <td>0.316882</td>\n      <td>-6.087171</td>\n      <td>1.149232e-09</td>\n      <td>2.538304e-07</td>\n    </tr>\n    <tr>\n      <th>3</th>\n      <td>5-HT1B</td>\n      <td>633.144348</td>\n      <td>-1.199750</td>\n      <td>0.367610</td>\n      <td>-3.263653</td>\n      <td>1.099857e-03</td>\n      <td>1.653039e-02</td>\n    </tr>\n    <tr>\n      <th>4</th>\n      <td>7B2</td>\n      <td>4951.678226</td>\n      <td>1.178411</td>\n      <td>0.166558</td>\n      <td>7.075088</td>\n      <td>1.493544e-12</td>\n      <td>6.597567e-10</td>\n    </tr>\n  </tbody>\n</table>\n</div>"
     },
     "metadata": {},
     "execution_count": 55
    }
   ],
   "source": [
    "genes_mean_DAL = pd.read_excel(PATH_MY_DGE + MEAN_DAL)\n",
    "genes_mean_DAL.head()"
   ]
  },
  {
   "cell_type": "code",
   "execution_count": 56,
   "metadata": {},
   "outputs": [
    {
     "output_type": "stream",
     "name": "stdout",
     "text": [
      "               significant  non-significant\nnames                                      \ncognition               29              108\nnon-cognition         1034            14511\nOdds ration for DAL vs mean:  3.77\n"
     ]
    }
   ],
   "source": [
    "contingency_table_mean_DAL = compute_contingency_table(genes_mean_DAL)\n",
    "print(contingency_table_mean_DAL)\n",
    "odds_ratio_mean_DAL = compute_odds_ratio(contingency_table_mean_DAL)\n",
    "print(\"Odds ration for DAL vs mean:  %.2f\" % odds_ratio_mean_DAL)"
   ]
  },
  {
   "cell_type": "code",
   "execution_count": 57,
   "metadata": {},
   "outputs": [
    {
     "output_type": "stream",
     "name": "stdout",
     "text": [
      "TOP 20 SIGNIFICANT:           gene      baseMean  log2FoldChange     lfcSE       stat  \\\n800     Nplp1  10440.536927        5.733408  0.335161  17.106415   \n390    CG4577  20973.006814        3.832801  0.269309  14.231979   \n239    CG2444    199.232838        6.739462  0.577418  11.671725   \n185   CG15863   2336.267074        6.632958  0.671931   9.871485   \n975    SP1029    290.517613        6.557808  0.701299   9.350951   \n1018  Trissin    686.665863        8.384197  0.914951   9.163552   \n82    CG10970    232.246193        4.455296  0.508288   8.765296   \n714       itp   4359.315416        6.451635  0.749585   8.606939   \n27     Amyrel     46.635881        4.528883  0.529036   8.560638   \n823      Pal1    529.381029        2.562674  0.305551   8.387044   \n609       drl    715.326395       -2.504625  0.304543  -8.224216   \n832       Pdi   2430.216105        1.610445  0.196091   8.212751   \n333   CG34370   2639.691704       -2.270765  0.279549  -8.122964   \n773       mub  24535.829534       -1.638679  0.205359  -7.979562   \n848    Pka-C1  13758.814627       -1.425179  0.178682  -7.976062   \n1029      Ubx   3622.856686        2.964740  0.376363   7.877348   \n231    CG2016    179.371226        6.089550  0.794538   7.664262   \n480    CG7992     30.488835        6.802089  0.889269   7.649076   \n115   CG13056    203.022010        7.177720  0.990891   7.243705   \n743      mamo  10795.065191       -1.617777  0.224218  -7.215193   \n\n            pvalue          padj  \n800   1.329349e-65  1.350618e-61  \n390   5.801651e-46  2.947239e-42  \n239   1.777807e-31  6.020840e-28  \n185   5.533924e-23  1.405617e-19  \n975   8.686281e-21  1.765052e-17  \n1018  5.021681e-20  8.503380e-17  \n82    1.862866e-18  2.703817e-15  \n714   7.503757e-18  9.529772e-15  \n27    1.122450e-17  1.267121e-14  \n823   4.985206e-17  5.064969e-14  \n609   1.964725e-16  1.814692e-13  \n832   2.161770e-16  1.830299e-13  \n333   4.549331e-16  3.555477e-13  \n773   1.468533e-15  1.023289e-12  \n848   1.510761e-15  1.023289e-12  \n1029  3.344015e-15  2.123449e-12  \n231   1.798627e-14  1.074944e-11  \n480   2.024284e-14  1.142596e-11  \n115   4.365919e-13  2.334618e-10  \n743   5.385771e-13  2.735972e-10   \n\nTOP COGNITION:         gene      baseMean  log2FoldChange     lfcSE      stat        pvalue  \\\n609     drl    715.326395       -2.504625  0.304543 -8.224216  1.964725e-16   \n848  Pka-C1  13758.814627       -1.425179  0.178682 -7.976062  1.510761e-15   \n\n             padj  \n609  1.814692e-13  \n848  1.023289e-12   \n\nRatio cognition vs non-cognition in top 20:  0.10 \n\n"
     ]
    }
   ],
   "source": [
    "top_20_mean_DAL, top_cognition_mean_DAL, ratio_mean_DAL = top_list_genes(genes_mean_DAL)\n",
    "print(\"TOP 20 SIGNIFICANT: \", top_20_mean_DAL, \"\\n\")\n",
    "print(\"TOP COGNITION: \", top_cognition_mean_DAL, \"\\n\")\n",
    "print(\"Ratio cognition vs non-cognition in top 20:  %.2f\" % ratio_mean_DAL, \"\\n\")"
   ]
  },
  {
   "source": [
    "## b) V2 vs mean:"
   ],
   "cell_type": "markdown",
   "metadata": {}
  },
  {
   "cell_type": "code",
   "execution_count": 58,
   "metadata": {},
   "outputs": [
    {
     "output_type": "execute_result",
     "data": {
      "text/plain": [
       "             gene     baseMean  log2FoldChange     lfcSE      stat  \\\n",
       "0  7SLRNA:CR32864   110.742163       -1.559759  0.380226 -4.102188   \n",
       "1  7SLRNA:CR42652   112.443580       -1.479095  0.377617 -3.916916   \n",
       "2             a10   199.626819       -5.274168  0.969823 -5.438278   \n",
       "3            abba    40.742169       -3.212424  1.020721 -3.147212   \n",
       "4             Ace  1058.383610        1.086597  0.347192  3.129675   \n",
       "\n",
       "         pvalue      padj  \n",
       "0  4.092616e-05  0.001619  \n",
       "1  8.968887e-05  0.003034  \n",
       "2  5.379805e-08  0.000006  \n",
       "3  1.648356e-03  0.026679  \n",
       "4  1.749999e-03  0.027778  "
      ],
      "text/html": "<div>\n<style scoped>\n    .dataframe tbody tr th:only-of-type {\n        vertical-align: middle;\n    }\n\n    .dataframe tbody tr th {\n        vertical-align: top;\n    }\n\n    .dataframe thead th {\n        text-align: right;\n    }\n</style>\n<table border=\"1\" class=\"dataframe\">\n  <thead>\n    <tr style=\"text-align: right;\">\n      <th></th>\n      <th>gene</th>\n      <th>baseMean</th>\n      <th>log2FoldChange</th>\n      <th>lfcSE</th>\n      <th>stat</th>\n      <th>pvalue</th>\n      <th>padj</th>\n    </tr>\n  </thead>\n  <tbody>\n    <tr>\n      <th>0</th>\n      <td>7SLRNA:CR32864</td>\n      <td>110.742163</td>\n      <td>-1.559759</td>\n      <td>0.380226</td>\n      <td>-4.102188</td>\n      <td>4.092616e-05</td>\n      <td>0.001619</td>\n    </tr>\n    <tr>\n      <th>1</th>\n      <td>7SLRNA:CR42652</td>\n      <td>112.443580</td>\n      <td>-1.479095</td>\n      <td>0.377617</td>\n      <td>-3.916916</td>\n      <td>8.968887e-05</td>\n      <td>0.003034</td>\n    </tr>\n    <tr>\n      <th>2</th>\n      <td>a10</td>\n      <td>199.626819</td>\n      <td>-5.274168</td>\n      <td>0.969823</td>\n      <td>-5.438278</td>\n      <td>5.379805e-08</td>\n      <td>0.000006</td>\n    </tr>\n    <tr>\n      <th>3</th>\n      <td>abba</td>\n      <td>40.742169</td>\n      <td>-3.212424</td>\n      <td>1.020721</td>\n      <td>-3.147212</td>\n      <td>1.648356e-03</td>\n      <td>0.026679</td>\n    </tr>\n    <tr>\n      <th>4</th>\n      <td>Ace</td>\n      <td>1058.383610</td>\n      <td>1.086597</td>\n      <td>0.347192</td>\n      <td>3.129675</td>\n      <td>1.749999e-03</td>\n      <td>0.027778</td>\n    </tr>\n  </tbody>\n</table>\n</div>"
     },
     "metadata": {},
     "execution_count": 58
    }
   ],
   "source": [
    "genes_mean_V2 = pd.read_excel(PATH_MY_DGE + MEAN_V2)\n",
    "genes_mean_V2.head()"
   ]
  },
  {
   "cell_type": "code",
   "execution_count": 59,
   "metadata": {},
   "outputs": [
    {
     "output_type": "stream",
     "name": "stdout",
     "text": [
      "               significant  non-significant\nnames                                      \ncognition               10              127\nnon-cognition          793            14752\nOdds ration for V2 vs mean:  1.46\n"
     ]
    }
   ],
   "source": [
    "contingency_table_mean_V2 = compute_contingency_table(genes_mean_V2)\n",
    "print(contingency_table_mean_V2)\n",
    "odds_ratio_mean_V2 = compute_odds_ratio(contingency_table_mean_V2)\n",
    "print(\"Odds ration for V2 vs mean:  %.2f\" % odds_ratio_mean_V2)"
   ]
  },
  {
   "cell_type": "code",
   "execution_count": 60,
   "metadata": {},
   "outputs": [
    {
     "output_type": "stream",
     "name": "stdout",
     "text": [
      "TOP 20 SIGNIFICANT:          gene      baseMean  log2FoldChange     lfcSE      stat        pvalue  \\\n581   Pbprp2   1354.026651       -5.628119  0.684161 -8.226308  1.930717e-16   \n229  CG33970     66.545035       -5.481426  0.715713 -7.658697  1.878284e-14   \n663     RpL5  10906.993122       -1.478961  0.208290 -7.100478  1.243262e-12   \n379  CR31451  39147.117104        1.252581  0.179055  6.995521  2.642744e-12   \n427   eIF-5A   6421.676813       -1.510687  0.217913 -6.932520  4.134095e-12   \n572      opa     22.200108        5.789115  0.835475  6.929132  4.234313e-12   \n417      Drs   3066.622796       -4.189367  0.611014 -6.856422  7.060662e-12   \n515     Lim1   1291.589471        2.954600  0.437198  6.758042  1.398689e-11   \n693   RpS27A  11271.320766       -1.621930  0.240172 -6.753196  1.446232e-11   \n656   RpL37A   9876.683863       -1.503450  0.228722 -6.573262  4.922475e-11   \n625    RpL10   8885.102868       -1.381040  0.211417 -6.532318  6.475954e-11   \n697    RpS30   6965.510116       -1.489822  0.227815 -6.539597  6.168468e-11   \n679  RpS15Aa   4888.638160       -1.421733  0.218078 -6.519367  7.060476e-11   \n755     Tctp   4942.222866       -1.388458  0.215654 -6.438348  1.207806e-10   \n705     RpS9   6091.162714       -1.523155  0.236727 -6.434221  1.241082e-10   \n159  CG18278    906.919639       -2.728901  0.425983 -6.406128  1.492617e-10   \n635    RpL19   6107.343224       -1.516026  0.237397 -6.386035  1.702422e-10   \n702     RpS6   7393.425435       -1.332907  0.209361 -6.366546  1.933319e-10   \n764     TotM   1706.866884       -5.151975  0.817252 -6.304024  2.900161e-10   \n759    TM4SF   5339.688324        1.118863  0.177909  6.288965  3.195885e-10   \n\n             padj  \n581  1.909286e-12  \n229  9.287173e-11  \n663  4.098207e-09  \n379  6.533524e-09  \n427  6.978853e-09  \n572  6.978853e-09  \n417  9.974699e-09  \n515  1.589087e-08  \n693  1.589087e-08  \n656  4.867835e-08  \n625  5.336726e-08  \n697  5.336726e-08  \n679  5.370850e-08  \n755  8.182043e-08  \n705  8.182043e-08  \n159  9.225309e-08  \n635  9.903088e-08  \n702  1.062144e-07  \n764  1.509457e-07  \n759  1.580205e-07   \n\nTOP COGNITION:  Empty DataFrame\nColumns: [gene, baseMean, log2FoldChange, lfcSE, stat, pvalue, padj]\nIndex: [] \n\nRatio cognition vs non-cognition in top 20:  0.00 \n\n"
     ]
    }
   ],
   "source": [
    "top_20_mean_V2, top_cognition_mean_V2, ratio_mean_V2 = top_list_genes(genes_mean_V2)\n",
    "print(\"TOP 20 SIGNIFICANT: \", top_20_mean_V2, \"\\n\")\n",
    "print(\"TOP COGNITION: \", top_cognition_mean_V2, \"\\n\")\n",
    "print(\"Ratio cognition vs non-cognition in top 20:  %.2f\" % ratio_mean_V2, \"\\n\")"
   ]
  },
  {
   "source": [
    "## c) V3 vs mean:"
   ],
   "cell_type": "markdown",
   "metadata": {}
  },
  {
   "cell_type": "code",
   "execution_count": 61,
   "metadata": {},
   "outputs": [
    {
     "output_type": "execute_result",
     "data": {
      "text/plain": [
       "         gene      baseMean  log2FoldChange     lfcSE      stat        pvalue  \\\n",
       "0  14-3-3zeta  58800.016238       -0.692018  0.126181 -5.484307  4.150941e-08   \n",
       "1      5-HT1A   1726.547143       -1.291459  0.316710 -4.077728  4.547793e-05   \n",
       "2         a10    199.626819        5.487770  0.905319  6.061698  1.346916e-09   \n",
       "3          a5     10.039765        3.789862  1.140781  3.322166  8.932152e-04   \n",
       "4       Ac78C    289.484002       -1.667509  0.504667 -3.304175  9.525625e-04   \n",
       "\n",
       "           padj  \n",
       "0  9.019650e-06  \n",
       "1  2.620634e-03  \n",
       "2  5.403207e-07  \n",
       "3  2.281861e-02  \n",
       "4  2.394031e-02  "
      ],
      "text/html": "<div>\n<style scoped>\n    .dataframe tbody tr th:only-of-type {\n        vertical-align: middle;\n    }\n\n    .dataframe tbody tr th {\n        vertical-align: top;\n    }\n\n    .dataframe thead th {\n        text-align: right;\n    }\n</style>\n<table border=\"1\" class=\"dataframe\">\n  <thead>\n    <tr style=\"text-align: right;\">\n      <th></th>\n      <th>gene</th>\n      <th>baseMean</th>\n      <th>log2FoldChange</th>\n      <th>lfcSE</th>\n      <th>stat</th>\n      <th>pvalue</th>\n      <th>padj</th>\n    </tr>\n  </thead>\n  <tbody>\n    <tr>\n      <th>0</th>\n      <td>14-3-3zeta</td>\n      <td>58800.016238</td>\n      <td>-0.692018</td>\n      <td>0.126181</td>\n      <td>-5.484307</td>\n      <td>4.150941e-08</td>\n      <td>9.019650e-06</td>\n    </tr>\n    <tr>\n      <th>1</th>\n      <td>5-HT1A</td>\n      <td>1726.547143</td>\n      <td>-1.291459</td>\n      <td>0.316710</td>\n      <td>-4.077728</td>\n      <td>4.547793e-05</td>\n      <td>2.620634e-03</td>\n    </tr>\n    <tr>\n      <th>2</th>\n      <td>a10</td>\n      <td>199.626819</td>\n      <td>5.487770</td>\n      <td>0.905319</td>\n      <td>6.061698</td>\n      <td>1.346916e-09</td>\n      <td>5.403207e-07</td>\n    </tr>\n    <tr>\n      <th>3</th>\n      <td>a5</td>\n      <td>10.039765</td>\n      <td>3.789862</td>\n      <td>1.140781</td>\n      <td>3.322166</td>\n      <td>8.932152e-04</td>\n      <td>2.281861e-02</td>\n    </tr>\n    <tr>\n      <th>4</th>\n      <td>Ac78C</td>\n      <td>289.484002</td>\n      <td>-1.667509</td>\n      <td>0.504667</td>\n      <td>-3.304175</td>\n      <td>9.525625e-04</td>\n      <td>2.394031e-02</td>\n    </tr>\n  </tbody>\n</table>\n</div>"
     },
     "metadata": {},
     "execution_count": 61
    }
   ],
   "source": [
    "genes_mean_V3 = pd.read_excel(PATH_MY_DGE + MEAN_V3)#, index_col=0)\n",
    "genes_mean_V3.head()"
   ]
  },
  {
   "cell_type": "code",
   "execution_count": 62,
   "metadata": {},
   "outputs": [
    {
     "output_type": "stream",
     "name": "stdout",
     "text": [
      "               significant  non-significant\nnames                                      \ncognition               19              118\nnon-cognition          544            15001\nOdds ration for V3 vs mean:  4.44\n"
     ]
    }
   ],
   "source": [
    "contingency_table_mean_V3 = compute_contingency_table(genes_mean_V3)\n",
    "print(contingency_table_mean_V3)\n",
    "odds_ratio_mean_V3 = compute_odds_ratio(contingency_table_mean_V3)\n",
    "print(\"Odds ration for V3 vs mean:  %.2f\" % odds_ratio_mean_V3)"
   ]
  },
  {
   "cell_type": "code",
   "execution_count": 63,
   "metadata": {},
   "outputs": [
    {
     "output_type": "stream",
     "name": "stdout",
     "text": [
      "TOP 20 SIGNIFICANT:          gene      baseMean  log2FoldChange     lfcSE       stat        pvalue  \\\n301      dac   2019.257512       -5.999757  0.474046 -12.656492  1.030004e-36   \n331      ems     50.161588       10.365422  0.848488  12.216349  2.542487e-34   \n557     Vmat  15438.206106        6.841333  0.646564  10.581054  3.648323e-26   \n156  CG32532    502.834618       -5.821082  0.605604  -9.612026  7.113522e-22   \n136  CG30127    907.100136       -3.333472  0.356536  -9.349612  8.797011e-21   \n537      Tbh    517.964119        6.488039  0.731205   8.873080  7.115047e-19   \n387      jdp  21487.406914       -1.999472  0.242516  -8.244712  1.655589e-16   \n527     sNPF   8920.430653       -4.551175  0.566257  -8.037298  9.184085e-16   \n131   CG2269  14567.284896        1.843363  0.243257   7.577835  3.513697e-14   \n65    CG1275   3179.437529        1.925265  0.263774   7.298919  2.900882e-13   \n207   CG4577  20973.006814       -1.962925  0.269421  -7.285723  3.199491e-13   \n389   Jhedup     66.718079        6.630585  0.959247   6.912283  4.769147e-12   \n340   fd102C    176.801919       -6.176022  0.901488  -6.850919  7.337726e-12   \n413      mbl  13969.985617        1.588206  0.237405   6.689864  2.233777e-11   \n538     Tdc2    348.809632        5.958705  0.891120   6.686761  2.281639e-11   \n144  CG31797     17.113676        7.068424  1.062592   6.652061  2.890162e-11   \n64   CG12594    627.606887        3.868671  0.583304   6.632337  3.304138e-11   \n116  CG17177     15.559659        6.745220  1.018385   6.623448  3.509144e-11   \n484      prt    751.656559       -4.884146  0.739535  -6.604350  3.992665e-11   \n26   beat-Ic   1454.027815        2.873658  0.436859   6.577992  4.768448e-11   \n\n             padj  \n301  1.074294e-32  \n331  1.325907e-30  \n557  1.268400e-22  \n156  1.854851e-18  \n136  1.835057e-17  \n537  1.236832e-15  \n387  2.466827e-13  \n527  1.197375e-12  \n131  4.071984e-11  \n65   3.025620e-10  \n207  3.033699e-10  \n389  4.145184e-09  \n340  5.887114e-09  \n413  1.586500e-08  \n538  1.586500e-08  \n144  1.884024e-08  \n64   2.027186e-08  \n116  2.033354e-08  \n484  2.191763e-08  \n26   2.486746e-08   \n\nTOP COGNITION:      gene    baseMean  log2FoldChange     lfcSE     stat        pvalue  \\\n537  Tbh  517.964119        6.488039  0.731205  8.87308  7.115047e-19   \n484  prt  751.656559       -4.884146  0.739535 -6.60435  3.992665e-11   \n\n             padj  \n537  1.236832e-15  \n484  2.191763e-08   \n\nRatio cognition vs non-cognition in top 20:  0.10 \n\n"
     ]
    }
   ],
   "source": [
    "top_20_mean_V3, top_cognition_mean_V3, ratio_mean_V3 = top_list_genes(genes_mean_V3)\n",
    "print(\"TOP 20 SIGNIFICANT: \", top_20_mean_V3, \"\\n\")\n",
    "print(\"TOP COGNITION: \", top_cognition_mean_V3, \"\\n\")\n",
    "print(\"Ratio cognition vs non-cognition in top 20:  %.2f\" % ratio_mean_V3, \"\\n\")"
   ]
  },
  {
   "source": [
    "## d) AB_KCs vs mean:"
   ],
   "cell_type": "markdown",
   "metadata": {}
  },
  {
   "cell_type": "code",
   "execution_count": 64,
   "metadata": {},
   "outputs": [
    {
     "output_type": "execute_result",
     "data": {
      "text/plain": [
       "         gene      baseMean  log2FoldChange     lfcSE       stat  \\\n",
       "0  14-3-3zeta  58800.016238        1.477044  0.126164  11.707375   \n",
       "1     26-29-p    430.720199       -0.946367  0.362864  -2.608047   \n",
       "2        2mit   5687.472251        1.987936  0.233818   8.502063   \n",
       "3        4EHP    680.858997        1.289395  0.347747   3.707850   \n",
       "4      5-HT1A   1726.547143        1.284474  0.316358   4.060188   \n",
       "\n",
       "         pvalue          padj  \n",
       "0  1.168416e-31  1.136550e-28  \n",
       "1  9.106055e-03  4.540297e-02  \n",
       "2  1.862509e-17  3.496289e-15  \n",
       "3  2.090267e-04  1.981032e-03  \n",
       "4  4.903332e-05  5.557802e-04  "
      ],
      "text/html": "<div>\n<style scoped>\n    .dataframe tbody tr th:only-of-type {\n        vertical-align: middle;\n    }\n\n    .dataframe tbody tr th {\n        vertical-align: top;\n    }\n\n    .dataframe thead th {\n        text-align: right;\n    }\n</style>\n<table border=\"1\" class=\"dataframe\">\n  <thead>\n    <tr style=\"text-align: right;\">\n      <th></th>\n      <th>gene</th>\n      <th>baseMean</th>\n      <th>log2FoldChange</th>\n      <th>lfcSE</th>\n      <th>stat</th>\n      <th>pvalue</th>\n      <th>padj</th>\n    </tr>\n  </thead>\n  <tbody>\n    <tr>\n      <th>0</th>\n      <td>14-3-3zeta</td>\n      <td>58800.016238</td>\n      <td>1.477044</td>\n      <td>0.126164</td>\n      <td>11.707375</td>\n      <td>1.168416e-31</td>\n      <td>1.136550e-28</td>\n    </tr>\n    <tr>\n      <th>1</th>\n      <td>26-29-p</td>\n      <td>430.720199</td>\n      <td>-0.946367</td>\n      <td>0.362864</td>\n      <td>-2.608047</td>\n      <td>9.106055e-03</td>\n      <td>4.540297e-02</td>\n    </tr>\n    <tr>\n      <th>2</th>\n      <td>2mit</td>\n      <td>5687.472251</td>\n      <td>1.987936</td>\n      <td>0.233818</td>\n      <td>8.502063</td>\n      <td>1.862509e-17</td>\n      <td>3.496289e-15</td>\n    </tr>\n    <tr>\n      <th>3</th>\n      <td>4EHP</td>\n      <td>680.858997</td>\n      <td>1.289395</td>\n      <td>0.347747</td>\n      <td>3.707850</td>\n      <td>2.090267e-04</td>\n      <td>1.981032e-03</td>\n    </tr>\n    <tr>\n      <th>4</th>\n      <td>5-HT1A</td>\n      <td>1726.547143</td>\n      <td>1.284474</td>\n      <td>0.316358</td>\n      <td>4.060188</td>\n      <td>4.903332e-05</td>\n      <td>5.557802e-04</td>\n    </tr>\n  </tbody>\n</table>\n</div>"
     },
     "metadata": {},
     "execution_count": 64
    }
   ],
   "source": [
    "genes_mean_AB_KCs = pd.read_excel(PATH_MY_DGE + MEAN_AB_KCs)\n",
    "genes_mean_AB_KCs.head()"
   ]
  },
  {
   "cell_type": "code",
   "execution_count": 65,
   "metadata": {},
   "outputs": [
    {
     "output_type": "stream",
     "name": "stdout",
     "text": [
      "               significant  non-significant\nnames                                      \ncognition               56               81\nnon-cognition         2141            13404\nOdds ration for AB_KCs vs mean:  4.33\n"
     ]
    }
   ],
   "source": [
    "contingency_table_mean_AB_KCs = compute_contingency_table(genes_mean_AB_KCs)\n",
    "print(contingency_table_mean_AB_KCs)\n",
    "odds_ratio_mean_AB_KCs = compute_odds_ratio(contingency_table_mean_AB_KCs)\n",
    "print(\"Odds ration for AB_KCs vs mean:  %.2f\" % odds_ratio_mean_AB_KCs)"
   ]
  },
  {
   "cell_type": "code",
   "execution_count": 66,
   "metadata": {},
   "outputs": [
    {
     "output_type": "stream",
     "name": "stdout",
     "text": [
      "TOP 20 SIGNIFICANT:              gene      baseMean  log2FoldChange     lfcSE       stat  \\\n1734      Pka-C1  13758.814627        2.743207  0.178530  15.365566   \n1591         mub  24535.829534        3.140968  0.205253  15.302918   \n1287      Eip93F   9992.995895        3.185652  0.234390  13.591245   \n52          Appl  24678.701098        2.097919  0.156448  13.409709   \n2157       VGlut  25766.143689       -3.213417  0.247309 -12.993548   \n1264        dysc  14458.194629        2.326421  0.182048  12.779162   \n1232        dlg1   7179.380820        2.157975  0.170041  12.690913   \n1808         Rdl  26184.966497        2.281387  0.182023  12.533498   \n1804         Rbp   6035.953383        2.485934  0.198814  12.503832   \n788      CG42784   6268.198698        2.850054  0.232752  12.245045   \n0     14-3-3zeta  58800.016238        1.477044  0.126164  11.707375   \n1235         dnc  16732.863922        1.736376  0.150082  11.569542   \n1471         jdp  21487.406914        2.795227  0.242402  11.531376   \n1546        Mef2   3490.889867        2.879539  0.250449  11.497514   \n1959          Sh  18680.537127        1.850562  0.162623  11.379451   \n158      CG10252      7.362135        6.039739  0.533726  11.316184   \n1333      fs(1)h   3501.035322        1.760292  0.157042  11.209080   \n1976         slo  12941.558174        2.538088  0.233503  10.869620   \n34           Ald  17495.929955       -1.349540  0.124249 -10.861596   \n121          cac   7714.763011        1.814740  0.167230  10.851729   \n\n            pvalue          padj  \n1734  2.785932e-53  2.980947e-49  \n1591  7.310363e-53  3.911044e-49  \n1287  4.513377e-42  1.609771e-38  \n52    5.304626e-41  1.418988e-37  \n2157  1.331099e-38  2.848553e-35  \n1264  2.143681e-37  3.822898e-34  \n1232  6.640698e-37  1.015078e-33  \n1808  4.895474e-36  6.547697e-33  \n1804  7.113809e-36  8.457528e-33  \n788   1.785791e-34  1.910796e-31  \n0     1.168416e-31  1.136550e-28  \n1235  5.879602e-31  5.242645e-28  \n1471  9.166704e-31  7.544903e-28  \n1546  1.357695e-30  1.037667e-27  \n1959  5.293165e-30  3.775791e-27  \n158   1.091190e-29  7.297331e-27  \n1333  3.680003e-29  2.316237e-26  \n1976  1.608689e-27  9.562764e-25  \n34    1.756526e-27  9.892017e-25  \n121   1.956880e-27  1.046931e-24   \n\nTOP COGNITION:              gene      baseMean  log2FoldChange     lfcSE       stat  \\\n1734      Pka-C1  13758.814627        2.743207  0.178530  15.365566   \n52          Appl  24678.701098        2.097919  0.156448  13.409709   \n1808         Rdl  26184.966497        2.281387  0.182023  12.533498   \n0     14-3-3zeta  58800.016238        1.477044  0.126164  11.707375   \n1235         dnc  16732.863922        1.736376  0.150082  11.569542   \n1959          Sh  18680.537127        1.850562  0.162623  11.379451   \n\n            pvalue          padj  \n1734  2.785932e-53  2.980947e-49  \n52    5.304626e-41  1.418988e-37  \n1808  4.895474e-36  6.547697e-33  \n0     1.168416e-31  1.136550e-28  \n1235  5.879602e-31  5.242645e-28  \n1959  5.293165e-30  3.775791e-27   \n\nRatio cognition vs non-cognition in top 20:  0.30 \n\n"
     ]
    }
   ],
   "source": [
    "top_20_mean_AB_KCs, top_cognition_mean_AB_KCs, ratio_mean_AB_KCs = top_list_genes(genes_mean_AB_KCs)\n",
    "print(\"TOP 20 SIGNIFICANT: \", top_20_mean_AB_KCs, \"\\n\")\n",
    "print(\"TOP COGNITION: \", top_cognition_mean_AB_KCs, \"\\n\")\n",
    "print(\"Ratio cognition vs non-cognition in top 20:  %.2f\" % ratio_mean_AB_KCs, \"\\n\")"
   ]
  },
  {
   "source": [
    "## e) G_KCs vs mean:"
   ],
   "cell_type": "markdown",
   "metadata": {}
  },
  {
   "cell_type": "code",
   "execution_count": 67,
   "metadata": {},
   "outputs": [
    {
     "output_type": "execute_result",
     "data": {
      "text/plain": [
       "             gene      baseMean  log2FoldChange     lfcSE       stat  \\\n",
       "0      14-3-3zeta  58800.016238        1.414578  0.117141  12.075836   \n",
       "1            2mit   5687.472251        1.027394  0.217334   4.727267   \n",
       "2            4EHP    680.858997        0.904951  0.323782   2.794943   \n",
       "3          5-HT1B    633.144348        1.306842  0.341676   3.824803   \n",
       "4  7SLRNA:CR32864    110.742163       -1.667503  0.354855  -4.699113   \n",
       "\n",
       "         pvalue          padj  \n",
       "0  1.417166e-33  7.220800e-31  \n",
       "1  2.275622e-06  2.867980e-05  \n",
       "2  5.190884e-03  2.791078e-02  \n",
       "3  1.308765e-04  1.140373e-03  \n",
       "4  2.612941e-06  3.258562e-05  "
      ],
      "text/html": "<div>\n<style scoped>\n    .dataframe tbody tr th:only-of-type {\n        vertical-align: middle;\n    }\n\n    .dataframe tbody tr th {\n        vertical-align: top;\n    }\n\n    .dataframe thead th {\n        text-align: right;\n    }\n</style>\n<table border=\"1\" class=\"dataframe\">\n  <thead>\n    <tr style=\"text-align: right;\">\n      <th></th>\n      <th>gene</th>\n      <th>baseMean</th>\n      <th>log2FoldChange</th>\n      <th>lfcSE</th>\n      <th>stat</th>\n      <th>pvalue</th>\n      <th>padj</th>\n    </tr>\n  </thead>\n  <tbody>\n    <tr>\n      <th>0</th>\n      <td>14-3-3zeta</td>\n      <td>58800.016238</td>\n      <td>1.414578</td>\n      <td>0.117141</td>\n      <td>12.075836</td>\n      <td>1.417166e-33</td>\n      <td>7.220800e-31</td>\n    </tr>\n    <tr>\n      <th>1</th>\n      <td>2mit</td>\n      <td>5687.472251</td>\n      <td>1.027394</td>\n      <td>0.217334</td>\n      <td>4.727267</td>\n      <td>2.275622e-06</td>\n      <td>2.867980e-05</td>\n    </tr>\n    <tr>\n      <th>2</th>\n      <td>4EHP</td>\n      <td>680.858997</td>\n      <td>0.904951</td>\n      <td>0.323782</td>\n      <td>2.794943</td>\n      <td>5.190884e-03</td>\n      <td>2.791078e-02</td>\n    </tr>\n    <tr>\n      <th>3</th>\n      <td>5-HT1B</td>\n      <td>633.144348</td>\n      <td>1.306842</td>\n      <td>0.341676</td>\n      <td>3.824803</td>\n      <td>1.308765e-04</td>\n      <td>1.140373e-03</td>\n    </tr>\n    <tr>\n      <th>4</th>\n      <td>7SLRNA:CR32864</td>\n      <td>110.742163</td>\n      <td>-1.667503</td>\n      <td>0.354855</td>\n      <td>-4.699113</td>\n      <td>2.612941e-06</td>\n      <td>3.258562e-05</td>\n    </tr>\n  </tbody>\n</table>\n</div>"
     },
     "metadata": {},
     "execution_count": 67
    }
   ],
   "source": [
    "genes_mean_G_KCs = pd.read_excel(PATH_MY_DGE + MEAN_G_KCs)\n",
    "genes_mean_G_KCs.head()"
   ]
  },
  {
   "cell_type": "code",
   "execution_count": 68,
   "metadata": {},
   "outputs": [
    {
     "output_type": "stream",
     "name": "stdout",
     "text": [
      "               significant  non-significant\nnames                                      \ncognition               53               84\nnon-cognition         2174            13371\nOdds ration for G_KCs vs mean:  3.88\n"
     ]
    }
   ],
   "source": [
    "contingency_table_mean_G_KCs = compute_contingency_table(genes_mean_G_KCs)\n",
    "print(contingency_table_mean_G_KCs)\n",
    "odds_ratio_mean_G_KCs = compute_odds_ratio(contingency_table_mean_G_KCs)\n",
    "print(\"Odds ration for G_KCs vs mean:  %.2f\" % odds_ratio_mean_G_KCs)"
   ]
  },
  {
   "cell_type": "code",
   "execution_count": 69,
   "metadata": {},
   "outputs": [
    {
     "output_type": "stream",
     "name": "stdout",
     "text": [
      "TOP 20 SIGNIFICANT:           gene      baseMean  log2FoldChange     lfcSE       stat  \\\n2170      Ubx   3622.856686       -8.909739  0.376939 -23.637062   \n1471     IM23   3377.318631       -7.344916  0.460354 -15.954926   \n348   CG15065   1647.193271       -6.157349  0.388672 -15.842032   \n1631      mub  24535.829534        2.967761  0.190712  15.561450   \n1780   Pka-C1  13758.814627        2.526723  0.165835  15.236334   \n1467      IM1   4288.370133       -6.625489  0.438881 -15.096321   \n1470      IM2  10813.385749       -6.148889  0.412281 -14.914304   \n1469     IM14   7217.546238       -5.852901  0.395753 -14.789283   \n1472      IM3  14636.066873       -6.237948  0.427355 -14.596660   \n885    CG5773   1278.240366       -7.011064  0.491767 -14.256888   \n1473      IM4   6014.124213       -5.817683  0.417721 -13.927200   \n448   CG18107   2456.373766       -5.928098  0.443505 -13.366482   \n349   CG15067   8907.535992       -5.927210  0.449496 -13.186355   \n887    CG5791   2349.259034       -5.988628  0.455432 -13.149350   \n1624      Mtk   1257.094726       -7.284714  0.574354 -12.683313   \n1087   CG9928   6305.014337       -6.170302  0.491680 -12.549434   \n398   CG16772   4436.102728       -7.126075  0.582326 -12.237271   \n446   CG18067  15650.975435       -5.645992  0.462952 -12.195644   \n929    CG6426    846.954142       -6.649998  0.547367 -12.149071   \n1079   CG9691   2606.792719       -5.619780  0.464868 -12.088984   \n\n             pvalue           padj  \n2170  1.603560e-123  1.715809e-119  \n1471   2.632841e-57   1.408570e-53  \n348    1.595791e-56   5.691654e-53  \n1631   1.330503e-54   3.559094e-51  \n1780   2.029412e-52   4.342941e-49  \n1467   1.712250e-51   3.053512e-48  \n1470   2.660357e-50   4.066546e-47  \n1469   1.717740e-49   2.297478e-46  \n1472   2.949456e-48   3.506576e-45  \n885    4.061682e-46   4.345999e-43  \n1473   4.330022e-44   4.211931e-41  \n448    9.492476e-41   8.464125e-38  \n349    1.051478e-39   8.654475e-37  \n887    1.716447e-39   1.311856e-36  \n1624   7.317216e-37   5.219614e-34  \n1087   4.003590e-36   2.677401e-33  \n398    1.965299e-34   1.236982e-31  \n446    3.278996e-34   1.949181e-31  \n929    5.802095e-34   3.267496e-31  \n1079   1.207706e-33   6.461227e-31   \n\nTOP COGNITION:          gene      baseMean  log2FoldChange     lfcSE       stat        pvalue  \\\n1780  Pka-C1  13758.814627        2.526723  0.165835  15.236334  2.029412e-52   \n\n              padj  \n1780  4.342941e-49   \n\nRatio cognition vs non-cognition in top 20:  0.05 \n\n"
     ]
    }
   ],
   "source": [
    "top_20_mean_G_KCs, top_cognition_mean_G_KCs, ratio_mean_G_KCs = top_list_genes(genes_mean_G_KCs)\n",
    "print(\"TOP 20 SIGNIFICANT: \", top_20_mean_G_KCs, \"\\n\")\n",
    "print(\"TOP COGNITION: \", top_cognition_mean_G_KCs, \"\\n\")\n",
    "print(\"Ratio cognition vs non-cognition in top 20:  %.2f\" % ratio_mean_G_KCs, \"\\n\")"
   ]
  },
  {
   "source": [
    "## f) R27 vs mean:"
   ],
   "cell_type": "markdown",
   "metadata": {}
  },
  {
   "cell_type": "code",
   "execution_count": 70,
   "metadata": {},
   "outputs": [
    {
     "output_type": "execute_result",
     "data": {
      "text/plain": [
       "            gene      baseMean  log2FoldChange     lfcSE      stat  \\\n",
       "0          140up    103.708171       -2.133845  0.721236 -2.958593   \n",
       "1  14-3-3epsilon  11584.976852       -0.372036  0.144318 -2.577886   \n",
       "2     14-3-3zeta  58800.016238       -0.959431  0.138606 -6.921993   \n",
       "3           4EHP    680.858997       -0.932889  0.381164 -2.447475   \n",
       "4         5-HT1A   1726.547143        1.188162  0.346324  3.430785   \n",
       "\n",
       "         pvalue          padj  \n",
       "0  3.090469e-03  1.465787e-02  \n",
       "1  9.940669e-03  3.719382e-02  \n",
       "2  4.453334e-12  2.955639e-10  \n",
       "3  1.438613e-02  4.985397e-02  \n",
       "4  6.018368e-04  3.738420e-03  "
      ],
      "text/html": "<div>\n<style scoped>\n    .dataframe tbody tr th:only-of-type {\n        vertical-align: middle;\n    }\n\n    .dataframe tbody tr th {\n        vertical-align: top;\n    }\n\n    .dataframe thead th {\n        text-align: right;\n    }\n</style>\n<table border=\"1\" class=\"dataframe\">\n  <thead>\n    <tr style=\"text-align: right;\">\n      <th></th>\n      <th>gene</th>\n      <th>baseMean</th>\n      <th>log2FoldChange</th>\n      <th>lfcSE</th>\n      <th>stat</th>\n      <th>pvalue</th>\n      <th>padj</th>\n    </tr>\n  </thead>\n  <tbody>\n    <tr>\n      <th>0</th>\n      <td>140up</td>\n      <td>103.708171</td>\n      <td>-2.133845</td>\n      <td>0.721236</td>\n      <td>-2.958593</td>\n      <td>3.090469e-03</td>\n      <td>1.465787e-02</td>\n    </tr>\n    <tr>\n      <th>1</th>\n      <td>14-3-3epsilon</td>\n      <td>11584.976852</td>\n      <td>-0.372036</td>\n      <td>0.144318</td>\n      <td>-2.577886</td>\n      <td>9.940669e-03</td>\n      <td>3.719382e-02</td>\n    </tr>\n    <tr>\n      <th>2</th>\n      <td>14-3-3zeta</td>\n      <td>58800.016238</td>\n      <td>-0.959431</td>\n      <td>0.138606</td>\n      <td>-6.921993</td>\n      <td>4.453334e-12</td>\n      <td>2.955639e-10</td>\n    </tr>\n    <tr>\n      <th>3</th>\n      <td>4EHP</td>\n      <td>680.858997</td>\n      <td>-0.932889</td>\n      <td>0.381164</td>\n      <td>-2.447475</td>\n      <td>1.438613e-02</td>\n      <td>4.985397e-02</td>\n    </tr>\n    <tr>\n      <th>4</th>\n      <td>5-HT1A</td>\n      <td>1726.547143</td>\n      <td>1.188162</td>\n      <td>0.346324</td>\n      <td>3.430785</td>\n      <td>6.018368e-04</td>\n      <td>3.738420e-03</td>\n    </tr>\n  </tbody>\n</table>\n</div>"
     },
     "metadata": {},
     "execution_count": 70
    }
   ],
   "source": [
    "genes_mean_R27 = pd.read_excel(PATH_MY_DGE + MEAN_R27)\n",
    "genes_mean_R27.head()"
   ]
  },
  {
   "cell_type": "code",
   "execution_count": 71,
   "metadata": {},
   "outputs": [
    {
     "output_type": "stream",
     "name": "stdout",
     "text": [
      "               significant  non-significant\nnames                                      \ncognition               60               77\nnon-cognition         2796            12749\nOdds ration for R27 vs mean:  3.55\n"
     ]
    }
   ],
   "source": [
    "contingency_table_mean_R27 = compute_contingency_table(genes_mean_R27)\n",
    "print(contingency_table_mean_R27)\n",
    "odds_ratio_mean_R27 = compute_odds_ratio(contingency_table_mean_R27)\n",
    "print(\"Odds ration for R27 vs mean:  %.2f\" % odds_ratio_mean_R27)"
   ]
  },
  {
   "cell_type": "code",
   "execution_count": 72,
   "metadata": {},
   "outputs": [
    {
     "output_type": "stream",
     "name": "stdout",
     "text": [
      "TOP 20 SIGNIFICANT:           gene      baseMean  log2FoldChange     lfcSE       stat  \\\n2799    VGlut  25766.143689        3.076564  0.270912  11.356326   \n802   CG31221  26621.149012       -3.902386  0.390656  -9.989311   \n2122      mub  24535.829534       -2.220923  0.225435  -9.851714   \n792    CG3104    179.477070       -8.005783  0.823363  -9.723273   \n2115    mthl8    322.598079       -7.162813  0.740210  -9.676735   \n2392    rho-7    146.265426       -6.602217  0.688769  -9.585526   \n2228      pan   9561.539163       -2.438080  0.255730  -9.533802   \n1648      DAT    635.822693       -7.209934  0.765272  -9.421407   \n1953     Iswi    197.790872       -5.764627  0.612761  -9.407629   \n46        Ald  17495.929955        1.279212  0.136365   9.380760   \n2450   RpL37a   8730.533595        2.106822  0.226051   9.320111   \n1697      Drs   3066.622796        6.027949  0.658498   9.154084   \n2508    Saf-B    431.301379       -4.622846  0.512441  -9.021224   \n1650      Dbi   2809.216590        3.758806  0.422339   8.899964   \n1927     IM14   7217.546238        4.080976  0.460852   8.855281   \n517   CG14667    127.843857       -7.180870  0.810592  -8.858793   \n1656   desat1  16479.837566        2.803990  0.317375   8.834934   \n1775      flr    116.255436       -6.178993  0.702264  -8.798675   \n1962   JhI-21    172.689431       -7.477571  0.853624  -8.759792   \n1272   CG6254    187.458060       -7.536265  0.865720  -8.705194   \n\n            pvalue          padj  \n2799  6.898490e-30  6.821917e-26  \n802   1.697575e-23  8.393662e-20  \n2122  6.738466e-23  2.221223e-19  \n792   2.399421e-22  5.931970e-19  \n2115  3.786155e-22  7.488258e-19  \n2392  9.198795e-22  1.516115e-18  \n2228  1.516263e-21  2.142047e-18  \n1648  4.450836e-21  5.501790e-18  \n1953  5.074559e-21  5.575813e-18  \n46    6.549860e-21  6.477157e-18  \n2450  1.162183e-20  1.044802e-17  \n1697  5.482090e-20  4.517699e-17  \n2508  1.859995e-19  1.414884e-16  \n1650  5.586493e-19  3.946059e-16  \n1927  8.347325e-19  5.159169e-16  \n517   8.088547e-19  5.159169e-16  \n1656  1.001577e-18  5.826233e-16  \n1775  1.384410e-18  7.605795e-16  \n1962  1.956115e-18  1.018106e-15  \n1272  3.170312e-18  1.567561e-15   \n\nTOP COGNITION:  Empty DataFrame\nColumns: [gene, baseMean, log2FoldChange, lfcSE, stat, pvalue, padj]\nIndex: [] \n\nRatio cognition vs non-cognition in top 20:  0.00 \n\n"
     ]
    }
   ],
   "source": [
    "top_20_mean_R27, top_cognition_mean_R27, ratio_mean_R27 = top_list_genes(genes_mean_R27)\n",
    "print(\"TOP 20 SIGNIFICANT: \", top_20_mean_R27, \"\\n\")\n",
    "print(\"TOP COGNITION: \", top_cognition_mean_R27, \"\\n\")\n",
    "print(\"Ratio cognition vs non-cognition in top 20:  %.2f\" % ratio_mean_R27, \"\\n\")"
   ]
  },
  {
   "source": [
    "## g) G386 vs mean:"
   ],
   "cell_type": "markdown",
   "metadata": {}
  },
  {
   "cell_type": "code",
   "execution_count": 73,
   "metadata": {},
   "outputs": [
    {
     "output_type": "execute_result",
     "data": {
      "text/plain": [
       "         gene      baseMean  log2FoldChange     lfcSE      stat        pvalue  \\\n",
       "0       40421    164.820080       -1.456397  0.489250 -2.976798  2.912756e-03   \n",
       "1       40512     15.273559        4.668935  1.141927  4.088646  4.338994e-05   \n",
       "2       128up    166.372302        1.750998  0.490266  3.571525  3.549087e-04   \n",
       "3  14-3-3zeta  58800.016238       -0.864278  0.126198 -6.848586  7.458331e-12   \n",
       "4        2mit   5687.472251       -0.836722  0.234015 -3.575499  3.495607e-04   \n",
       "\n",
       "           padj  \n",
       "0  1.353779e-02  \n",
       "1  3.982310e-04  \n",
       "2  2.341475e-03  \n",
       "3  5.051776e-10  \n",
       "4  2.315213e-03  "
      ],
      "text/html": "<div>\n<style scoped>\n    .dataframe tbody tr th:only-of-type {\n        vertical-align: middle;\n    }\n\n    .dataframe tbody tr th {\n        vertical-align: top;\n    }\n\n    .dataframe thead th {\n        text-align: right;\n    }\n</style>\n<table border=\"1\" class=\"dataframe\">\n  <thead>\n    <tr style=\"text-align: right;\">\n      <th></th>\n      <th>gene</th>\n      <th>baseMean</th>\n      <th>log2FoldChange</th>\n      <th>lfcSE</th>\n      <th>stat</th>\n      <th>pvalue</th>\n      <th>padj</th>\n    </tr>\n  </thead>\n  <tbody>\n    <tr>\n      <th>0</th>\n      <td>40421</td>\n      <td>164.820080</td>\n      <td>-1.456397</td>\n      <td>0.489250</td>\n      <td>-2.976798</td>\n      <td>2.912756e-03</td>\n      <td>1.353779e-02</td>\n    </tr>\n    <tr>\n      <th>1</th>\n      <td>40512</td>\n      <td>15.273559</td>\n      <td>4.668935</td>\n      <td>1.141927</td>\n      <td>4.088646</td>\n      <td>4.338994e-05</td>\n      <td>3.982310e-04</td>\n    </tr>\n    <tr>\n      <th>2</th>\n      <td>128up</td>\n      <td>166.372302</td>\n      <td>1.750998</td>\n      <td>0.490266</td>\n      <td>3.571525</td>\n      <td>3.549087e-04</td>\n      <td>2.341475e-03</td>\n    </tr>\n    <tr>\n      <th>3</th>\n      <td>14-3-3zeta</td>\n      <td>58800.016238</td>\n      <td>-0.864278</td>\n      <td>0.126198</td>\n      <td>-6.848586</td>\n      <td>7.458331e-12</td>\n      <td>5.051776e-10</td>\n    </tr>\n    <tr>\n      <th>4</th>\n      <td>2mit</td>\n      <td>5687.472251</td>\n      <td>-0.836722</td>\n      <td>0.234015</td>\n      <td>-3.575499</td>\n      <td>3.495607e-04</td>\n      <td>2.315213e-03</td>\n    </tr>\n  </tbody>\n</table>\n</div>"
     },
     "metadata": {},
     "execution_count": 73
    }
   ],
   "source": [
    "genes_mean_G386 = pd.read_excel(PATH_MY_DGE + MEAN_G386)\n",
    "genes_mean_G386.head()"
   ]
  },
  {
   "cell_type": "code",
   "execution_count": 74,
   "metadata": {},
   "outputs": [
    {
     "output_type": "stream",
     "name": "stdout",
     "text": [
      "               significant  non-significant\nnames                                      \ncognition               59               78\nnon-cognition         2938            12607\nOdds ration for G386 vs mean:  3.25\n"
     ]
    }
   ],
   "source": [
    "contingency_table_mean_G386 = compute_contingency_table(genes_mean_G386)\n",
    "print(contingency_table_mean_G386)\n",
    "odds_ratio_mean_G386 = compute_odds_ratio(contingency_table_mean_G386)\n",
    "print(\"Odds ration for G386 vs mean:  %.2f\" % odds_ratio_mean_G386)"
   ]
  },
  {
   "cell_type": "code",
   "execution_count": 75,
   "metadata": {},
   "outputs": [
    {
     "output_type": "stream",
     "name": "stdout",
     "text": [
      "TOP 20 SIGNIFICANT:           gene      baseMean  log2FoldChange     lfcSE       stat  \\\n1640  CR43212     19.487941        6.850780  0.483138  14.179756   \n2940    VGlut  25766.143689        2.786228  0.247098  11.275824   \n2142     Lgr1    569.200952       -7.899626  0.731686 -10.796469   \n1799      ear    164.206692       -7.755911  0.735536 -10.544572   \n2916      Ubx   3622.856686        3.904110  0.376359  10.373360   \n1295   CG6443    246.925448       -6.543448  0.647936 -10.098916   \n1900   Gapdh1   2868.651287        1.827306  0.180687  10.113099   \n2733     Slbp    123.900016       -7.193336  0.733765  -9.803325   \n2187     Mef2   3490.889867       -2.439977  0.251824  -9.689213   \n2140     levy   4351.126806        1.731675  0.178751   9.687640   \n2383      Pdh   1599.665069        5.254179  0.543827   9.661499   \n1050  CG42368   2160.347323        4.346994  0.455890   9.535178   \n214   CG10543   1047.895148       -2.479450  0.263695  -9.402733   \n1642  CR43214     14.767597        7.754805  0.829408   9.349810   \n46        Ald  17495.929955        1.157327  0.124160   9.321222   \n859   CG32655    114.936283       -6.768121  0.741113  -9.132372   \n2371   Pbprp2   1354.026651        6.093562  0.670099   9.093521   \n493   CG14721     76.937361       -7.135718  0.789910  -9.033585   \n1594   CoVIII   5041.168758        1.658782  0.183816   9.024119   \n989    CG3560   4722.344885        1.532579  0.170600   8.983471   \n\n            pvalue          padj  \n1640  1.222711e-45  1.242275e-41  \n2940  1.727532e-29  8.775863e-26  \n2142  3.576965e-27  1.211399e-23  \n1799  5.381730e-26  1.366959e-22  \n2916  3.277911e-25  6.660715e-22  \n1295  5.585606e-24  8.107108e-21  \n1900  4.833106e-24  8.107108e-21  \n2733  1.089396e-22  1.383532e-19  \n2187  3.351002e-22  3.457464e-19  \n2140  3.403015e-22  3.457464e-19  \n2383  4.393879e-22  4.058346e-19  \n1050  1.496284e-21  1.266854e-18  \n214   5.316404e-21  4.154974e-18  \n1642  8.780527e-21  6.372154e-18  \n46    1.150085e-20  7.789909e-18  \n859   6.701448e-20  4.255419e-17  \n2371  9.588226e-20  5.730375e-17  \n493   1.661384e-19  9.377588e-17  \n1594  1.811471e-19  9.686600e-17  \n989   2.623574e-19  1.332775e-16   \n\nTOP COGNITION:  Empty DataFrame\nColumns: [gene, baseMean, log2FoldChange, lfcSE, stat, pvalue, padj]\nIndex: [] \n\nRatio cognition vs non-cognition in top 20:  0.00 \n\n"
     ]
    }
   ],
   "source": [
    "top_20_mean_G386, top_cognition_mean_G386, ratio_mean_G386 = top_list_genes(genes_mean_G386)\n",
    "print(\"TOP 20 SIGNIFICANT: \", top_20_mean_G386, \"\\n\")\n",
    "print(\"TOP COGNITION: \", top_cognition_mean_G386, \"\\n\")\n",
    "print(\"Ratio cognition vs non-cognition in top 20:  %.2f\" % ratio_mean_G386, \"\\n\")"
   ]
  },
  {
   "source": [
    "# 3) Pairwise Wald test comparisons"
   ],
   "cell_type": "markdown",
   "metadata": {}
  },
  {
   "source": [
    "## DAL:"
   ],
   "cell_type": "markdown",
   "metadata": {}
  },
  {
   "cell_type": "code",
   "execution_count": 127,
   "metadata": {},
   "outputs": [],
   "source": [
    "genes_DAL_V2 = pd.read_excel(PATH_MY_DGE + PAIRWISE_DAL + \"V2.xlsx\", index_col=0)\n",
    "genes_DAL_V3 = pd.read_excel(PATH_MY_DGE + PAIRWISE_DAL + \"V3.xlsx\", index_col=0)\n",
    "genes_DAL_AB_KCs = pd.read_excel(PATH_MY_DGE + PAIRWISE_DAL + \"AB_KCs.xlsx\", index_col=0)\n",
    "genes_DAL_G_KCs = pd.read_excel(PATH_MY_DGE + PAIRWISE_DAL + \"G_KCs.xlsx\", index_col=0)\n",
    "genes_DAL_R27 = pd.read_excel(PATH_MY_DGE + PAIRWISE_DAL + \"R27.xlsx\", index_col=0)\n",
    "genes_DAL_G386 = pd.read_excel(PATH_MY_DGE + PAIRWISE_DAL + \"G386.xlsx\", index_col=0)"
   ]
  },
  {
   "cell_type": "code",
   "execution_count": 133,
   "metadata": {},
   "outputs": [],
   "source": [
    "merge_DAL_1 = genes_DAL_V2.merge(genes_DAL_V3, left_index=True, right_index=True)\n",
    "merge_DAL_2 = merge_DAL_1.merge(genes_DAL_AB_KCs, left_index=True, right_index=True)\n",
    "merge_DAL_3 = merge_DAL_2.merge(genes_DAL_G_KCs, left_index=True, right_index=True)\n",
    "merge_DAL_4 = merge_DAL_3.merge(genes_DAL_R27, left_index=True, right_index=True)\n",
    "merge_DAL_5 = merge_DAL_4.merge(genes_DAL_G386, left_index=True, right_index=True)"
   ]
  },
  {
   "cell_type": "code",
   "execution_count": 140,
   "metadata": {},
   "outputs": [
    {
     "output_type": "stream",
     "name": "stdout",
     "text": [
      "Ratio cognition vs non-cognition common to all DAL pairwise comparisons:  0.02 \n\n"
     ]
    }
   ],
   "source": [
    "ratio_cognition_pairwise_DAL = merge_DAL_5[merge_DAL_5.index.isin(cognition_gene_names)].shape[0] / merge_DAL_5.shape[0]\n",
    "print(\"Ratio cognition vs non-cognition common to all DAL pairwise comparisons:  %.2f\" % ratio_cognition_pairwise_DAL, \"\\n\")"
   ]
  },
  {
   "source": [
    "## V2:"
   ],
   "cell_type": "markdown",
   "metadata": {}
  },
  {
   "cell_type": "code",
   "execution_count": 141,
   "metadata": {},
   "outputs": [],
   "source": [
    "genes_V2_DAL = pd.read_excel(PATH_MY_DGE + PAIRWISE_V2 + \"DAL.xlsx\", index_col=0)\n",
    "genes_V2_V3 = pd.read_excel(PATH_MY_DGE + PAIRWISE_V2 + \"V3.xlsx\", index_col=0)\n",
    "genes_V2_AB_KCs = pd.read_excel(PATH_MY_DGE + PAIRWISE_V2 + \"AB_KCs.xlsx\", index_col=0)\n",
    "genes_V2_G_KCs = pd.read_excel(PATH_MY_DGE + PAIRWISE_V2 + \"G_KCs.xlsx\", index_col=0)\n",
    "genes_V2_R27 = pd.read_excel(PATH_MY_DGE + PAIRWISE_V2 + \"R27.xlsx\", index_col=0)\n",
    "genes_V2_G386 = pd.read_excel(PATH_MY_DGE + PAIRWISE_V2 + \"G386.xlsx\", index_col=0)"
   ]
  },
  {
   "cell_type": "code",
   "execution_count": 143,
   "metadata": {},
   "outputs": [],
   "source": [
    "merge_V2_1 = genes_V2_DAL.merge(genes_V2_V3, left_index=True, right_index=True)\n",
    "merge_V2_2 = merge_V2_1.merge(genes_V2_AB_KCs, left_index=True, right_index=True)\n",
    "merge_V2_3 = merge_V2_2.merge(genes_V2_G_KCs, left_index=True, right_index=True)\n",
    "merge_V2_4 = merge_V2_3.merge(genes_V2_R27, left_index=True, right_index=True)\n",
    "merge_V2_5 = merge_V2_4.merge(genes_V2_G386, left_index=True, right_index=True)"
   ]
  },
  {
   "cell_type": "code",
   "execution_count": 144,
   "metadata": {},
   "outputs": [
    {
     "output_type": "stream",
     "name": "stdout",
     "text": [
      "Ratio cognition vs non-cognition common to all V2 pairwise comparisons:  0.03 \n\n"
     ]
    }
   ],
   "source": [
    "ratio_cognition_pairwise_V2 = merge_V2_5[merge_V2_5.index.isin(cognition_gene_names)].shape[0] / merge_V2_5.shape[0]\n",
    "print(\"Ratio cognition vs non-cognition common to all V2 pairwise comparisons:  %.2f\" % ratio_cognition_pairwise_V2, \"\\n\")"
   ]
  },
  {
   "source": [
    "## V3:"
   ],
   "cell_type": "markdown",
   "metadata": {}
  },
  {
   "cell_type": "code",
   "execution_count": 146,
   "metadata": {},
   "outputs": [],
   "source": [
    "genes_V3_DAL = pd.read_excel(PATH_MY_DGE + PAIRWISE_V3 + \"DAL.xlsx\", index_col=0)\n",
    "genes_V3_V2 = pd.read_excel(PATH_MY_DGE + PAIRWISE_V3 + \"V2.xlsx\", index_col=0)\n",
    "genes_V3_AB_KCs = pd.read_excel(PATH_MY_DGE + PAIRWISE_V3 + \"AB_KCs.xlsx\", index_col=0)\n",
    "genes_V3_G_KCs = pd.read_excel(PATH_MY_DGE + PAIRWISE_V3 + \"G_KCs.xlsx\", index_col=0)\n",
    "genes_V3_R27 = pd.read_excel(PATH_MY_DGE + PAIRWISE_V3 + \"R27.xlsx\", index_col=0)\n",
    "genes_V3_G386 = pd.read_excel(PATH_MY_DGE + PAIRWISE_V3 + \"G386.xlsx\", index_col=0)"
   ]
  },
  {
   "cell_type": "code",
   "execution_count": 147,
   "metadata": {},
   "outputs": [],
   "source": [
    "merge_V3_1 = genes_V3_DAL.merge(genes_V3_V2, left_index=True, right_index=True)\n",
    "merge_V3_2 = merge_V3_1.merge(genes_V3_AB_KCs, left_index=True, right_index=True)\n",
    "merge_V3_3 = merge_V3_2.merge(genes_V3_G_KCs, left_index=True, right_index=True)\n",
    "merge_V3_4 = merge_V3_3.merge(genes_V3_R27, left_index=True, right_index=True)\n",
    "merge_V3_5 = merge_V3_4.merge(genes_V3_G386, left_index=True, right_index=True)"
   ]
  },
  {
   "cell_type": "code",
   "execution_count": 148,
   "metadata": {},
   "outputs": [
    {
     "output_type": "stream",
     "name": "stdout",
     "text": [
      "Ratio cognition vs non-cognition common to all V3 pairwise comparisons:  0.02 \n\n"
     ]
    }
   ],
   "source": [
    "ratio_cognition_pairwise_V3 = merge_V3_5[merge_V3_5.index.isin(cognition_gene_names)].shape[0] / merge_V3_5.shape[0]\n",
    "print(\"Ratio cognition vs non-cognition common to all V3 pairwise comparisons:  %.2f\" % ratio_cognition_pairwise_V3, \"\\n\")"
   ]
  },
  {
   "source": [
    "## AB_KCs:"
   ],
   "cell_type": "markdown",
   "metadata": {}
  },
  {
   "cell_type": "code",
   "execution_count": 150,
   "metadata": {},
   "outputs": [],
   "source": [
    "genes_AB_KCs_DAL = pd.read_excel(PATH_MY_DGE + PAIRWISE_AB_KCs + \"DAL.xlsx\", index_col=0)\n",
    "genes_AB_KCs_V2 = pd.read_excel(PATH_MY_DGE + PAIRWISE_AB_KCs + \"V2.xlsx\", index_col=0)\n",
    "genes_AB_KCs_V3 = pd.read_excel(PATH_MY_DGE + PAIRWISE_AB_KCs + \"V3.xlsx\", index_col=0)\n",
    "genes_AB_KCs_G_KCs = pd.read_excel(PATH_MY_DGE + PAIRWISE_AB_KCs + \"G_KCs.xlsx\", index_col=0)\n",
    "genes_AB_KCs_R27 = pd.read_excel(PATH_MY_DGE + PAIRWISE_AB_KCs + \"R27.xlsx\", index_col=0)\n",
    "genes_AB_KCs_G386 = pd.read_excel(PATH_MY_DGE + PAIRWISE_AB_KCs + \"G386.xlsx\", index_col=0)"
   ]
  },
  {
   "cell_type": "code",
   "execution_count": 151,
   "metadata": {},
   "outputs": [],
   "source": [
    "merge_AB_KCs_1 = genes_AB_KCs_DAL.merge(genes_AB_KCs_V2, left_index=True, right_index=True)\n",
    "merge_AB_KCs_2 = merge_AB_KCs_1.merge(genes_AB_KCs_V3, left_index=True, right_index=True)\n",
    "merge_AB_KCs_3 = merge_AB_KCs_2.merge(genes_AB_KCs_G_KCs, left_index=True, right_index=True)\n",
    "merge_AB_KCs_4 = merge_AB_KCs_3.merge(genes_AB_KCs_R27, left_index=True, right_index=True)\n",
    "merge_AB_KCs_5 = merge_AB_KCs_4.merge(genes_AB_KCs_G386, left_index=True, right_index=True)"
   ]
  },
  {
   "cell_type": "code",
   "execution_count": 152,
   "metadata": {},
   "outputs": [
    {
     "output_type": "stream",
     "name": "stdout",
     "text": [
      "Ratio cognition vs non-cognition common to all AB_KCs pairwise comparisons:  0.08 \n\n"
     ]
    }
   ],
   "source": [
    "ratio_cognition_pairwise_AB_KCs = merge_AB_KCs_5[merge_AB_KCs_5.index.isin(cognition_gene_names)].shape[0] / merge_AB_KCs_5.shape[0]\n",
    "print(\"Ratio cognition vs non-cognition common to all AB_KCs pairwise comparisons:  %.2f\" % ratio_cognition_pairwise_AB_KCs, \"\\n\")"
   ]
  },
  {
   "source": [
    "## G_KCs:"
   ],
   "cell_type": "markdown",
   "metadata": {}
  },
  {
   "cell_type": "code",
   "execution_count": 24,
   "metadata": {},
   "outputs": [],
   "source": [
    "genes_G_KCs_DAL = pd.read_excel(PATH_MY_DGE + PAIRWISE_G_KCs + \"DAL.xlsx\", index_col=0)\n",
    "genes_G_KCs_V2 = pd.read_excel(PATH_MY_DGE + PAIRWISE_G_KCs + \"V2.xlsx\", index_col=0)\n",
    "genes_G_KCs_V3 = pd.read_excel(PATH_MY_DGE + PAIRWISE_G_KCs + \"V3.xlsx\", index_col=0)\n",
    "genes_G_KCs_AB_KCs = pd.read_excel(PATH_MY_DGE + PAIRWISE_G_KCs + \"AB_KCs.xlsx\", index_col=0)\n",
    "genes_G_KCs_R27 = pd.read_excel(PATH_MY_DGE + PAIRWISE_G_KCs + \"R27.xlsx\", index_col=0)\n",
    "genes_G_KCs_G386 = pd.read_excel(PATH_MY_DGE + PAIRWISE_G_KCs + \"G386.xlsx\", index_col=0)"
   ]
  },
  {
   "source": [
    "## R27:"
   ],
   "cell_type": "markdown",
   "metadata": {}
  },
  {
   "cell_type": "code",
   "execution_count": 25,
   "metadata": {},
   "outputs": [],
   "source": [
    "genes_R27_DAL = pd.read_excel(PATH_MY_DGE + PAIRWISE_R27 + \"DAL.xlsx\", index_col=0)\n",
    "genes_R27_V2 = pd.read_excel(PATH_MY_DGE + PAIRWISE_R27 + \"V2.xlsx\", index_col=0)\n",
    "genes_R27_V3 = pd.read_excel(PATH_MY_DGE + PAIRWISE_R27 + \"V3.xlsx\", index_col=0)\n",
    "genes_R27_AB_KCs = pd.read_excel(PATH_MY_DGE + PAIRWISE_R27 + \"AB_KCs.xlsx\", index_col=0)\n",
    "genes_R27_G_KCs = pd.read_excel(PATH_MY_DGE + PAIRWISE_R27 + \"G_KCs.xlsx\", index_col=0)\n",
    "genes_R27_G386 = pd.read_excel(PATH_MY_DGE + PAIRWISE_R27 + \"G386.xlsx\", index_col=0)"
   ]
  },
  {
   "source": [
    "## G386:"
   ],
   "cell_type": "markdown",
   "metadata": {}
  },
  {
   "cell_type": "code",
   "execution_count": 26,
   "metadata": {},
   "outputs": [],
   "source": [
    "genes_G386_DAL = pd.read_excel(PATH_MY_DGE + PAIRWISE_G386 + \"DAL.xlsx\", index_col=0)\n",
    "genes_G386_V2 = pd.read_excel(PATH_MY_DGE + PAIRWISE_G386 + \"V2.xlsx\", index_col=0)\n",
    "genes_G386_V3 = pd.read_excel(PATH_MY_DGE + PAIRWISE_G386 + \"V3.xlsx\", index_col=0)\n",
    "genes_G386_AB_KCs = pd.read_excel(PATH_MY_DGE + PAIRWISE_G386 + \"AB_KCs.xlsx\", index_col=0)\n",
    "genes_G386_G_KCs = pd.read_excel(PATH_MY_DGE + PAIRWISE_G386 + \"G_KCs.xlsx\", index_col=0)\n",
    "genes_G386_R27 = pd.read_excel(PATH_MY_DGE + PAIRWISE_G386 + \"R27.xlsx\", index_col=0)"
   ]
  },
  {
   "source": [
    "# 4) From the available data (suppl. material) about the effect of training for each neuron type"
   ],
   "cell_type": "markdown",
   "metadata": {}
  },
  {
   "source": [
    "## DAL:"
   ],
   "cell_type": "markdown",
   "metadata": {}
  },
  {
   "cell_type": "code",
   "execution_count": 82,
   "metadata": {},
   "outputs": [
    {
     "output_type": "execute_result",
     "data": {
      "text/plain": [
       "      gene    baseMean  log2FoldChange     lfcSE      stat        pvalue  \\\n",
       "0   CG9795  391.861111        4.597266  0.745981  6.162710  7.150000e-10   \n",
       "1     Iris  613.725985        4.315740  0.698002  6.182989  6.290000e-10   \n",
       "2  CG14872  306.427925        6.624354  1.193614  5.549829  2.860000e-08   \n",
       "3   EndoGI  324.007092        6.943721  1.256086  5.528063  3.240000e-08   \n",
       "4   CG7488  166.630262        7.879910  1.491390  5.283602  1.270000e-07   \n",
       "\n",
       "       padj    qvalue  \n",
       "0  0.000002  0.000002  \n",
       "1  0.000002  0.000002  \n",
       "2  0.000055  0.000050  \n",
       "3  0.000055  0.000050  \n",
       "4  0.000171  0.000158  "
      ],
      "text/html": "<div>\n<style scoped>\n    .dataframe tbody tr th:only-of-type {\n        vertical-align: middle;\n    }\n\n    .dataframe tbody tr th {\n        vertical-align: top;\n    }\n\n    .dataframe thead th {\n        text-align: right;\n    }\n</style>\n<table border=\"1\" class=\"dataframe\">\n  <thead>\n    <tr style=\"text-align: right;\">\n      <th></th>\n      <th>gene</th>\n      <th>baseMean</th>\n      <th>log2FoldChange</th>\n      <th>lfcSE</th>\n      <th>stat</th>\n      <th>pvalue</th>\n      <th>padj</th>\n      <th>qvalue</th>\n    </tr>\n  </thead>\n  <tbody>\n    <tr>\n      <th>0</th>\n      <td>CG9795</td>\n      <td>391.861111</td>\n      <td>4.597266</td>\n      <td>0.745981</td>\n      <td>6.162710</td>\n      <td>7.150000e-10</td>\n      <td>0.000002</td>\n      <td>0.000002</td>\n    </tr>\n    <tr>\n      <th>1</th>\n      <td>Iris</td>\n      <td>613.725985</td>\n      <td>4.315740</td>\n      <td>0.698002</td>\n      <td>6.182989</td>\n      <td>6.290000e-10</td>\n      <td>0.000002</td>\n      <td>0.000002</td>\n    </tr>\n    <tr>\n      <th>2</th>\n      <td>CG14872</td>\n      <td>306.427925</td>\n      <td>6.624354</td>\n      <td>1.193614</td>\n      <td>5.549829</td>\n      <td>2.860000e-08</td>\n      <td>0.000055</td>\n      <td>0.000050</td>\n    </tr>\n    <tr>\n      <th>3</th>\n      <td>EndoGI</td>\n      <td>324.007092</td>\n      <td>6.943721</td>\n      <td>1.256086</td>\n      <td>5.528063</td>\n      <td>3.240000e-08</td>\n      <td>0.000055</td>\n      <td>0.000050</td>\n    </tr>\n    <tr>\n      <th>4</th>\n      <td>CG7488</td>\n      <td>166.630262</td>\n      <td>7.879910</td>\n      <td>1.491390</td>\n      <td>5.283602</td>\n      <td>1.270000e-07</td>\n      <td>0.000171</td>\n      <td>0.000158</td>\n    </tr>\n  </tbody>\n</table>\n</div>"
     },
     "metadata": {},
     "execution_count": 82
    }
   ],
   "source": [
    "DAL = pd.read_excel(DGE_PAPER, sheet_name=\"Supplemental Table 6\", usecols=\"A:H\", skiprows=7)\n",
    "DAL.rename(columns={'Genes': 'gene'}, inplace=True)\n",
    "DAL.dropna(axis=0, inplace=True)\n",
    "DAL.head()"
   ]
  },
  {
   "cell_type": "code",
   "execution_count": 84,
   "metadata": {},
   "outputs": [
    {
     "output_type": "stream",
     "name": "stdout",
     "text": [
      "               significant  non-significant\nnames                                      \ncognition              122               15\nnon-cognition         6628             8917\nOdds ration for DAL training paired vs unpaired:  10.94\n"
     ]
    }
   ],
   "source": [
    "contingency_table_DAL = compute_contingency_table(DAL)\n",
    "print(contingency_table_DAL)\n",
    "odds_ratio_DAL = compute_odds_ratio(contingency_table_DAL)\n",
    "print(\"Odds ration for DAL training paired vs unpaired:  %.2f\" % odds_ratio_DAL)"
   ]
  },
  {
   "cell_type": "code",
   "execution_count": 85,
   "metadata": {},
   "outputs": [
    {
     "output_type": "stream",
     "name": "stdout",
     "text": [
      "TOP 20 SIGNIFICANT:          gene     baseMean  log2FoldChange     lfcSE      stat        pvalue  \\\n0     CG9795   391.861111        4.597266  0.745981  6.162710  7.150000e-10   \n1       Iris   613.725985        4.315740  0.698002  6.182989  6.290000e-10   \n2    CG14872   306.427925        6.624354  1.193614  5.549829  2.860000e-08   \n3     EndoGI   324.007092        6.943721  1.256086  5.528063  3.240000e-08   \n4     CG7488   166.630262        7.879910  1.491390  5.283602  1.270000e-07   \n5    CG18596   138.611210        6.986130  1.348608  5.180252  2.220000e-07   \n6        del   212.657803        8.252819  1.591374  5.185972  2.150000e-07   \n7     CG5009   251.513996        6.266371  1.266866  4.946355  7.560000e-07   \n8     CG5626   110.247188       -9.520532  1.952826 -4.875258  1.090000e-06   \n9   l(3)72Do   122.125157        7.653673  1.570230  4.874238  1.090000e-06   \n10   CG10616   196.981980       -9.167886  1.906852 -4.807864  1.530000e-06   \n11       Brf   174.750360        9.390306  1.980625  4.741081  2.130000e-06   \n12     Tis11  1227.253567        2.782535  0.589665  4.718837  2.370000e-06   \n13       cpb   213.502022        4.891726  1.042006  4.694526  2.670000e-06   \n14       Rh4   942.595741        5.432450  1.169460  4.645262  3.400000e-06   \n15       lea   189.749658        7.182227  1.550900  4.631006  3.640000e-06   \n16   CG31704   434.791677        6.272895  1.365616  4.593455  4.360000e-06   \n17   CG30096   123.211555        8.103858  1.784354  4.541622  5.580000e-06   \n18     mthl2   485.999737       -5.396509  1.188112 -4.542087  5.570000e-06   \n19      zfh1   224.625098        7.262390  1.620284  4.482172  7.390000e-06   \n\n        padj    qvalue  \n0   0.000002  0.000002  \n1   0.000002  0.000002  \n2   0.000055  0.000050  \n3   0.000055  0.000050  \n4   0.000171  0.000158  \n5   0.000214  0.000198  \n6   0.000214  0.000198  \n7   0.000638  0.000589  \n8   0.000737  0.000679  \n9   0.000737  0.000679  \n10  0.000936  0.000866  \n11  0.001196  0.001105  \n12  0.001232  0.001135  \n13  0.001288  0.001188  \n14  0.001528  0.001412  \n15  0.001535  0.001417  \n16  0.001731  0.001597  \n17  0.001983  0.001829  \n18  0.001983  0.001829  \n19  0.002494  0.002301   \n\nTOP COGNITION:  Empty DataFrame\nColumns: [gene, baseMean, log2FoldChange, lfcSE, stat, pvalue, padj, qvalue]\nIndex: [] \n\nRatio cognition vs non-cognition in top 20:  0.00 \n\n"
     ]
    }
   ],
   "source": [
    "top_20_DAL, top_cognition_DAL, ratio_DAL = top_list_genes(DAL)\n",
    "print(\"TOP 20 SIGNIFICANT: \", top_20_DAL, \"\\n\")\n",
    "print(\"TOP COGNITION: \", top_cognition_DAL, \"\\n\")\n",
    "print(\"Ratio cognition vs non-cognition in top 20:  %.2f\" % ratio_DAL, \"\\n\")"
   ]
  },
  {
   "source": [
    "## V2:"
   ],
   "cell_type": "markdown",
   "metadata": {}
  },
  {
   "cell_type": "code",
   "execution_count": 102,
   "metadata": {},
   "outputs": [
    {
     "output_type": "execute_result",
     "data": {
      "text/plain": [
       "     gene   baseMean.1  log2FoldChange.1   lfcSE.1    stat.1          padj  \\\n",
       "0  CG4766   268.667537         -7.832098  1.210995 -6.467488  9.964515e-11   \n",
       "1     toy  3291.731624          1.973228  0.319855  6.169130  6.866688e-10   \n",
       "2      ey   831.360904          2.950571  0.541100  5.452912  4.955172e-08   \n",
       "3  CG7338    97.937452          7.503573  1.405262  5.339625  9.313909e-08   \n",
       "4  CG6674   111.200498          6.759981  1.283378  5.267334  1.384190e-07   \n",
       "\n",
       "       qvalue.1  \n",
       "0  5.974005e-07  \n",
       "1  2.058386e-06  \n",
       "2  9.902546e-05  \n",
       "3  1.395987e-04  \n",
       "4  1.659721e-04  "
      ],
      "text/html": "<div>\n<style scoped>\n    .dataframe tbody tr th:only-of-type {\n        vertical-align: middle;\n    }\n\n    .dataframe tbody tr th {\n        vertical-align: top;\n    }\n\n    .dataframe thead th {\n        text-align: right;\n    }\n</style>\n<table border=\"1\" class=\"dataframe\">\n  <thead>\n    <tr style=\"text-align: right;\">\n      <th></th>\n      <th>gene</th>\n      <th>baseMean.1</th>\n      <th>log2FoldChange.1</th>\n      <th>lfcSE.1</th>\n      <th>stat.1</th>\n      <th>padj</th>\n      <th>qvalue.1</th>\n    </tr>\n  </thead>\n  <tbody>\n    <tr>\n      <th>0</th>\n      <td>CG4766</td>\n      <td>268.667537</td>\n      <td>-7.832098</td>\n      <td>1.210995</td>\n      <td>-6.467488</td>\n      <td>9.964515e-11</td>\n      <td>5.974005e-07</td>\n    </tr>\n    <tr>\n      <th>1</th>\n      <td>toy</td>\n      <td>3291.731624</td>\n      <td>1.973228</td>\n      <td>0.319855</td>\n      <td>6.169130</td>\n      <td>6.866688e-10</td>\n      <td>2.058386e-06</td>\n    </tr>\n    <tr>\n      <th>2</th>\n      <td>ey</td>\n      <td>831.360904</td>\n      <td>2.950571</td>\n      <td>0.541100</td>\n      <td>5.452912</td>\n      <td>4.955172e-08</td>\n      <td>9.902546e-05</td>\n    </tr>\n    <tr>\n      <th>3</th>\n      <td>CG7338</td>\n      <td>97.937452</td>\n      <td>7.503573</td>\n      <td>1.405262</td>\n      <td>5.339625</td>\n      <td>9.313909e-08</td>\n      <td>1.395987e-04</td>\n    </tr>\n    <tr>\n      <th>4</th>\n      <td>CG6674</td>\n      <td>111.200498</td>\n      <td>6.759981</td>\n      <td>1.283378</td>\n      <td>5.267334</td>\n      <td>1.384190e-07</td>\n      <td>1.659721e-04</td>\n    </tr>\n  </tbody>\n</table>\n</div>"
     },
     "metadata": {},
     "execution_count": 102
    }
   ],
   "source": [
    "V2 = pd.read_excel(DGE_PAPER, sheet_name=\"Supplemental Table 6\", usecols=\"J:P\", skiprows=7)\n",
    "V2.rename(columns={'Genes.1': 'gene', 'pvalue.1':'padj'}, inplace=True) # it's not adjusted p-value actually but much convenient for calling the same function compute_contingency_table everywhere\n",
    "V2.dropna(axis=0, inplace=True)\n",
    "V2.head()"
   ]
  },
  {
   "cell_type": "code",
   "execution_count": 103,
   "metadata": {},
   "outputs": [
    {
     "output_type": "stream",
     "name": "stdout",
     "text": [
      "               significant  non-significant\nnames                                      \ncognition              120               17\nnon-cognition         6921             8624\nOdds ration for V2 training paired vs unpaired:  8.80\n"
     ]
    }
   ],
   "source": [
    "contingency_table_V2 = compute_contingency_table(V2)\n",
    "print(contingency_table_V2)\n",
    "odds_ratio_V2 = compute_odds_ratio(contingency_table_V2)\n",
    "print(\"Odds ration for V2 training paired vs unpaired:  %.2f\" % odds_ratio_V2)"
   ]
  },
  {
   "cell_type": "code",
   "execution_count": 104,
   "metadata": {},
   "outputs": [
    {
     "output_type": "stream",
     "name": "stdout",
     "text": [
      "TOP 20 SIGNIFICANT:         gene   baseMean.1  log2FoldChange.1   lfcSE.1    stat.1          padj  \\\n0    CG4766   268.667537         -7.832098  1.210995 -6.467488  9.964515e-11   \n1       toy  3291.731624          1.973228  0.319855  6.169130  6.866688e-10   \n2        ey   831.360904          2.950571  0.541100  5.452912  4.955172e-08   \n3    CG7338    97.937452          7.503573  1.405262  5.339625  9.313909e-08   \n4    CG6674   111.200498          6.759981  1.283378  5.267334  1.384190e-07   \n5   CG12077   109.812843          8.544542  1.662703  5.138946  2.762838e-07   \n6   CG18178    93.458682          7.405697  1.464094  5.058210  4.232097e-07   \n7    CG9935    96.554897         -9.100119  1.833047 -4.964477  6.888638e-07   \n8     Ir68a    66.498191         10.085661  2.034486  4.957352  7.146060e-07   \n9     Mes-4   128.000269         -6.727691  1.363325 -4.934766  8.024674e-07   \n10    Ube3a    90.399999          9.550495  2.032070  4.699886  2.603074e-06   \n11     Mlc1   102.439646          8.131369  1.746336  4.656246  3.220278e-06   \n12  CG30005    63.777968          9.162178  1.980032  4.627288  3.704849e-06   \n13   CG6488    95.105769         -5.673128  1.242936 -4.564295  5.011766e-06   \n14  CG10341    71.853160          7.091931  1.563241  4.536683  5.714586e-06   \n15   CG4908   119.786487          6.156662  1.363950  4.513848  6.366183e-06   \n16    pinta    82.655252          6.483479  1.481456  4.376425  1.206418e-05   \n17    dpr13  1946.830001         -1.412355  0.324874 -4.347398  1.377622e-05   \n19  CG13667    80.863965          6.388844  1.486021  4.299296  1.713417e-05   \n18   CG5190    46.490279          7.467272  1.741309  4.288309  1.800388e-05   \n\n        qvalue.1  \n0   5.974005e-07  \n1   2.058386e-06  \n2   9.902546e-05  \n3   1.395987e-04  \n4   1.659721e-04  \n5   2.760664e-04  \n6   3.624658e-04  \n7   4.760291e-04  \n8   4.760291e-04  \n9   4.811016e-04  \n10  1.418741e-03  \n11  1.608872e-03  \n12  1.708585e-03  \n13  2.146210e-03  \n14  2.284036e-03  \n15  2.385440e-03  \n16  4.254595e-03  \n17  4.588460e-03  \n19  5.352935e-03  \n18  5.352935e-03   \n\nTOP COGNITION:       gene  baseMean.1  log2FoldChange.1  lfcSE.1    stat.1      padj  qvalue.1\n10  Ube3a   90.399999          9.550495  2.03207  4.699886  0.000003  0.001419 \n\nRatio cognition vs non-cognition in top 20:  0.05 \n\n"
     ]
    }
   ],
   "source": [
    "top_20_V2, top_cognition_V2, ratio_V2 = top_list_genes(V2)\n",
    "print(\"TOP 20 SIGNIFICANT: \", top_20_V2, \"\\n\")\n",
    "print(\"TOP COGNITION: \", top_cognition_V2, \"\\n\")\n",
    "print(\"Ratio cognition vs non-cognition in top 20:  %.2f\" % ratio_V2, \"\\n\")"
   ]
  },
  {
   "source": [
    "## V3:"
   ],
   "cell_type": "markdown",
   "metadata": {}
  },
  {
   "cell_type": "code",
   "execution_count": 112,
   "metadata": {},
   "outputs": [
    {
     "output_type": "execute_result",
     "data": {
      "text/plain": [
       "         gene   baseMean.2  log2FoldChange.2   lfcSE.2    stat.2  \\\n",
       "0      CG6254   252.921085          7.088770  1.223006  5.796183   \n",
       "1  lectin-28C  1867.347580         -4.222279  0.739846 -5.706969   \n",
       "2      CG6870   836.715966          3.028157  0.599378  5.052167   \n",
       "3          ci   102.054883        -10.132062  2.117426 -4.785085   \n",
       "4      Drep-1   271.089652         -5.607555  1.183151 -4.739509   \n",
       "\n",
       "           padj  qvalue.2  \n",
       "0  6.784114e-09  0.000036  \n",
       "1  1.150055e-08  0.000036  \n",
       "2  4.368251e-07  0.000921  \n",
       "3  1.709149e-06  0.001945  \n",
       "4  2.142367e-06  0.001945  "
      ],
      "text/html": "<div>\n<style scoped>\n    .dataframe tbody tr th:only-of-type {\n        vertical-align: middle;\n    }\n\n    .dataframe tbody tr th {\n        vertical-align: top;\n    }\n\n    .dataframe thead th {\n        text-align: right;\n    }\n</style>\n<table border=\"1\" class=\"dataframe\">\n  <thead>\n    <tr style=\"text-align: right;\">\n      <th></th>\n      <th>gene</th>\n      <th>baseMean.2</th>\n      <th>log2FoldChange.2</th>\n      <th>lfcSE.2</th>\n      <th>stat.2</th>\n      <th>padj</th>\n      <th>qvalue.2</th>\n    </tr>\n  </thead>\n  <tbody>\n    <tr>\n      <th>0</th>\n      <td>CG6254</td>\n      <td>252.921085</td>\n      <td>7.088770</td>\n      <td>1.223006</td>\n      <td>5.796183</td>\n      <td>6.784114e-09</td>\n      <td>0.000036</td>\n    </tr>\n    <tr>\n      <th>1</th>\n      <td>lectin-28C</td>\n      <td>1867.347580</td>\n      <td>-4.222279</td>\n      <td>0.739846</td>\n      <td>-5.706969</td>\n      <td>1.150055e-08</td>\n      <td>0.000036</td>\n    </tr>\n    <tr>\n      <th>2</th>\n      <td>CG6870</td>\n      <td>836.715966</td>\n      <td>3.028157</td>\n      <td>0.599378</td>\n      <td>5.052167</td>\n      <td>4.368251e-07</td>\n      <td>0.000921</td>\n    </tr>\n    <tr>\n      <th>3</th>\n      <td>ci</td>\n      <td>102.054883</td>\n      <td>-10.132062</td>\n      <td>2.117426</td>\n      <td>-4.785085</td>\n      <td>1.709149e-06</td>\n      <td>0.001945</td>\n    </tr>\n    <tr>\n      <th>4</th>\n      <td>Drep-1</td>\n      <td>271.089652</td>\n      <td>-5.607555</td>\n      <td>1.183151</td>\n      <td>-4.739509</td>\n      <td>2.142367e-06</td>\n      <td>0.001945</td>\n    </tr>\n  </tbody>\n</table>\n</div>"
     },
     "metadata": {},
     "execution_count": 112
    }
   ],
   "source": [
    "V3 = pd.read_excel(DGE_PAPER, sheet_name=\"Supplemental Table 6\", usecols=\"R:X\", skiprows=7)\n",
    "V3.rename(columns={'Genes.2': 'gene', 'pvalue.2':'padj'}, inplace=True)\n",
    "V3.dropna(axis=0, inplace=True)\n",
    "V3.head()"
   ]
  },
  {
   "cell_type": "code",
   "execution_count": 113,
   "metadata": {},
   "outputs": [
    {
     "output_type": "stream",
     "name": "stdout",
     "text": [
      "               significant  non-significant\nnames                                      \ncognition              118               19\nnon-cognition         6553             8992\nOdds ration for V3 training paired vs unpaired:  8.52\n"
     ]
    }
   ],
   "source": [
    "contingency_table_V3 = compute_contingency_table(V3)\n",
    "print(contingency_table_V3)\n",
    "odds_ratio_V3 = compute_odds_ratio(contingency_table_V3)\n",
    "print(\"Odds ration for V3 training paired vs unpaired:  %.2f\" % odds_ratio_V3)"
   ]
  },
  {
   "cell_type": "code",
   "execution_count": 114,
   "metadata": {},
   "outputs": [
    {
     "output_type": "stream",
     "name": "stdout",
     "text": [
      "TOP 20 SIGNIFICANT:            gene   baseMean.2  log2FoldChange.2   lfcSE.2    stat.2  \\\n0       CG6254   252.921085          7.088770  1.223006  5.796183   \n1   lectin-28C  1867.347580         -4.222279  0.739846 -5.706969   \n2       CG6870   836.715966          3.028157  0.599378  5.052167   \n5          Hml   573.210315         -3.879565  0.800146 -4.848571   \n3           ci   102.054883        -10.132062  2.117426 -4.785085   \n4       Drep-1   271.089652         -5.607555  1.183151 -4.739509   \n6          Scm   202.655887         -6.153956  1.298703 -4.738540   \n7    VhaM9.7-c   123.619475         -5.629323  1.195364 -4.709295   \n9      Sox102F   145.169270         -5.407994  1.158263 -4.669055   \n8       CG6179    87.433635        -10.400197  2.232144 -4.659285   \n11        Neos   197.149809          5.505019  1.205020  4.568406   \n10     CG15877    82.264679         -7.583497  1.661096 -4.565358   \n12      CG9346   141.922742         -5.536924  1.228411 -4.507388   \n14        ptip   146.682649         -6.672617  1.497076 -4.457101   \n13     CG10866   351.515979          5.400789  1.211780  4.456905   \n15     CG15743    77.286175         -6.967071  1.576256 -4.420013   \n16       f-cup    87.514653          9.622165  2.184849  4.404040   \n17      Dpit47   108.362699         -6.742827  1.552073 -4.344400   \n18     beat-Vb   400.692350          2.907743  0.672314  4.324977   \n19         fdl   105.983987         -7.033047  1.631210 -4.311551   \n\n            padj  qvalue.2  \n0   6.784114e-09  0.000036  \n1   1.150055e-08  0.000036  \n2   4.368251e-07  0.000921  \n5   1.243543e-06  0.001945  \n3   1.709149e-06  0.001945  \n4   2.142367e-06  0.001945  \n6   2.152632e-06  0.001945  \n7   2.485746e-06  0.001965  \n9   3.025886e-06  0.002007  \n8   3.173089e-06  0.002007  \n11  4.914477e-06  0.002628  \n10  4.986436e-06  0.002628  \n12  6.563065e-06  0.003193  \n14  8.307544e-06  0.003506  \n13  8.315147e-06  0.003506  \n15  9.869498e-06  0.003902  \n16  1.062532e-05  0.003953  \n17  1.396571e-05  0.004908  \n18  1.525479e-05  0.005078  \n19  1.621137e-05  0.005127   \n\nTOP COGNITION:  Empty DataFrame\nColumns: [gene, baseMean.2, log2FoldChange.2, lfcSE.2, stat.2, padj, qvalue.2]\nIndex: [] \n\nRatio cognition vs non-cognition in top 20:  0.00 \n\n"
     ]
    }
   ],
   "source": [
    "top_20_V3, top_cognition_V3, ratio_V3 = top_list_genes(V3)\n",
    "print(\"TOP 20 SIGNIFICANT: \", top_20_V3, \"\\n\")\n",
    "print(\"TOP COGNITION: \", top_cognition_V3, \"\\n\")\n",
    "print(\"Ratio cognition vs non-cognition in top 20:  %.2f\" % ratio_V3, \"\\n\")"
   ]
  },
  {
   "source": [
    "## R27:"
   ],
   "cell_type": "markdown",
   "metadata": {}
  },
  {
   "cell_type": "code",
   "execution_count": 115,
   "metadata": {},
   "outputs": [
    {
     "output_type": "execute_result",
     "data": {
      "text/plain": [
       "      gene  baseMean.3  log2FoldChange.3   lfcSE.3    stat.3          padj  \\\n",
       "0      fau  388.258889          5.625622  0.900524  6.247054  4.182678e-10   \n",
       "1  CG17294  169.965267         -5.155695  0.940339 -5.482803  4.186396e-08   \n",
       "2     Gclm  363.527261         -4.804541  0.869399 -5.526279  3.270932e-08   \n",
       "3  Spargel  198.690123         -5.355987  0.974083 -5.498491  3.830551e-08   \n",
       "4   CG7787  136.696684         -5.296476  1.004479 -5.272859  1.343148e-07   \n",
       "\n",
       "   qvalue.3  \n",
       "0  0.000002  \n",
       "1  0.000052  \n",
       "2  0.000052  \n",
       "3  0.000052  \n",
       "4  0.000134  "
      ],
      "text/html": "<div>\n<style scoped>\n    .dataframe tbody tr th:only-of-type {\n        vertical-align: middle;\n    }\n\n    .dataframe tbody tr th {\n        vertical-align: top;\n    }\n\n    .dataframe thead th {\n        text-align: right;\n    }\n</style>\n<table border=\"1\" class=\"dataframe\">\n  <thead>\n    <tr style=\"text-align: right;\">\n      <th></th>\n      <th>gene</th>\n      <th>baseMean.3</th>\n      <th>log2FoldChange.3</th>\n      <th>lfcSE.3</th>\n      <th>stat.3</th>\n      <th>padj</th>\n      <th>qvalue.3</th>\n    </tr>\n  </thead>\n  <tbody>\n    <tr>\n      <th>0</th>\n      <td>fau</td>\n      <td>388.258889</td>\n      <td>5.625622</td>\n      <td>0.900524</td>\n      <td>6.247054</td>\n      <td>4.182678e-10</td>\n      <td>0.000002</td>\n    </tr>\n    <tr>\n      <th>1</th>\n      <td>CG17294</td>\n      <td>169.965267</td>\n      <td>-5.155695</td>\n      <td>0.940339</td>\n      <td>-5.482803</td>\n      <td>4.186396e-08</td>\n      <td>0.000052</td>\n    </tr>\n    <tr>\n      <th>2</th>\n      <td>Gclm</td>\n      <td>363.527261</td>\n      <td>-4.804541</td>\n      <td>0.869399</td>\n      <td>-5.526279</td>\n      <td>3.270932e-08</td>\n      <td>0.000052</td>\n    </tr>\n    <tr>\n      <th>3</th>\n      <td>Spargel</td>\n      <td>198.690123</td>\n      <td>-5.355987</td>\n      <td>0.974083</td>\n      <td>-5.498491</td>\n      <td>3.830551e-08</td>\n      <td>0.000052</td>\n    </tr>\n    <tr>\n      <th>4</th>\n      <td>CG7787</td>\n      <td>136.696684</td>\n      <td>-5.296476</td>\n      <td>1.004479</td>\n      <td>-5.272859</td>\n      <td>1.343148e-07</td>\n      <td>0.000134</td>\n    </tr>\n  </tbody>\n</table>\n</div>"
     },
     "metadata": {},
     "execution_count": 115
    }
   ],
   "source": [
    "R27 = pd.read_excel(DGE_PAPER, sheet_name=\"Supplemental Table 6\", usecols=\"Z:AF\", skiprows=7)\n",
    "R27.rename(columns={'Genes.3': 'gene', 'pvalue.3':'padj'}, inplace=True)\n",
    "R27.dropna(axis=0, inplace=True)\n",
    "R27.head()"
   ]
  },
  {
   "cell_type": "code",
   "execution_count": 116,
   "metadata": {},
   "outputs": [
    {
     "output_type": "stream",
     "name": "stdout",
     "text": [
      "               significant  non-significant\nnames                                      \ncognition              105               32\nnon-cognition         4896            10649\nOdds ration for R27 training paired vs unpaired:  7.14\n"
     ]
    }
   ],
   "source": [
    "contingency_table_R27 = compute_contingency_table(R27)\n",
    "print(contingency_table_R27)\n",
    "odds_ratio_R27 = compute_odds_ratio(contingency_table_R27)\n",
    "print(\"Odds ration for R27 training paired vs unpaired:  %.2f\" % odds_ratio_R27)"
   ]
  },
  {
   "cell_type": "code",
   "execution_count": 117,
   "metadata": {},
   "outputs": [
    {
     "output_type": "stream",
     "name": "stdout",
     "text": [
      "TOP 20 SIGNIFICANT:          gene  baseMean.3  log2FoldChange.3   lfcSE.3    stat.3          padj  \\\n0        fau  388.258889          5.625622  0.900524  6.247054  4.182678e-10   \n2       Gclm  363.527261         -4.804541  0.869399 -5.526279  3.270932e-08   \n3    Spargel  198.690123         -5.355987  0.974083 -5.498491  3.830551e-08   \n1    CG17294  169.965267         -5.155695  0.940339 -5.482803  4.186396e-08   \n4     CG7787  136.696684         -5.296476  1.004479 -5.272859  1.343148e-07   \n5       Lrrk  123.824422          5.359975  1.042778  5.140090  2.746072e-07   \n6    CG31109  140.045842         -5.015783  0.992723 -5.052550  4.359508e-07   \n7    CG17660  133.259305         -4.964926  1.032239 -4.809862  1.510345e-06   \n8        dik  134.818793         -4.995815  1.042445 -4.792400  1.647981e-06   \n9     CG8004  357.218058          3.724560  0.788755  4.722073  2.334532e-06   \n10   CG14898  146.706005         -4.823610  1.027985 -4.692296  2.701554e-06   \n11    mRpL39  199.703357         -4.725247  1.009454 -4.680991  2.854915e-06   \n12   CG15345   99.932836         -4.612960  1.050483 -4.391277  1.126869e-05   \n13    CG9590  104.701413         -4.522743  1.045104 -4.327554  1.507745e-05   \n16    mus210  109.339793         -4.181701  1.038284 -4.027511  5.637043e-05   \n14   CG32221   91.836228         -4.227760  1.051809 -4.019513  5.831852e-05   \n15   CG33228   89.734402         -4.223600  1.052198 -4.014072  5.968024e-05   \n17   CG42666   96.771498         -4.130489  1.074318 -3.844753  1.206739e-04   \n18  Dpy-30L1  132.231499         -3.992921  1.052831 -3.792556  1.491047e-04   \n20      Ent2  226.408925         -3.778557  1.020567 -3.702410  2.135614e-04   \n\n    qvalue.3  \n0   0.000002  \n2   0.000052  \n3   0.000052  \n1   0.000052  \n4   0.000134  \n5   0.000229  \n6   0.000311  \n7   0.000916  \n8   0.000916  \n9   0.001167  \n10  0.001190  \n11  0.001190  \n12  0.004335  \n13  0.005386  \n16  0.017557  \n14  0.017557  \n15  0.017557  \n17  0.033527  \n18  0.039246  \n20  0.052292   \n\nTOP COGNITION:      gene  baseMean.3  log2FoldChange.3   lfcSE.3    stat.3          padj  \\\n2   Gclm  363.527261         -4.804541  0.869399 -5.526279  3.270932e-08   \n20  Ent2  226.408925         -3.778557  1.020567 -3.702410  2.135614e-04   \n\n    qvalue.3  \n2   0.000052  \n20  0.052292   \n\nRatio cognition vs non-cognition in top 20:  0.10 \n\n"
     ]
    }
   ],
   "source": [
    "top_20_R27, top_cognition_R27, ratio_R27 = top_list_genes(R27)\n",
    "print(\"TOP 20 SIGNIFICANT: \", top_20_R27, \"\\n\")\n",
    "print(\"TOP COGNITION: \", top_cognition_R27, \"\\n\")\n",
    "print(\"Ratio cognition vs non-cognition in top 20:  %.2f\" % ratio_R27, \"\\n\")"
   ]
  },
  {
   "source": [
    "## G386:"
   ],
   "cell_type": "markdown",
   "metadata": {}
  },
  {
   "cell_type": "code",
   "execution_count": 118,
   "metadata": {},
   "outputs": [
    {
     "output_type": "execute_result",
     "data": {
      "text/plain": [
       "      gene  baseMean.4  log2FoldChange.4   lfcSE.4    stat.4          padj  \\\n",
       "0  CG31150  183.188726        -10.894390  2.128145 -5.119195  3.068434e-07   \n",
       "1   CG8149  134.329355        -10.812155  2.312823 -4.674873  2.941358e-06   \n",
       "2      yrt  196.169954         -9.657978  2.107742 -4.582145  4.602305e-06   \n",
       "3   CG3011  810.928180         -3.763819  0.902493 -4.170468  3.039752e-05   \n",
       "4  CG10424  218.192330        -10.264556  2.524244 -4.066387  4.774756e-05   \n",
       "\n",
       "   qvalue.4  \n",
       "0  0.001428  \n",
       "1  0.006846  \n",
       "2  0.007141  \n",
       "3  0.035375  \n",
       "4  0.044453  "
      ],
      "text/html": "<div>\n<style scoped>\n    .dataframe tbody tr th:only-of-type {\n        vertical-align: middle;\n    }\n\n    .dataframe tbody tr th {\n        vertical-align: top;\n    }\n\n    .dataframe thead th {\n        text-align: right;\n    }\n</style>\n<table border=\"1\" class=\"dataframe\">\n  <thead>\n    <tr style=\"text-align: right;\">\n      <th></th>\n      <th>gene</th>\n      <th>baseMean.4</th>\n      <th>log2FoldChange.4</th>\n      <th>lfcSE.4</th>\n      <th>stat.4</th>\n      <th>padj</th>\n      <th>qvalue.4</th>\n    </tr>\n  </thead>\n  <tbody>\n    <tr>\n      <th>0</th>\n      <td>CG31150</td>\n      <td>183.188726</td>\n      <td>-10.894390</td>\n      <td>2.128145</td>\n      <td>-5.119195</td>\n      <td>3.068434e-07</td>\n      <td>0.001428</td>\n    </tr>\n    <tr>\n      <th>1</th>\n      <td>CG8149</td>\n      <td>134.329355</td>\n      <td>-10.812155</td>\n      <td>2.312823</td>\n      <td>-4.674873</td>\n      <td>2.941358e-06</td>\n      <td>0.006846</td>\n    </tr>\n    <tr>\n      <th>2</th>\n      <td>yrt</td>\n      <td>196.169954</td>\n      <td>-9.657978</td>\n      <td>2.107742</td>\n      <td>-4.582145</td>\n      <td>4.602305e-06</td>\n      <td>0.007141</td>\n    </tr>\n    <tr>\n      <th>3</th>\n      <td>CG3011</td>\n      <td>810.928180</td>\n      <td>-3.763819</td>\n      <td>0.902493</td>\n      <td>-4.170468</td>\n      <td>3.039752e-05</td>\n      <td>0.035375</td>\n    </tr>\n    <tr>\n      <th>4</th>\n      <td>CG10424</td>\n      <td>218.192330</td>\n      <td>-10.264556</td>\n      <td>2.524244</td>\n      <td>-4.066387</td>\n      <td>4.774756e-05</td>\n      <td>0.044453</td>\n    </tr>\n  </tbody>\n</table>\n</div>"
     },
     "metadata": {},
     "execution_count": 118
    }
   ],
   "source": [
    "G386 = pd.read_excel(DGE_PAPER, sheet_name=\"Supplemental Table 6\", usecols=\"AH:AN\", skiprows=7)\n",
    "G386.rename(columns={'Genes.4': 'gene', 'pvalue.4':'padj'}, inplace=True)\n",
    "G386.dropna(axis=0, inplace=True)\n",
    "G386.head()"
   ]
  },
  {
   "cell_type": "code",
   "execution_count": 119,
   "metadata": {},
   "outputs": [
    {
     "output_type": "stream",
     "name": "stdout",
     "text": [
      "               significant  non-significant\nnames                                      \ncognition              104               33\nnon-cognition         4551            10994\nOdds ration for G386 training paired vs unpaired:  7.61\n"
     ]
    }
   ],
   "source": [
    "contingency_table_G386 = compute_contingency_table(G386)\n",
    "print(contingency_table_G386)\n",
    "odds_ratio_G386 = compute_odds_ratio(contingency_table_G386)\n",
    "print(\"Odds ration for G386 training paired vs unpaired:  %.2f\" % odds_ratio_G386)"
   ]
  },
  {
   "cell_type": "code",
   "execution_count": 120,
   "metadata": {},
   "outputs": [
    {
     "output_type": "stream",
     "name": "stdout",
     "text": [
      "TOP 20 SIGNIFICANT:         gene  baseMean.4  log2FoldChange.4   lfcSE.4    stat.4          padj  \\\n0   CG31150  183.188726        -10.894390  2.128145 -5.119195  3.068434e-07   \n1    CG8149  134.329355        -10.812155  2.312823 -4.674873  2.941358e-06   \n2       yrt  196.169954         -9.657978  2.107742 -4.582145  4.602305e-06   \n3    CG3011  810.928180         -3.763819  0.902493 -4.170468  3.039752e-05   \n4   CG10424  218.192330        -10.264556  2.524244 -4.066387  4.774756e-05   \n5      bab1   92.038624        -10.060827  2.558390 -3.932484  8.407258e-05   \n6   CG12082  116.249730        -11.492821  2.943657 -3.904266  9.451168e-05   \n7     Amy-p  117.513075        -11.425112  2.946581 -3.877414  1.055728e-04   \n8     msl-1  194.002919        -10.230462  2.651589 -3.858238  1.142075e-04   \n9       yin  124.005579        -11.523647  2.994283 -3.848549  1.188193e-04   \n10     Tace  120.488116        -11.227540  2.995215 -3.748492  1.779009e-04   \n11    su(r)  122.877722        -11.050931  2.963286 -3.729283  1.920256e-04   \n12  Grasp65  103.262302         -9.264173  2.514078 -3.684919  2.287758e-04   \n13    spn-B   76.620466         -9.984381  2.711513 -3.682218  2.312140e-04   \n14   smp-30  330.801881         -4.854518  1.323395 -3.668231  2.442349e-04   \n15    Amy-d   99.139601        -11.246529  3.088010 -3.641999  2.705296e-04   \n16       se  573.465066          4.102129  1.152558  3.559150  3.720564e-04   \n17    Arp11   80.486802        -10.990806  3.103185 -3.541783  3.974324e-04   \n18  CG17082  646.878718         -2.562252  0.724865 -3.534798  4.080872e-04   \n19  CG11534  116.199224        -10.611775  3.032431 -3.499428  4.662581e-04   \n\n    qvalue.4  \n0   0.001428  \n1   0.006846  \n2   0.007141  \n3   0.035375  \n4   0.044453  \n5   0.055310  \n6   0.055310  \n7   0.055310  \n8   0.055310  \n9   0.055310  \n10  0.074490  \n11  0.074490  \n12  0.075794  \n13  0.075794  \n14  0.075794  \n15  0.078707  \n16  0.099981  \n17  0.099981  \n18  0.099981  \n19  0.105253   \n\nTOP COGNITION:  Empty DataFrame\nColumns: [gene, baseMean.4, log2FoldChange.4, lfcSE.4, stat.4, padj, qvalue.4]\nIndex: [] \n\nRatio cognition vs non-cognition in top 20:  0.00 \n\n"
     ]
    }
   ],
   "source": [
    "top_20_G386, top_cognition_G386, ratio_G386 = top_list_genes(G386)\n",
    "print(\"TOP 20 SIGNIFICANT: \", top_20_G386, \"\\n\")\n",
    "print(\"TOP COGNITION: \", top_cognition_G386, \"\\n\")\n",
    "print(\"Ratio cognition vs non-cognition in top 20:  %.2f\" % ratio_G386, \"\\n\")"
   ]
  },
  {
   "source": [
    "## AB_KCs:"
   ],
   "cell_type": "markdown",
   "metadata": {}
  },
  {
   "cell_type": "code",
   "execution_count": 121,
   "metadata": {},
   "outputs": [
    {
     "output_type": "execute_result",
     "data": {
      "text/plain": [
       "                         gene   baseMean.5  log2FoldChange.5   lfcSE.5  \\\n",
       "0  alphagamma-element:CR32865   299.513979          1.837056  0.447425   \n",
       "1                     CG43341    92.610432         -1.911040  0.461128   \n",
       "2                        Hr38  8147.780345          0.884495  0.215787   \n",
       "3                     Hsp70Aa   207.098774          1.913551  0.460336   \n",
       "4                     Hsp70Ab   202.918438          1.903225  0.461707   \n",
       "\n",
       "     stat.5      padj  qvalue.5  \n",
       "0  4.105840  0.000040  0.058326  \n",
       "1 -4.144273  0.000034  0.058326  \n",
       "2  4.098924  0.000042  0.058326  \n",
       "3  4.156856  0.000032  0.058326  \n",
       "4  4.122152  0.000038  0.058326  "
      ],
      "text/html": "<div>\n<style scoped>\n    .dataframe tbody tr th:only-of-type {\n        vertical-align: middle;\n    }\n\n    .dataframe tbody tr th {\n        vertical-align: top;\n    }\n\n    .dataframe thead th {\n        text-align: right;\n    }\n</style>\n<table border=\"1\" class=\"dataframe\">\n  <thead>\n    <tr style=\"text-align: right;\">\n      <th></th>\n      <th>gene</th>\n      <th>baseMean.5</th>\n      <th>log2FoldChange.5</th>\n      <th>lfcSE.5</th>\n      <th>stat.5</th>\n      <th>padj</th>\n      <th>qvalue.5</th>\n    </tr>\n  </thead>\n  <tbody>\n    <tr>\n      <th>0</th>\n      <td>alphagamma-element:CR32865</td>\n      <td>299.513979</td>\n      <td>1.837056</td>\n      <td>0.447425</td>\n      <td>4.105840</td>\n      <td>0.000040</td>\n      <td>0.058326</td>\n    </tr>\n    <tr>\n      <th>1</th>\n      <td>CG43341</td>\n      <td>92.610432</td>\n      <td>-1.911040</td>\n      <td>0.461128</td>\n      <td>-4.144273</td>\n      <td>0.000034</td>\n      <td>0.058326</td>\n    </tr>\n    <tr>\n      <th>2</th>\n      <td>Hr38</td>\n      <td>8147.780345</td>\n      <td>0.884495</td>\n      <td>0.215787</td>\n      <td>4.098924</td>\n      <td>0.000042</td>\n      <td>0.058326</td>\n    </tr>\n    <tr>\n      <th>3</th>\n      <td>Hsp70Aa</td>\n      <td>207.098774</td>\n      <td>1.913551</td>\n      <td>0.460336</td>\n      <td>4.156856</td>\n      <td>0.000032</td>\n      <td>0.058326</td>\n    </tr>\n    <tr>\n      <th>4</th>\n      <td>Hsp70Ab</td>\n      <td>202.918438</td>\n      <td>1.903225</td>\n      <td>0.461707</td>\n      <td>4.122152</td>\n      <td>0.000038</td>\n      <td>0.058326</td>\n    </tr>\n  </tbody>\n</table>\n</div>"
     },
     "metadata": {},
     "execution_count": 121
    }
   ],
   "source": [
    "AB_KCs = pd.read_excel(DGE_PAPER, sheet_name=\"Supplemental Table 6\", usecols=\"AP:AV\", skiprows=7)\n",
    "AB_KCs.rename(columns={'Genes.5': 'gene', 'pvalue.5':'padj'}, inplace=True)\n",
    "AB_KCs.dropna(axis=0, inplace=True)\n",
    "AB_KCs.head()"
   ]
  },
  {
   "cell_type": "code",
   "execution_count": 122,
   "metadata": {},
   "outputs": [
    {
     "output_type": "stream",
     "name": "stdout",
     "text": [
      "               significant  non-significant\nnames                                      \ncognition              122               15\nnon-cognition         6904             8641\nOdds ration for AB_KCs training paired vs unpaired:  10.18\n"
     ]
    }
   ],
   "source": [
    "contingency_table_AB_KCs = compute_contingency_table(AB_KCs)\n",
    "print(contingency_table_AB_KCs)\n",
    "odds_ratio_AB_KCs = compute_odds_ratio(contingency_table_AB_KCs)\n",
    "print(\"Odds ration for AB_KCs training paired vs unpaired:  %.2f\" % odds_ratio_AB_KCs)"
   ]
  },
  {
   "cell_type": "code",
   "execution_count": 123,
   "metadata": {},
   "outputs": [
    {
     "output_type": "stream",
     "name": "stdout",
     "text": [
      "TOP 20 SIGNIFICANT:                              gene   baseMean.5  log2FoldChange.5   lfcSE.5  \\\n3                        Hsp70Aa   207.098774          1.913551  0.460336   \n1                        CG43341    92.610432         -1.911040  0.461128   \n4                        Hsp70Ab   202.918438          1.903225  0.461707   \n0     alphagamma-element:CR32865   299.513979          1.837056  0.447425   \n2                           Hr38  8147.780345          0.884495  0.215787   \n6                        Hsp70Ba   137.426261          1.623582  0.408146   \n5                        CG17082  1140.006779         -0.952015  0.240272   \n8                        Hsp70Bb   330.566443          1.394603  0.362101   \n7                         CG6910   211.085978          1.567767  0.409691   \n9                         Obp99c   316.792403          1.701838  0.452202   \n10                         vir-1   106.304960          1.683443  0.475166   \n11                      Hsp70Bbb   120.538145          1.590885  0.459199   \n12                         SPoCk  3534.255910         -0.772596  0.223678   \n14                           pho  1362.258204         -0.867361  0.254837   \n13                       CG17883  1647.322510         -0.791506  0.233582   \n16                         UK114    79.375593          1.612666  0.488231   \n15                        CG5773    91.605819          1.626537  0.492716   \n6625                         fng    43.349877         -1.586713  0.489812   \n17                        CG8909  4945.597317         -0.699558  0.216187   \n18                          Lsp2   498.252878          1.579562  0.488841   \n\n        stat.5      padj  qvalue.5  \n3     4.156856  0.000032  0.058326  \n1    -4.144273  0.000034  0.058326  \n4     4.122152  0.000038  0.058326  \n0     4.105840  0.000040  0.058326  \n2     4.098924  0.000042  0.058326  \n6     3.977939  0.000070  0.074528  \n5    -3.962233  0.000074  0.074528  \n8     3.851424  0.000117  0.101384  \n7     3.826708  0.000130  0.101384  \n9     3.763445  0.000168  0.117748  \n10    3.542853  0.000396  0.252823  \n11    3.464480  0.000531  0.298462  \n12   -3.454050  0.000552  0.298462  \n14   -3.403587  0.000665  0.329097  \n13   -3.388563  0.000703  0.329097  \n16    3.303082  0.000956  0.397934  \n15    3.301167  0.000963  0.397934  \n6625 -3.239435  0.001198  0.432026  \n17   -3.235898  0.001213  0.432026  \n18    3.231240  0.001233  0.432026   \n\nTOP COGNITION:  Empty DataFrame\nColumns: [gene, baseMean.5, log2FoldChange.5, lfcSE.5, stat.5, padj, qvalue.5]\nIndex: [] \n\nRatio cognition vs non-cognition in top 20:  0.00 \n\n"
     ]
    }
   ],
   "source": [
    "top_20_AB_KCs, top_cognition_AB_KCs, ratio_AB_KCs = top_list_genes(AB_KCs)\n",
    "print(\"TOP 20 SIGNIFICANT: \", top_20_AB_KCs, \"\\n\")\n",
    "print(\"TOP COGNITION: \", top_cognition_AB_KCs, \"\\n\")\n",
    "print(\"Ratio cognition vs non-cognition in top 20:  %.2f\" % ratio_AB_KCs, \"\\n\")"
   ]
  },
  {
   "source": [
    "## G_KCs:"
   ],
   "cell_type": "markdown",
   "metadata": {}
  },
  {
   "cell_type": "code",
   "execution_count": 124,
   "metadata": {},
   "outputs": [
    {
     "output_type": "execute_result",
     "data": {
      "text/plain": [
       "      gene  baseMean.6  log2FoldChange.6   lfcSE.6    stat.6          padj  \\\n",
       "0  CG33639  373.773171         -1.185314  0.232507 -5.097983  3.432908e-07   \n",
       "1  CG14141  250.137747          1.185916  0.255871  4.634811  3.572643e-06   \n",
       "2  CG15068  102.059028         -1.336854  0.301811 -4.429435  9.448025e-06   \n",
       "3   CG4766  234.202410         -1.144023  0.253571 -4.511638  6.432890e-06   \n",
       "4       oc  346.809051         -1.130854  0.254616 -4.441417  8.936833e-06   \n",
       "\n",
       "   qvalue.6  \n",
       "0  0.001933  \n",
       "1  0.010060  \n",
       "2  0.010642  \n",
       "3  0.010642  \n",
       "4  0.010642  "
      ],
      "text/html": "<div>\n<style scoped>\n    .dataframe tbody tr th:only-of-type {\n        vertical-align: middle;\n    }\n\n    .dataframe tbody tr th {\n        vertical-align: top;\n    }\n\n    .dataframe thead th {\n        text-align: right;\n    }\n</style>\n<table border=\"1\" class=\"dataframe\">\n  <thead>\n    <tr style=\"text-align: right;\">\n      <th></th>\n      <th>gene</th>\n      <th>baseMean.6</th>\n      <th>log2FoldChange.6</th>\n      <th>lfcSE.6</th>\n      <th>stat.6</th>\n      <th>padj</th>\n      <th>qvalue.6</th>\n    </tr>\n  </thead>\n  <tbody>\n    <tr>\n      <th>0</th>\n      <td>CG33639</td>\n      <td>373.773171</td>\n      <td>-1.185314</td>\n      <td>0.232507</td>\n      <td>-5.097983</td>\n      <td>3.432908e-07</td>\n      <td>0.001933</td>\n    </tr>\n    <tr>\n      <th>1</th>\n      <td>CG14141</td>\n      <td>250.137747</td>\n      <td>1.185916</td>\n      <td>0.255871</td>\n      <td>4.634811</td>\n      <td>3.572643e-06</td>\n      <td>0.010060</td>\n    </tr>\n    <tr>\n      <th>2</th>\n      <td>CG15068</td>\n      <td>102.059028</td>\n      <td>-1.336854</td>\n      <td>0.301811</td>\n      <td>-4.429435</td>\n      <td>9.448025e-06</td>\n      <td>0.010642</td>\n    </tr>\n    <tr>\n      <th>3</th>\n      <td>CG4766</td>\n      <td>234.202410</td>\n      <td>-1.144023</td>\n      <td>0.253571</td>\n      <td>-4.511638</td>\n      <td>6.432890e-06</td>\n      <td>0.010642</td>\n    </tr>\n    <tr>\n      <th>4</th>\n      <td>oc</td>\n      <td>346.809051</td>\n      <td>-1.130854</td>\n      <td>0.254616</td>\n      <td>-4.441417</td>\n      <td>8.936833e-06</td>\n      <td>0.010642</td>\n    </tr>\n  </tbody>\n</table>\n</div>"
     },
     "metadata": {},
     "execution_count": 124
    }
   ],
   "source": [
    "G_KCs = pd.read_excel(DGE_PAPER, sheet_name=\"Supplemental Table 6\", usecols=\"AX:BD\", skiprows=7)\n",
    "G_KCs.rename(columns={'Genes.6': 'gene', 'pvalue.6':'padj'}, inplace=True)\n",
    "G_KCs.dropna(axis=0, inplace=True)\n",
    "G_KCs.head()"
   ]
  },
  {
   "cell_type": "code",
   "execution_count": 125,
   "metadata": {},
   "outputs": [
    {
     "output_type": "stream",
     "name": "stdout",
     "text": [
      "               significant  non-significant\nnames                                      \ncognition              124               13\nnon-cognition         7211             8334\nOdds ration for G_KCs training paired vs unpaired:  11.02\n"
     ]
    }
   ],
   "source": [
    "contingency_table_G_KCs = compute_contingency_table(G_KCs)\n",
    "print(contingency_table_G_KCs)\n",
    "odds_ratio_G_KCs = compute_odds_ratio(contingency_table_G_KCs)\n",
    "print(\"Odds ration for G_KCs training paired vs unpaired:  %.2f\" % odds_ratio_G_KCs)"
   ]
  },
  {
   "cell_type": "code",
   "execution_count": 126,
   "metadata": {},
   "outputs": [
    {
     "output_type": "stream",
     "name": "stdout",
     "text": [
      "TOP 20 SIGNIFICANT:         gene  baseMean.6  log2FoldChange.6   lfcSE.6    stat.6          padj  \\\n0   CG33639  373.773171         -1.185314  0.232507 -5.097983  3.432908e-07   \n1   CG14141  250.137747          1.185916  0.255871  4.634811  3.572643e-06   \n3    CG4766  234.202410         -1.144023  0.253571 -4.511638  6.432890e-06   \n4        oc  346.809051         -1.130854  0.254616 -4.441417  8.936833e-06   \n2   CG15068  102.059028         -1.336854  0.301811 -4.429435  9.448025e-06   \n5   CG12269  484.392171          1.072941  0.246552  4.351779  1.350375e-05   \n6     GstE7   30.836544          1.227536  0.302444  4.058718  4.934281e-05   \n7   CG13012   38.862110          1.207014  0.302521  3.989849  6.611545e-05   \n8      fabp  934.660162          0.816083  0.204813  3.984521  6.761638e-05   \n9   CG42368  120.558237         -1.011146  0.260058 -3.888155  1.010092e-04   \n10   CG6937   51.504182          1.054675  0.273267  3.859505  1.136169e-04   \n11     mfas  384.880949          0.988246  0.265935  3.716117  2.023083e-04   \n12  CG14933  143.044463          0.990470  0.269734  3.672026  2.406356e-04   \n13    GstE2  324.797551          1.019911  0.280739  3.632947  2.802027e-04   \n14  CG43689  682.305221         -0.783849  0.218782 -3.582778  3.399597e-04   \n17  CR43259  148.893719          0.979111  0.274341  3.568957  3.584054e-04   \n16     Cht2  218.621465          0.845117  0.237569  3.557348  3.746177e-04   \n15   CG7650   71.867460         -1.013532  0.285807 -3.546207  3.908190e-04   \n21   PebIII  180.625643          0.871866  0.247029  3.529405  4.164945e-04   \n20      IM4   83.396211         -1.064342  0.302629 -3.516991  4.364684e-04   \n\n    qvalue.6  \n0   0.001933  \n1   0.010060  \n3   0.010642  \n4   0.010642  \n2   0.010642  \n5   0.012675  \n6   0.039698  \n7   0.042311  \n8   0.042311  \n9   0.056886  \n10  0.058169  \n11  0.094946  \n12  0.104246  \n13  0.112716  \n14  0.122277  \n17  0.122277  \n16  0.122277  \n15  0.122277  \n21  0.122281  \n20  0.122281   \n\nTOP COGNITION:     gene  baseMean.6  log2FoldChange.6   lfcSE.6    stat.6      padj  qvalue.6\n8  fabp  934.660162          0.816083  0.204813  3.984521  0.000068  0.042311 \n\nRatio cognition vs non-cognition in top 20:  0.05 \n\n"
     ]
    }
   ],
   "source": [
    "top_20_G_KCs, top_cognition_G_KCs, ratio_G_KCs = top_list_genes(G_KCs)\n",
    "print(\"TOP 20 SIGNIFICANT: \", top_20_G_KCs, \"\\n\")\n",
    "print(\"TOP COGNITION: \", top_cognition_G_KCs, \"\\n\")\n",
    "print(\"Ratio cognition vs non-cognition in top 20:  %.2f\" % ratio_G_KCs, \"\\n\")"
   ]
  }
 ],
 "metadata": {
  "kernelspec": {
   "name": "python385jvsc74a57bd024ca4be73995f5f6c55b5047f39da87722f02f9d48b69a91b127def2869ddebf",
   "display_name": "Python 3.8.5 64-bit ('ada': conda)"
  },
  "language_info": {
   "codemirror_mode": {
    "name": "ipython",
    "version": 3
   },
   "file_extension": ".py",
   "mimetype": "text/x-python",
   "name": "python",
   "nbconvert_exporter": "python",
   "pygments_lexer": "ipython3",
   "version": "3.8.5"
  }
 },
 "nbformat": 4,
 "nbformat_minor": 4
}