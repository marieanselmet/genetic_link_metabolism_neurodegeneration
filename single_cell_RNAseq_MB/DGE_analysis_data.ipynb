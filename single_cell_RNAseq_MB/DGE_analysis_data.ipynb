{
 "cells": [
  {
   "cell_type": "code",
   "execution_count": 1,
   "metadata": {},
   "outputs": [],
   "source": [
    "import numpy as np\n",
    "import pandas as pd\n",
    "import seaborn as sns\n",
    "import os.path"
   ]
  },
  {
   "cell_type": "code",
   "execution_count": 2,
   "metadata": {},
   "outputs": [],
   "source": [
    "PATH = \"./data/\"\n",
    "PATH_MY_DGE = \"./data/DESeq_results/\"\n",
    "\n",
    "LRT = \"LRT/res_LRT.xlsx\"\n",
    "\n",
    "MEAN_DAL = \"mean/DAL/res_mean.xlsx\"\n",
    "MEAN_V2 = \"mean/V2/res_mean.xlsx\"\n",
    "MEAN_V3 = \"mean/V3/res_mean.xlsx\"\n",
    "MEAN_AB_KCs = \"mean/AB_KCs/res_mean.xlsx\"\n",
    "MEAN_G_KCs = \"mean/G_KCs/res_mean.xlsx\"\n",
    "MEAN_R27 = \"mean/R27/res_mean.xlsx\"\n",
    "MEAN_G386 = \"mean/G386/res_mean.xlsx\"\n",
    "\n",
    "PAIRWISE_DAL = \"pairwise/res_DAL_\"\n",
    "PAIRWISE_V2 = \"pairwise/res_V2_\"\n",
    "PAIRWISE_V3 = \"pairwise/res_V3_\"\n",
    "PAIRWISE_AB_KCs = \"pairwise/res_AB_KCs_\"\n",
    "PAIRWISE_G_KCs = \"pairwise/res_G_KCs_\"\n",
    "PAIRWISE_R27 = \"pairwise/res_R27_\"\n",
    "PAIRWISE_G386 = \"pairwise/res_G386_\"\n",
    "\n",
    "DGE_PAPER = \"./data/NIHMS780544-supplement-5.xlsx\"\n",
    "\n",
    "COGNITION_GENE_NAMES = \"FlyBase_Fields_download.txt\""
   ]
  },
  {
   "cell_type": "code",
   "execution_count": 3,
   "metadata": {},
   "outputs": [],
   "source": [
    "NB_COGNITION_GENES = 137\n",
    "NB_GENES = 15682"
   ]
  },
  {
   "cell_type": "code",
   "execution_count": 4,
   "metadata": {},
   "outputs": [],
   "source": [
    "# Names of genes related to cognition from FlyBase (names converted on flybase.org directly)\n",
    "cognition_genes = pd.read_csv(PATH + COGNITION_GENE_NAMES, delimiter = '\\t')\n",
    "#  Store these gene names in a list\n",
    "cognition_gene_names = list(cognition_genes['SYMBOL'])"
   ]
  },
  {
   "cell_type": "code",
   "execution_count": 5,
   "metadata": {},
   "outputs": [
    {
     "output_type": "execute_result",
     "data": {
      "text/plain": [
       "                   baseMean  log2FoldChange     lfcSE        stat  \\\n",
       "gene                                                                \n",
       "40512             15.273559       19.183609  2.879341   17.970839   \n",
       "128up            166.372302        0.759255  0.678395   22.132593   \n",
       "14-3-3epsilon  11584.976852        0.059121  0.172566   20.264403   \n",
       "14-3-3zeta     58800.016238       -1.867902  0.165862  383.209783   \n",
       "2mit            5687.472251       -2.184018  0.308143  134.197652   \n",
       "\n",
       "                     pvalue          padj  \n",
       "gene                                       \n",
       "40512          6.305485e-03  1.751580e-02  \n",
       "128up          1.145669e-03  3.903124e-03  \n",
       "14-3-3epsilon  2.484639e-03  7.696410e-03  \n",
       "14-3-3zeta     1.135976e-79  2.372373e-76  \n",
       "2mit           1.677618e-26  7.268750e-25  "
      ],
      "text/html": "<div>\n<style scoped>\n    .dataframe tbody tr th:only-of-type {\n        vertical-align: middle;\n    }\n\n    .dataframe tbody tr th {\n        vertical-align: top;\n    }\n\n    .dataframe thead th {\n        text-align: right;\n    }\n</style>\n<table border=\"1\" class=\"dataframe\">\n  <thead>\n    <tr style=\"text-align: right;\">\n      <th></th>\n      <th>baseMean</th>\n      <th>log2FoldChange</th>\n      <th>lfcSE</th>\n      <th>stat</th>\n      <th>pvalue</th>\n      <th>padj</th>\n    </tr>\n    <tr>\n      <th>gene</th>\n      <th></th>\n      <th></th>\n      <th></th>\n      <th></th>\n      <th></th>\n      <th></th>\n    </tr>\n  </thead>\n  <tbody>\n    <tr>\n      <th>40512</th>\n      <td>15.273559</td>\n      <td>19.183609</td>\n      <td>2.879341</td>\n      <td>17.970839</td>\n      <td>6.305485e-03</td>\n      <td>1.751580e-02</td>\n    </tr>\n    <tr>\n      <th>128up</th>\n      <td>166.372302</td>\n      <td>0.759255</td>\n      <td>0.678395</td>\n      <td>22.132593</td>\n      <td>1.145669e-03</td>\n      <td>3.903124e-03</td>\n    </tr>\n    <tr>\n      <th>14-3-3epsilon</th>\n      <td>11584.976852</td>\n      <td>0.059121</td>\n      <td>0.172566</td>\n      <td>20.264403</td>\n      <td>2.484639e-03</td>\n      <td>7.696410e-03</td>\n    </tr>\n    <tr>\n      <th>14-3-3zeta</th>\n      <td>58800.016238</td>\n      <td>-1.867902</td>\n      <td>0.165862</td>\n      <td>383.209783</td>\n      <td>1.135976e-79</td>\n      <td>2.372373e-76</td>\n    </tr>\n    <tr>\n      <th>2mit</th>\n      <td>5687.472251</td>\n      <td>-2.184018</td>\n      <td>0.308143</td>\n      <td>134.197652</td>\n      <td>1.677618e-26</td>\n      <td>7.268750e-25</td>\n    </tr>\n  </tbody>\n</table>\n</div>"
     },
     "metadata": {},
     "execution_count": 5
    }
   ],
   "source": [
    "# Counts data\n",
    "genes_LRT = pd.read_excel(PATH_MY_DGE + LRT, index_col=0)\n",
    "genes_LRT.dropna(axis=1, inplace=True)\n",
    "genes_LRT.head()"
   ]
  },
  {
   "cell_type": "code",
   "execution_count": 6,
   "metadata": {},
   "outputs": [],
   "source": [
    "## TODO: plot the expression levels of the genes that are significant for each neuron type (like boxplots) --> how to normalize/compare the expression levels??\n",
    "#ax = sns.boxplot(x=\"day\", y=\"total_bill\", data=tips)"
   ]
  },
  {
   "cell_type": "code",
   "execution_count": 7,
   "metadata": {},
   "outputs": [],
   "source": [
    "def compute_contingency_table(results_table):\n",
    "    nb_sig = results_table.shape[0]\n",
    "\n",
    "    results_table_cognition = results_table[results_table['gene'].isin(cognition_gene_names)].copy()\n",
    "    nb_cognition_sig = results_table_cognition.shape[0]\n",
    "    nb_cognition_non_sig = NB_COGNITION_GENES - nb_cognition_sig\n",
    "\n",
    "    results_table_non_cognition = results_table[~results_table['gene'].isin(cognition_gene_names)].copy()\n",
    "    nb_non_cognition_sig = nb_sig - nb_cognition_sig\n",
    "    nb_non_cognition_non_sig = NB_GENES - NB_COGNITION_GENES - nb_non_cognition_sig\n",
    "\n",
    "    contingency_table = pd.DataFrame()\n",
    "    contingency_table['names'] = ['cognition', 'non-cognition']\n",
    "    contingency_table['significant'] = [nb_cognition_sig, nb_non_cognition_sig]\n",
    "    contingency_table['non-significant'] = [nb_cognition_non_sig, nb_non_cognition_non_sig]\n",
    "    contingency_table.set_index('names', inplace=True)\n",
    "\n",
    "    return contingency_table"
   ]
  },
  {
   "cell_type": "code",
   "execution_count": 8,
   "metadata": {},
   "outputs": [],
   "source": [
    "def compute_odds_ratio(contingency_table):\n",
    "    odd_numerator = contingency_table.iloc[0,0] / contingency_table.iloc[1,0]\n",
    "    odd_denominator = contingency_table.iloc[0,1] / contingency_table.iloc[1,1]\n",
    "    odds_ratio = odd_numerator / odd_denominator\n",
    "    return odds_ratio"
   ]
  },
  {
   "cell_type": "code",
   "execution_count": 9,
   "metadata": {},
   "outputs": [],
   "source": [
    "def prop_top_list(results_table):\n",
    "    results_table.sort_values(by=['pvalue'], inplace=True)\n",
    "    print(results_table) # compute the proportion of genes related to cognition in the top 20 (maybe a bit redundant with the odds ratio)? output the top 20 genes related to cognition?"
   ]
  },
  {
   "cell_type": "code",
   "execution_count": 11,
   "metadata": {},
   "outputs": [
    {
     "output_type": "stream",
     "name": "stdout",
     "text": [
      "        gene      baseMean  log2FoldChange     lfcSE       stat        pvalue  \\\n1734  Pka-C1  13758.814627        2.351329  0.153025  15.365620  2.783615e-53   \n1591     mub  24535.829534        2.692266  0.175931  15.302967  7.304876e-53   \n1287  Eip93F   9992.995895        2.730567  0.200906  13.591285  4.510912e-42   \n52      Appl  24678.701098        1.798225  0.134098  13.409777  5.299777e-41   \n2157   VGlut  25766.143689       -2.754349  0.211979 -12.993507  1.331823e-38   \n...      ...           ...             ...       ...        ...           ...   \n737   CG3857    416.365584        0.810179  0.315113   2.571074  1.013836e-02   \n414   CG1602     29.854997        1.683262  0.654853   2.570441  1.015692e-02   \n417   CG1631      4.840215        2.026627  0.788568   2.570008  1.016963e-02   \n1271     ear    164.206692        1.243725  0.484137   2.568952  1.020065e-02   \n2084    TMS1   1999.036407       -0.685197  0.266867  -2.567558  1.024176e-02   \n\n              padj  \n1734  2.978468e-49  \n1591  3.908109e-49  \n1287  1.608892e-38  \n52    1.417690e-37  \n2157  2.850101e-35  \n...            ...  \n737   4.946670e-02  \n414   4.953465e-02  \n417   4.957403e-02  \n1271  4.970260e-02  \n2084  4.988020e-02  \n\n[2197 rows x 7 columns]\n"
     ]
    }
   ],
   "source": [
    "prop_top_list(genes_mean_DAL)"
   ]
  },
  {
   "cell_type": "code",
   "execution_count": 10,
   "metadata": {},
   "outputs": [
    {
     "output_type": "execute_result",
     "data": {
      "text/plain": [
       "         gene      baseMean  log2FoldChange     lfcSE       stat  \\\n",
       "0  14-3-3zeta  58800.016238        1.266048  0.108140  11.707467   \n",
       "1     26-29-p    430.720199       -0.811166  0.311027  -2.608029   \n",
       "2        2mit   5687.472251        1.703953  0.200415   8.502102   \n",
       "3        4EHP    680.858997        1.105202  0.298069   3.707870   \n",
       "4      5-HT1A   1726.547143        1.100984  0.271164   4.060212   \n",
       "\n",
       "         pvalue          padj  \n",
       "0  1.167143e-31  1.135312e-28  \n",
       "1  9.106532e-03  4.540536e-02  \n",
       "2  1.861884e-17  3.495116e-15  \n",
       "3  2.090103e-04  1.980877e-03  \n",
       "4  4.902812e-05  5.557212e-04  "
      ],
      "text/html": "<div>\n<style scoped>\n    .dataframe tbody tr th:only-of-type {\n        vertical-align: middle;\n    }\n\n    .dataframe tbody tr th {\n        vertical-align: top;\n    }\n\n    .dataframe thead th {\n        text-align: right;\n    }\n</style>\n<table border=\"1\" class=\"dataframe\">\n  <thead>\n    <tr style=\"text-align: right;\">\n      <th></th>\n      <th>gene</th>\n      <th>baseMean</th>\n      <th>log2FoldChange</th>\n      <th>lfcSE</th>\n      <th>stat</th>\n      <th>pvalue</th>\n      <th>padj</th>\n    </tr>\n  </thead>\n  <tbody>\n    <tr>\n      <th>0</th>\n      <td>14-3-3zeta</td>\n      <td>58800.016238</td>\n      <td>1.266048</td>\n      <td>0.108140</td>\n      <td>11.707467</td>\n      <td>1.167143e-31</td>\n      <td>1.135312e-28</td>\n    </tr>\n    <tr>\n      <th>1</th>\n      <td>26-29-p</td>\n      <td>430.720199</td>\n      <td>-0.811166</td>\n      <td>0.311027</td>\n      <td>-2.608029</td>\n      <td>9.106532e-03</td>\n      <td>4.540536e-02</td>\n    </tr>\n    <tr>\n      <th>2</th>\n      <td>2mit</td>\n      <td>5687.472251</td>\n      <td>1.703953</td>\n      <td>0.200415</td>\n      <td>8.502102</td>\n      <td>1.861884e-17</td>\n      <td>3.495116e-15</td>\n    </tr>\n    <tr>\n      <th>3</th>\n      <td>4EHP</td>\n      <td>680.858997</td>\n      <td>1.105202</td>\n      <td>0.298069</td>\n      <td>3.707870</td>\n      <td>2.090103e-04</td>\n      <td>1.980877e-03</td>\n    </tr>\n    <tr>\n      <th>4</th>\n      <td>5-HT1A</td>\n      <td>1726.547143</td>\n      <td>1.100984</td>\n      <td>0.271164</td>\n      <td>4.060212</td>\n      <td>4.902812e-05</td>\n      <td>5.557212e-04</td>\n    </tr>\n  </tbody>\n</table>\n</div>"
     },
     "metadata": {},
     "execution_count": 10
    }
   ],
   "source": [
    "genes_mean_DAL = pd.read_excel(PATH_MY_DGE + MEAN_DAL)\n",
    "genes_mean_DAL.head()"
   ]
  },
  {
   "cell_type": "code",
   "execution_count": 35,
   "metadata": {},
   "outputs": [
    {
     "output_type": "stream",
     "name": "stdout",
     "text": [
      "               significant  non-significant\nnames                                      \ncognition               56               81\nnon-cognition         2141            13404\nOdds ration for DAL vs mean:  4.33\n"
     ]
    }
   ],
   "source": [
    "contingency_table_DAL = compute_contingency_table(genes_mean_DAL)\n",
    "print(contingency_table_DAL)\n",
    "odds_ratio_DAL = compute_odds_ratio(contingency_table_DAL)\n",
    "print(\"Odds ration for DAL vs mean:  %.2f\" % odds_ratio_DAL)"
   ]
  },
  {
   "cell_type": "code",
   "execution_count": 64,
   "metadata": {},
   "outputs": [
    {
     "output_type": "execute_result",
     "data": {
      "text/plain": [
       "         gene      baseMean  log2FoldChange     lfcSE      stat        pvalue\n",
       "0  14-3-3zeta  58800.016238       -0.434886  0.108152 -4.021061  5.793665e-05\n",
       "1        2mit   5687.472251       -0.942410  0.200533 -4.699520  2.607731e-06\n",
       "2      5-HT1A   1726.547143       -1.653347  0.271613 -6.087146  1.149410e-09\n",
       "3      5-HT1B    633.144348       -1.028352  0.315094 -3.263635  1.099927e-03\n",
       "4         7B2   4951.678226        1.010074  0.142764  7.075143  1.492952e-12"
      ],
      "text/html": "<div>\n<style scoped>\n    .dataframe tbody tr th:only-of-type {\n        vertical-align: middle;\n    }\n\n    .dataframe tbody tr th {\n        vertical-align: top;\n    }\n\n    .dataframe thead th {\n        text-align: right;\n    }\n</style>\n<table border=\"1\" class=\"dataframe\">\n  <thead>\n    <tr style=\"text-align: right;\">\n      <th></th>\n      <th>gene</th>\n      <th>baseMean</th>\n      <th>log2FoldChange</th>\n      <th>lfcSE</th>\n      <th>stat</th>\n      <th>pvalue</th>\n    </tr>\n  </thead>\n  <tbody>\n    <tr>\n      <th>0</th>\n      <td>14-3-3zeta</td>\n      <td>58800.016238</td>\n      <td>-0.434886</td>\n      <td>0.108152</td>\n      <td>-4.021061</td>\n      <td>5.793665e-05</td>\n    </tr>\n    <tr>\n      <th>1</th>\n      <td>2mit</td>\n      <td>5687.472251</td>\n      <td>-0.942410</td>\n      <td>0.200533</td>\n      <td>-4.699520</td>\n      <td>2.607731e-06</td>\n    </tr>\n    <tr>\n      <th>2</th>\n      <td>5-HT1A</td>\n      <td>1726.547143</td>\n      <td>-1.653347</td>\n      <td>0.271613</td>\n      <td>-6.087146</td>\n      <td>1.149410e-09</td>\n    </tr>\n    <tr>\n      <th>3</th>\n      <td>5-HT1B</td>\n      <td>633.144348</td>\n      <td>-1.028352</td>\n      <td>0.315094</td>\n      <td>-3.263635</td>\n      <td>1.099927e-03</td>\n    </tr>\n    <tr>\n      <th>4</th>\n      <td>7B2</td>\n      <td>4951.678226</td>\n      <td>1.010074</td>\n      <td>0.142764</td>\n      <td>7.075143</td>\n      <td>1.492952e-12</td>\n    </tr>\n  </tbody>\n</table>\n</div>"
     },
     "metadata": {},
     "execution_count": 64
    }
   ],
   "source": [
    "genes_mean_V2 = pd.read_excel(PATH_MY_DGE + MEAN_V2)\n",
    "genes_mean_V2.head()"
   ]
  },
  {
   "cell_type": "code",
   "execution_count": 37,
   "metadata": {},
   "outputs": [
    {
     "output_type": "stream",
     "name": "stdout",
     "text": [
      "               significant  non-significant\nnames                                      \ncognition               29              108\nnon-cognition         1034            14511\nOdds ration for V2 vs mean:  3.77\n"
     ]
    }
   ],
   "source": [
    "contingency_table_V2 = compute_contingency_table(genes_mean_V2)\n",
    "print(contingency_table_V2)\n",
    "odds_ratio_V2 = compute_odds_ratio(contingency_table_V2)\n",
    "print(\"Odds ration for V2 vs mean:  %.2f\" % odds_ratio_V2)"
   ]
  },
  {
   "cell_type": "code",
   "execution_count": 38,
   "metadata": {},
   "outputs": [
    {
     "output_type": "execute_result",
     "data": {
      "text/plain": [
       "            gene      baseMean  log2FoldChange     lfcSE      stat  \\\n",
       "0          140up    103.708171       -1.829006  0.618203 -2.958586   \n",
       "1  14-3-3epsilon  11584.976852       -0.318880  0.123701 -2.577816   \n",
       "2     14-3-3zeta  58800.016238       -0.822359  0.118805 -6.921909   \n",
       "3           4EHP    680.858997       -0.799613  0.326712 -2.447456   \n",
       "4         5-HT1A   1726.547143        1.018431  0.296849  3.430808   \n",
       "\n",
       "         pvalue  \n",
       "0  3.090537e-03  \n",
       "1  9.942686e-03  \n",
       "2  4.455983e-12  \n",
       "3  1.438685e-02  \n",
       "4  6.017868e-04  "
      ],
      "text/html": "<div>\n<style scoped>\n    .dataframe tbody tr th:only-of-type {\n        vertical-align: middle;\n    }\n\n    .dataframe tbody tr th {\n        vertical-align: top;\n    }\n\n    .dataframe thead th {\n        text-align: right;\n    }\n</style>\n<table border=\"1\" class=\"dataframe\">\n  <thead>\n    <tr style=\"text-align: right;\">\n      <th></th>\n      <th>gene</th>\n      <th>baseMean</th>\n      <th>log2FoldChange</th>\n      <th>lfcSE</th>\n      <th>stat</th>\n      <th>pvalue</th>\n    </tr>\n  </thead>\n  <tbody>\n    <tr>\n      <th>0</th>\n      <td>140up</td>\n      <td>103.708171</td>\n      <td>-1.829006</td>\n      <td>0.618203</td>\n      <td>-2.958586</td>\n      <td>3.090537e-03</td>\n    </tr>\n    <tr>\n      <th>1</th>\n      <td>14-3-3epsilon</td>\n      <td>11584.976852</td>\n      <td>-0.318880</td>\n      <td>0.123701</td>\n      <td>-2.577816</td>\n      <td>9.942686e-03</td>\n    </tr>\n    <tr>\n      <th>2</th>\n      <td>14-3-3zeta</td>\n      <td>58800.016238</td>\n      <td>-0.822359</td>\n      <td>0.118805</td>\n      <td>-6.921909</td>\n      <td>4.455983e-12</td>\n    </tr>\n    <tr>\n      <th>3</th>\n      <td>4EHP</td>\n      <td>680.858997</td>\n      <td>-0.799613</td>\n      <td>0.326712</td>\n      <td>-2.447456</td>\n      <td>1.438685e-02</td>\n    </tr>\n    <tr>\n      <th>4</th>\n      <td>5-HT1A</td>\n      <td>1726.547143</td>\n      <td>1.018431</td>\n      <td>0.296849</td>\n      <td>3.430808</td>\n      <td>6.017868e-04</td>\n    </tr>\n  </tbody>\n</table>\n</div>"
     },
     "metadata": {},
     "execution_count": 38
    }
   ],
   "source": [
    "genes_mean_V3 = pd.read_excel(PATH_MY_DGE + MEAN_V3)#, index_col=0)\n",
    "genes_mean_V3.head()"
   ]
  },
  {
   "cell_type": "code",
   "execution_count": 39,
   "metadata": {},
   "outputs": [
    {
     "output_type": "stream",
     "name": "stdout",
     "text": [
      "               significant  non-significant\nnames                                      \ncognition               60               77\nnon-cognition         2796            12749\nOdds ration for V3 vs mean:  3.55\n"
     ]
    }
   ],
   "source": [
    "contingency_table_V3 = compute_contingency_table(genes_mean_V3)\n",
    "print(contingency_table_V3)\n",
    "odds_ratio_V3 = compute_odds_ratio(contingency_table_V3)\n",
    "print(\"Odds ration for V3 vs mean:  %.2f\" % odds_ratio_V3)"
   ]
  },
  {
   "cell_type": "code",
   "execution_count": 40,
   "metadata": {},
   "outputs": [
    {
     "output_type": "execute_result",
     "data": {
      "text/plain": [
       "         gene      baseMean  log2FoldChange     lfcSE      stat        pvalue\n",
       "0       40421    164.820080       -1.248336  0.419357 -2.976787  2.912862e-03\n",
       "1       40512     15.273559        4.001998  0.978795  4.088700  4.337969e-05\n",
       "2       128up    166.372302        1.500860  0.420228  3.571536  3.548939e-04\n",
       "3  14-3-3zeta  58800.016238       -0.740799  0.108170 -6.848494  7.463147e-12\n",
       "4        2mit   5687.472251       -0.717182  0.200585 -3.575460  3.496127e-04"
      ],
      "text/html": "<div>\n<style scoped>\n    .dataframe tbody tr th:only-of-type {\n        vertical-align: middle;\n    }\n\n    .dataframe tbody tr th {\n        vertical-align: top;\n    }\n\n    .dataframe thead th {\n        text-align: right;\n    }\n</style>\n<table border=\"1\" class=\"dataframe\">\n  <thead>\n    <tr style=\"text-align: right;\">\n      <th></th>\n      <th>gene</th>\n      <th>baseMean</th>\n      <th>log2FoldChange</th>\n      <th>lfcSE</th>\n      <th>stat</th>\n      <th>pvalue</th>\n    </tr>\n  </thead>\n  <tbody>\n    <tr>\n      <th>0</th>\n      <td>40421</td>\n      <td>164.820080</td>\n      <td>-1.248336</td>\n      <td>0.419357</td>\n      <td>-2.976787</td>\n      <td>2.912862e-03</td>\n    </tr>\n    <tr>\n      <th>1</th>\n      <td>40512</td>\n      <td>15.273559</td>\n      <td>4.001998</td>\n      <td>0.978795</td>\n      <td>4.088700</td>\n      <td>4.337969e-05</td>\n    </tr>\n    <tr>\n      <th>2</th>\n      <td>128up</td>\n      <td>166.372302</td>\n      <td>1.500860</td>\n      <td>0.420228</td>\n      <td>3.571536</td>\n      <td>3.548939e-04</td>\n    </tr>\n    <tr>\n      <th>3</th>\n      <td>14-3-3zeta</td>\n      <td>58800.016238</td>\n      <td>-0.740799</td>\n      <td>0.108170</td>\n      <td>-6.848494</td>\n      <td>7.463147e-12</td>\n    </tr>\n    <tr>\n      <th>4</th>\n      <td>2mit</td>\n      <td>5687.472251</td>\n      <td>-0.717182</td>\n      <td>0.200585</td>\n      <td>-3.575460</td>\n      <td>3.496127e-04</td>\n    </tr>\n  </tbody>\n</table>\n</div>"
     },
     "metadata": {},
     "execution_count": 40
    }
   ],
   "source": [
    "genes_mean_AB_KCs = pd.read_excel(PATH_MY_DGE + MEAN_AB_KCs)\n",
    "genes_mean_AB_KCs.head()"
   ]
  },
  {
   "cell_type": "code",
   "execution_count": 19,
   "metadata": {},
   "outputs": [
    {
     "output_type": "stream",
     "name": "stdout",
     "text": [
      "               significant  non-significant\nnames                                      \ncognition               59               78\nnon-cognition         2938            12607\nOdds ration for AB_KCs vs mean:  3.25\n"
     ]
    }
   ],
   "source": [
    "contingency_table_AB_KCs = compute_contingency_table(genes_mean_AB_KCs)\n",
    "print(contingency_table_AB_KCs)\n",
    "odds_ratio_AB_KCs = compute_odds_ratio(contingency_table_AB_KCs)\n",
    "print(\"Odds ration for AB_KCs vs mean:  %.2f\" % odds_ratio_AB_KCs)"
   ]
  },
  {
   "cell_type": "code",
   "execution_count": 20,
   "metadata": {},
   "outputs": [
    {
     "output_type": "execute_result",
     "data": {
      "text/plain": [
       "             gene      baseMean  log2FoldChange     lfcSE       stat  \\\n",
       "0      14-3-3zeta  58800.016238        1.212506  0.100407  12.075936   \n",
       "1            2mit   5687.472251        0.880631  0.186286   4.727309   \n",
       "2            4EHP    680.858997        0.775678  0.277527   2.794965   \n",
       "3          5-HT1B    633.144348        1.120156  0.292865   3.824823   \n",
       "4  7SLRNA:CR32864    110.742163       -1.429284  0.304161  -4.699099   \n",
       "\n",
       "         pvalue  \n",
       "0  1.415449e-33  \n",
       "1  2.275151e-06  \n",
       "2  5.190541e-03  \n",
       "3  1.308661e-04  \n",
       "4  2.613116e-06  "
      ],
      "text/html": "<div>\n<style scoped>\n    .dataframe tbody tr th:only-of-type {\n        vertical-align: middle;\n    }\n\n    .dataframe tbody tr th {\n        vertical-align: top;\n    }\n\n    .dataframe thead th {\n        text-align: right;\n    }\n</style>\n<table border=\"1\" class=\"dataframe\">\n  <thead>\n    <tr style=\"text-align: right;\">\n      <th></th>\n      <th>gene</th>\n      <th>baseMean</th>\n      <th>log2FoldChange</th>\n      <th>lfcSE</th>\n      <th>stat</th>\n      <th>pvalue</th>\n    </tr>\n  </thead>\n  <tbody>\n    <tr>\n      <th>0</th>\n      <td>14-3-3zeta</td>\n      <td>58800.016238</td>\n      <td>1.212506</td>\n      <td>0.100407</td>\n      <td>12.075936</td>\n      <td>1.415449e-33</td>\n    </tr>\n    <tr>\n      <th>1</th>\n      <td>2mit</td>\n      <td>5687.472251</td>\n      <td>0.880631</td>\n      <td>0.186286</td>\n      <td>4.727309</td>\n      <td>2.275151e-06</td>\n    </tr>\n    <tr>\n      <th>2</th>\n      <td>4EHP</td>\n      <td>680.858997</td>\n      <td>0.775678</td>\n      <td>0.277527</td>\n      <td>2.794965</td>\n      <td>5.190541e-03</td>\n    </tr>\n    <tr>\n      <th>3</th>\n      <td>5-HT1B</td>\n      <td>633.144348</td>\n      <td>1.120156</td>\n      <td>0.292865</td>\n      <td>3.824823</td>\n      <td>1.308661e-04</td>\n    </tr>\n    <tr>\n      <th>4</th>\n      <td>7SLRNA:CR32864</td>\n      <td>110.742163</td>\n      <td>-1.429284</td>\n      <td>0.304161</td>\n      <td>-4.699099</td>\n      <td>2.613116e-06</td>\n    </tr>\n  </tbody>\n</table>\n</div>"
     },
     "metadata": {},
     "execution_count": 20
    }
   ],
   "source": [
    "genes_mean_G_KCs = pd.read_excel(PATH_MY_DGE + MEAN_G_KCs)\n",
    "genes_mean_G_KCs.head()"
   ]
  },
  {
   "cell_type": "code",
   "execution_count": 21,
   "metadata": {},
   "outputs": [
    {
     "output_type": "stream",
     "name": "stdout",
     "text": [
      "               significant  non-significant\nnames                                      \ncognition               53               84\nnon-cognition         2174            13371\nOdds ration for G_KCs vs mean:  3.88\n"
     ]
    }
   ],
   "source": [
    "contingency_table_G_KCs = compute_contingency_table(genes_mean_G_KCs)\n",
    "print(contingency_table_G_KCs)\n",
    "odds_ratio_G_KCs = compute_odds_ratio(contingency_table_G_KCs)\n",
    "print(\"Odds ration for G_KCs vs mean:  %.2f\" % odds_ratio_G_KCs)"
   ]
  },
  {
   "cell_type": "code",
   "execution_count": 41,
   "metadata": {},
   "outputs": [
    {
     "output_type": "execute_result",
     "data": {
      "text/plain": [
       "             gene     baseMean  log2FoldChange     lfcSE      stat  \\\n",
       "0  7SLRNA:CR32864   110.742163       -1.336932  0.325908 -4.102175   \n",
       "1  7SLRNA:CR42652   112.443580       -1.267791  0.323672 -3.916903   \n",
       "2             a10   199.626819       -4.520713  0.831277 -5.438275   \n",
       "3            abba    40.742169       -2.753504  0.874904 -3.147209   \n",
       "4             Ace  1058.383610        0.931375  0.297593  3.129696   \n",
       "\n",
       "         pvalue  \n",
       "0  4.092844e-05  \n",
       "1  8.969369e-05  \n",
       "2  5.379880e-08  \n",
       "3  1.648370e-03  \n",
       "4  1.749873e-03  "
      ],
      "text/html": "<div>\n<style scoped>\n    .dataframe tbody tr th:only-of-type {\n        vertical-align: middle;\n    }\n\n    .dataframe tbody tr th {\n        vertical-align: top;\n    }\n\n    .dataframe thead th {\n        text-align: right;\n    }\n</style>\n<table border=\"1\" class=\"dataframe\">\n  <thead>\n    <tr style=\"text-align: right;\">\n      <th></th>\n      <th>gene</th>\n      <th>baseMean</th>\n      <th>log2FoldChange</th>\n      <th>lfcSE</th>\n      <th>stat</th>\n      <th>pvalue</th>\n    </tr>\n  </thead>\n  <tbody>\n    <tr>\n      <th>0</th>\n      <td>7SLRNA:CR32864</td>\n      <td>110.742163</td>\n      <td>-1.336932</td>\n      <td>0.325908</td>\n      <td>-4.102175</td>\n      <td>4.092844e-05</td>\n    </tr>\n    <tr>\n      <th>1</th>\n      <td>7SLRNA:CR42652</td>\n      <td>112.443580</td>\n      <td>-1.267791</td>\n      <td>0.323672</td>\n      <td>-3.916903</td>\n      <td>8.969369e-05</td>\n    </tr>\n    <tr>\n      <th>2</th>\n      <td>a10</td>\n      <td>199.626819</td>\n      <td>-4.520713</td>\n      <td>0.831277</td>\n      <td>-5.438275</td>\n      <td>5.379880e-08</td>\n    </tr>\n    <tr>\n      <th>3</th>\n      <td>abba</td>\n      <td>40.742169</td>\n      <td>-2.753504</td>\n      <td>0.874904</td>\n      <td>-3.147209</td>\n      <td>1.648370e-03</td>\n    </tr>\n    <tr>\n      <th>4</th>\n      <td>Ace</td>\n      <td>1058.383610</td>\n      <td>0.931375</td>\n      <td>0.297593</td>\n      <td>3.129696</td>\n      <td>1.749873e-03</td>\n    </tr>\n  </tbody>\n</table>\n</div>"
     },
     "metadata": {},
     "execution_count": 41
    }
   ],
   "source": [
    "genes_mean_R27 = pd.read_excel(PATH_MY_DGE + MEAN_R27)\n",
    "genes_mean_R27.head()"
   ]
  },
  {
   "cell_type": "code",
   "execution_count": 42,
   "metadata": {},
   "outputs": [
    {
     "output_type": "stream",
     "name": "stdout",
     "text": [
      "               significant  non-significant\nnames                                      \ncognition               10              127\nnon-cognition          793            14752\nOdds ration for R27 vs mean:  1.46\n"
     ]
    }
   ],
   "source": [
    "contingency_table_R27 = compute_contingency_table(genes_mean_R27)\n",
    "print(contingency_table_R27)\n",
    "odds_ratio_R27 = compute_odds_ratio(contingency_table_R27)\n",
    "print(\"Odds ration for R27 vs mean:  %.2f\" % odds_ratio_R27)"
   ]
  },
  {
   "cell_type": "code",
   "execution_count": 43,
   "metadata": {},
   "outputs": [
    {
     "output_type": "execute_result",
     "data": {
      "text/plain": [
       "         gene      baseMean  log2FoldChange     lfcSE      stat        pvalue\n",
       "0  14-3-3zeta  58800.016238       -0.593148  0.108155 -5.484214  4.153111e-08\n",
       "1      5-HT1A   1726.547143       -1.106958  0.271466 -4.077703  4.548277e-05\n",
       "2         a10    199.626819        4.703805  0.775988  6.061701  1.346894e-09\n",
       "3          a5     10.039765        3.248448  0.977812  3.322160  8.932334e-04\n",
       "4       Ac78C    289.484002       -1.429288  0.432572 -3.304164  9.526025e-04"
      ],
      "text/html": "<div>\n<style scoped>\n    .dataframe tbody tr th:only-of-type {\n        vertical-align: middle;\n    }\n\n    .dataframe tbody tr th {\n        vertical-align: top;\n    }\n\n    .dataframe thead th {\n        text-align: right;\n    }\n</style>\n<table border=\"1\" class=\"dataframe\">\n  <thead>\n    <tr style=\"text-align: right;\">\n      <th></th>\n      <th>gene</th>\n      <th>baseMean</th>\n      <th>log2FoldChange</th>\n      <th>lfcSE</th>\n      <th>stat</th>\n      <th>pvalue</th>\n    </tr>\n  </thead>\n  <tbody>\n    <tr>\n      <th>0</th>\n      <td>14-3-3zeta</td>\n      <td>58800.016238</td>\n      <td>-0.593148</td>\n      <td>0.108155</td>\n      <td>-5.484214</td>\n      <td>4.153111e-08</td>\n    </tr>\n    <tr>\n      <th>1</th>\n      <td>5-HT1A</td>\n      <td>1726.547143</td>\n      <td>-1.106958</td>\n      <td>0.271466</td>\n      <td>-4.077703</td>\n      <td>4.548277e-05</td>\n    </tr>\n    <tr>\n      <th>2</th>\n      <td>a10</td>\n      <td>199.626819</td>\n      <td>4.703805</td>\n      <td>0.775988</td>\n      <td>6.061701</td>\n      <td>1.346894e-09</td>\n    </tr>\n    <tr>\n      <th>3</th>\n      <td>a5</td>\n      <td>10.039765</td>\n      <td>3.248448</td>\n      <td>0.977812</td>\n      <td>3.322160</td>\n      <td>8.932334e-04</td>\n    </tr>\n    <tr>\n      <th>4</th>\n      <td>Ac78C</td>\n      <td>289.484002</td>\n      <td>-1.429288</td>\n      <td>0.432572</td>\n      <td>-3.304164</td>\n      <td>9.526025e-04</td>\n    </tr>\n  </tbody>\n</table>\n</div>"
     },
     "metadata": {},
     "execution_count": 43
    }
   ],
   "source": [
    "genes_mean_G386 = pd.read_excel(PATH_MY_DGE + MEAN_G386)\n",
    "genes_mean_G386.head()"
   ]
  },
  {
   "cell_type": "code",
   "execution_count": 44,
   "metadata": {},
   "outputs": [
    {
     "output_type": "stream",
     "name": "stdout",
     "text": [
      "               significant  non-significant\nnames                                      \ncognition               19              118\nnon-cognition          544            15001\nOdds ration for G386 vs mean:  4.44\n"
     ]
    }
   ],
   "source": [
    "contingency_table_G386 = compute_contingency_table(genes_mean_G386)\n",
    "print(contingency_table_G386)\n",
    "odds_ratio_G386 = compute_odds_ratio(contingency_table_G386)\n",
    "print(\"Odds ration for G386 vs mean:  %.2f\" % odds_ratio_G386)"
   ]
  },
  {
   "cell_type": "code",
   "execution_count": 45,
   "metadata": {},
   "outputs": [],
   "source": [
    "genes_DAL_V2 = pd.read_excel(PATH_MY_DGE + PAIRWISE_DAL + \"V2.xlsx\", index_col=0)\n",
    "genes_DAL_V3 = pd.read_excel(PATH_MY_DGE + PAIRWISE_DAL + \"V3.xlsx\", index_col=0)\n",
    "genes_DAL_AB_KCs = pd.read_excel(PATH_MY_DGE + PAIRWISE_DAL + \"AB_KCs.xlsx\", index_col=0)\n",
    "genes_DAL_G_KCs = pd.read_excel(PATH_MY_DGE + PAIRWISE_DAL + \"G_KCs.xlsx\", index_col=0)\n",
    "genes_DAL_R27 = pd.read_excel(PATH_MY_DGE + PAIRWISE_DAL + \"R27.xlsx\", index_col=0)\n",
    "genes_DAL_G386 = pd.read_excel(PATH_MY_DGE + PAIRWISE_DAL + \"G386.xlsx\", index_col=0)"
   ]
  },
  {
   "cell_type": "code",
   "execution_count": 21,
   "metadata": {},
   "outputs": [],
   "source": [
    "genes_V2_DAL = pd.read_excel(PATH_MY_DGE + PAIRWISE_V2 + \"DAL.xlsx\", index_col=0)\n",
    "genes_V2_V3 = pd.read_excel(PATH_MY_DGE + PAIRWISE_V2 + \"V3.xlsx\", index_col=0)\n",
    "genes_V2_AB_KCs = pd.read_excel(PATH_MY_DGE + PAIRWISE_V2 + \"AB_KCs.xlsx\", index_col=0)\n",
    "genes_V2_G_KCs = pd.read_excel(PATH_MY_DGE + PAIRWISE_V2 + \"G_KCs.xlsx\", index_col=0)\n",
    "genes_V2_R27 = pd.read_excel(PATH_MY_DGE + PAIRWISE_V2 + \"R27.xlsx\", index_col=0)\n",
    "genes_V2_G386 = pd.read_excel(PATH_MY_DGE + PAIRWISE_V2 + \"G386.xlsx\", index_col=0)"
   ]
  },
  {
   "cell_type": "code",
   "execution_count": 22,
   "metadata": {},
   "outputs": [],
   "source": [
    "genes_V3_DAL = pd.read_excel(PATH_MY_DGE + PAIRWISE_V3 + \"DAL.xlsx\", index_col=0)\n",
    "genes_V3_V2 = pd.read_excel(PATH_MY_DGE + PAIRWISE_V3 + \"V2.xlsx\", index_col=0)\n",
    "genes_V3_AB_KCs = pd.read_excel(PATH_MY_DGE + PAIRWISE_V3 + \"AB_KCs.xlsx\", index_col=0)\n",
    "genes_V3_G_KCs = pd.read_excel(PATH_MY_DGE + PAIRWISE_V3 + \"G_KCs.xlsx\", index_col=0)\n",
    "genes_V3_R27 = pd.read_excel(PATH_MY_DGE + PAIRWISE_V3 + \"R27.xlsx\", index_col=0)\n",
    "genes_V3_G386 = pd.read_excel(PATH_MY_DGE + PAIRWISE_V3 + \"G386.xlsx\", index_col=0)"
   ]
  },
  {
   "cell_type": "code",
   "execution_count": 23,
   "metadata": {},
   "outputs": [],
   "source": [
    "genes_AB_KCs_DAL = pd.read_excel(PATH_MY_DGE + PAIRWISE_AB_KCs + \"DAL.xlsx\", index_col=0)\n",
    "genes_AB_KCs_V2 = pd.read_excel(PATH_MY_DGE + PAIRWISE_AB_KCs + \"V2.xlsx\", index_col=0)\n",
    "genes_AB_KCs_V3 = pd.read_excel(PATH_MY_DGE + PAIRWISE_AB_KCs + \"V3.xlsx\", index_col=0)\n",
    "genes_AB_KCs_G_KCs = pd.read_excel(PATH_MY_DGE + PAIRWISE_AB_KCs + \"G_KCs.xlsx\", index_col=0)\n",
    "genes_AB_KCs_R27 = pd.read_excel(PATH_MY_DGE + PAIRWISE_AB_KCs + \"R27.xlsx\", index_col=0)\n",
    "genes_AB_KCs_G386 = pd.read_excel(PATH_MY_DGE + PAIRWISE_AB_KCs + \"G386.xlsx\", index_col=0)"
   ]
  },
  {
   "cell_type": "code",
   "execution_count": 24,
   "metadata": {},
   "outputs": [],
   "source": [
    "genes_G_KCs_DAL = pd.read_excel(PATH_MY_DGE + PAIRWISE_G_KCs + \"DAL.xlsx\", index_col=0)\n",
    "genes_G_KCs_V2 = pd.read_excel(PATH_MY_DGE + PAIRWISE_G_KCs + \"V2.xlsx\", index_col=0)\n",
    "genes_G_KCs_V3 = pd.read_excel(PATH_MY_DGE + PAIRWISE_G_KCs + \"V3.xlsx\", index_col=0)\n",
    "genes_G_KCs_AB_KCs = pd.read_excel(PATH_MY_DGE + PAIRWISE_G_KCs + \"AB_KCs.xlsx\", index_col=0)\n",
    "genes_G_KCs_R27 = pd.read_excel(PATH_MY_DGE + PAIRWISE_G_KCs + \"R27.xlsx\", index_col=0)\n",
    "genes_G_KCs_G386 = pd.read_excel(PATH_MY_DGE + PAIRWISE_G_KCs + \"G386.xlsx\", index_col=0)"
   ]
  },
  {
   "cell_type": "code",
   "execution_count": 25,
   "metadata": {},
   "outputs": [],
   "source": [
    "genes_R27_DAL = pd.read_excel(PATH_MY_DGE + PAIRWISE_R27 + \"DAL.xlsx\", index_col=0)\n",
    "genes_R27_V2 = pd.read_excel(PATH_MY_DGE + PAIRWISE_R27 + \"V2.xlsx\", index_col=0)\n",
    "genes_R27_V3 = pd.read_excel(PATH_MY_DGE + PAIRWISE_R27 + \"V3.xlsx\", index_col=0)\n",
    "genes_R27_AB_KCs = pd.read_excel(PATH_MY_DGE + PAIRWISE_R27 + \"AB_KCs.xlsx\", index_col=0)\n",
    "genes_R27_G_KCs = pd.read_excel(PATH_MY_DGE + PAIRWISE_R27 + \"G_KCs.xlsx\", index_col=0)\n",
    "genes_R27_G386 = pd.read_excel(PATH_MY_DGE + PAIRWISE_R27 + \"G386.xlsx\", index_col=0)"
   ]
  },
  {
   "cell_type": "code",
   "execution_count": 26,
   "metadata": {},
   "outputs": [],
   "source": [
    "genes_G386_DAL = pd.read_excel(PATH_MY_DGE + PAIRWISE_G386 + \"DAL.xlsx\", index_col=0)\n",
    "genes_G386_V2 = pd.read_excel(PATH_MY_DGE + PAIRWISE_G386 + \"V2.xlsx\", index_col=0)\n",
    "genes_G386_V3 = pd.read_excel(PATH_MY_DGE + PAIRWISE_G386 + \"V3.xlsx\", index_col=0)\n",
    "genes_G386_AB_KCs = pd.read_excel(PATH_MY_DGE + PAIRWISE_G386 + \"AB_KCs.xlsx\", index_col=0)\n",
    "genes_G386_G_KCs = pd.read_excel(PATH_MY_DGE + PAIRWISE_G386 + \"G_KCs.xlsx\", index_col=0)\n",
    "genes_G386_R27 = pd.read_excel(PATH_MY_DGE + PAIRWISE_G386 + \"R27.xlsx\", index_col=0)"
   ]
  },
  {
   "cell_type": "code",
   "execution_count": 76,
   "metadata": {},
   "outputs": [
    {
     "output_type": "execute_result",
     "data": {
      "text/plain": [
       "        Genes baseMean log2FoldChange     lfcSE     stat    pvalue  \\\n",
       "0      CG9795  391.861        4.59727  0.745981  6.16271  7.15e-10   \n",
       "1        Iris  613.726        4.31574  0.698002  6.18299  6.29e-10   \n",
       "2     CG14872  306.428        6.62435   1.19361  5.54983  2.86e-08   \n",
       "3      EndoGI  324.007        6.94372   1.25609  5.52806  3.24e-08   \n",
       "4      CG7488   166.63        7.87991   1.49139   5.2836  1.27e-07   \n",
       "...       ...      ...            ...       ...      ...       ...   \n",
       "7330                                                                 \n",
       "7331                                                                 \n",
       "7332                                                                 \n",
       "7333                                                                 \n",
       "7334                                                                 \n",
       "\n",
       "             padj       qvalue  \n",
       "0        2.41e-06  2.22644e-06  \n",
       "1        2.41e-06  2.22644e-06  \n",
       "2        5.46e-05  5.04452e-05  \n",
       "3        5.46e-05  5.04452e-05  \n",
       "4     0.000171002  0.000158186  \n",
       "...           ...          ...  \n",
       "7330                            \n",
       "7331                            \n",
       "7332                            \n",
       "7333                            \n",
       "7334                            \n",
       "\n",
       "[7335 rows x 8 columns]"
      ],
      "text/html": "<div>\n<style scoped>\n    .dataframe tbody tr th:only-of-type {\n        vertical-align: middle;\n    }\n\n    .dataframe tbody tr th {\n        vertical-align: top;\n    }\n\n    .dataframe thead th {\n        text-align: right;\n    }\n</style>\n<table border=\"1\" class=\"dataframe\">\n  <thead>\n    <tr style=\"text-align: right;\">\n      <th></th>\n      <th>Genes</th>\n      <th>baseMean</th>\n      <th>log2FoldChange</th>\n      <th>lfcSE</th>\n      <th>stat</th>\n      <th>pvalue</th>\n      <th>padj</th>\n      <th>qvalue</th>\n    </tr>\n  </thead>\n  <tbody>\n    <tr>\n      <th>0</th>\n      <td>CG9795</td>\n      <td>391.861</td>\n      <td>4.59727</td>\n      <td>0.745981</td>\n      <td>6.16271</td>\n      <td>7.15e-10</td>\n      <td>2.41e-06</td>\n      <td>2.22644e-06</td>\n    </tr>\n    <tr>\n      <th>1</th>\n      <td>Iris</td>\n      <td>613.726</td>\n      <td>4.31574</td>\n      <td>0.698002</td>\n      <td>6.18299</td>\n      <td>6.29e-10</td>\n      <td>2.41e-06</td>\n      <td>2.22644e-06</td>\n    </tr>\n    <tr>\n      <th>2</th>\n      <td>CG14872</td>\n      <td>306.428</td>\n      <td>6.62435</td>\n      <td>1.19361</td>\n      <td>5.54983</td>\n      <td>2.86e-08</td>\n      <td>5.46e-05</td>\n      <td>5.04452e-05</td>\n    </tr>\n    <tr>\n      <th>3</th>\n      <td>EndoGI</td>\n      <td>324.007</td>\n      <td>6.94372</td>\n      <td>1.25609</td>\n      <td>5.52806</td>\n      <td>3.24e-08</td>\n      <td>5.46e-05</td>\n      <td>5.04452e-05</td>\n    </tr>\n    <tr>\n      <th>4</th>\n      <td>CG7488</td>\n      <td>166.63</td>\n      <td>7.87991</td>\n      <td>1.49139</td>\n      <td>5.2836</td>\n      <td>1.27e-07</td>\n      <td>0.000171002</td>\n      <td>0.000158186</td>\n    </tr>\n    <tr>\n      <th>...</th>\n      <td>...</td>\n      <td>...</td>\n      <td>...</td>\n      <td>...</td>\n      <td>...</td>\n      <td>...</td>\n      <td>...</td>\n      <td>...</td>\n    </tr>\n    <tr>\n      <th>7330</th>\n      <td></td>\n      <td></td>\n      <td></td>\n      <td></td>\n      <td></td>\n      <td></td>\n      <td></td>\n      <td></td>\n    </tr>\n    <tr>\n      <th>7331</th>\n      <td></td>\n      <td></td>\n      <td></td>\n      <td></td>\n      <td></td>\n      <td></td>\n      <td></td>\n      <td></td>\n    </tr>\n    <tr>\n      <th>7332</th>\n      <td></td>\n      <td></td>\n      <td></td>\n      <td></td>\n      <td></td>\n      <td></td>\n      <td></td>\n      <td></td>\n    </tr>\n    <tr>\n      <th>7333</th>\n      <td></td>\n      <td></td>\n      <td></td>\n      <td></td>\n      <td></td>\n      <td></td>\n      <td></td>\n      <td></td>\n    </tr>\n    <tr>\n      <th>7334</th>\n      <td></td>\n      <td></td>\n      <td></td>\n      <td></td>\n      <td></td>\n      <td></td>\n      <td></td>\n      <td></td>\n    </tr>\n  </tbody>\n</table>\n<p>7335 rows × 8 columns</p>\n</div>"
     },
     "metadata": {},
     "execution_count": 76
    }
   ],
   "source": [
    "DAL = pd.read_excel(DGE_PAPER, sheet_name=\"Supplemental Table 6\", usecols=\"A:H\", skiprows=7)\n",
    "DAL.dropna(axis=0, inplace=True)\n",
    "DAL.head"
   ]
  },
  {
   "cell_type": "code",
   "execution_count": null,
   "metadata": {},
   "outputs": [],
   "source": []
  }
 ],
 "metadata": {
  "kernelspec": {
   "name": "python385jvsc74a57bd024ca4be73995f5f6c55b5047f39da87722f02f9d48b69a91b127def2869ddebf",
   "display_name": "Python 3.8.5 64-bit ('ada': conda)"
  },
  "language_info": {
   "codemirror_mode": {
    "name": "ipython",
    "version": 3
   },
   "file_extension": ".py",
   "mimetype": "text/x-python",
   "name": "python",
   "nbconvert_exporter": "python",
   "pygments_lexer": "ipython3",
   "version": "3.8.5"
  }
 },
 "nbformat": 4,
 "nbformat_minor": 4
}