{
 "cells": [
  {
   "cell_type": "code",
   "execution_count": 4,
   "metadata": {},
   "outputs": [],
   "source": [
    "import numpy as np\n",
    "import pandas as pd\n",
    "import os.path"
   ]
  },
  {
   "cell_type": "code",
   "execution_count": 5,
   "metadata": {},
   "outputs": [],
   "source": [
    "PATH_MY_DGE = \"./data/DESeq_results/\"\n",
    "\n",
    "LRT = \"LRT/res_LRT.xlsx\"\n",
    "\n",
    "MEAN_DAL = \"mean/DAL/res_mean.xlsx\"\n",
    "MEAN_V2 = \"mean/V2/res_mean.xlsx\"\n",
    "MEAN_V3 = \"mean/V3/res_mean.xlsx\"\n",
    "MEAN_AB_KCs = \"mean/AB_KCs/res_mean.xlsx\"\n",
    "MEAN_G_KCs = \"mean/G_KCs/res_mean.xlsx\"\n",
    "MEAN_R27 = \"mean/R27/res_mean.xlsx\"\n",
    "MEAN_G386 = \"mean/G386/res_mean.xlsx\"\n",
    "\n",
    "PAIRWISE_DAL = \"pairwise/res_DAL_\"\n",
    "PAIRWISE_V2 = \"pairwise/res_V2_\"\n",
    "PAIRWISE_V3 = \"pairwise/res_V3_\"\n",
    "PAIRWISE_AB_KCs = \"pairwise/res_AB_KCs_\"\n",
    "PAIRWISE_G_KCs = \"pairwise/res_G_KCs_\"\n",
    "PAIRWISE_R27 = \"pairwise/res_R27_\"\n",
    "PAIRWISE_G386 = \"pairwise/res_G386_\""
   ]
  },
  {
   "cell_type": "code",
   "execution_count": 6,
   "metadata": {},
   "outputs": [
    {
     "output_type": "execute_result",
     "data": {
      "text/plain": [
       "                baseMean  log2FoldChange     lfcSE        stat        pvalue\n",
       "gene                                                                        \n",
       "14-3-3zeta  53395.767469       -1.117552  0.128501  174.333968  5.413745e-35\n",
       "2mit         5138.245843       -1.464031  0.283965   57.535217  1.423423e-10\n",
       "5-HT1A       1847.051208       -1.587136  0.381747  114.898822  1.917323e-22\n",
       "Abl           470.724329       -0.890831  0.575265   16.335307  1.206303e-02\n",
       "AGO1         7650.727511       -0.862827  0.179043   55.349483  3.940119e-10"
      ],
      "text/html": "<div>\n<style scoped>\n    .dataframe tbody tr th:only-of-type {\n        vertical-align: middle;\n    }\n\n    .dataframe tbody tr th {\n        vertical-align: top;\n    }\n\n    .dataframe thead th {\n        text-align: right;\n    }\n</style>\n<table border=\"1\" class=\"dataframe\">\n  <thead>\n    <tr style=\"text-align: right;\">\n      <th></th>\n      <th>baseMean</th>\n      <th>log2FoldChange</th>\n      <th>lfcSE</th>\n      <th>stat</th>\n      <th>pvalue</th>\n    </tr>\n    <tr>\n      <th>gene</th>\n      <th></th>\n      <th></th>\n      <th></th>\n      <th></th>\n      <th></th>\n    </tr>\n  </thead>\n  <tbody>\n    <tr>\n      <th>14-3-3zeta</th>\n      <td>53395.767469</td>\n      <td>-1.117552</td>\n      <td>0.128501</td>\n      <td>174.333968</td>\n      <td>5.413745e-35</td>\n    </tr>\n    <tr>\n      <th>2mit</th>\n      <td>5138.245843</td>\n      <td>-1.464031</td>\n      <td>0.283965</td>\n      <td>57.535217</td>\n      <td>1.423423e-10</td>\n    </tr>\n    <tr>\n      <th>5-HT1A</th>\n      <td>1847.051208</td>\n      <td>-1.587136</td>\n      <td>0.381747</td>\n      <td>114.898822</td>\n      <td>1.917323e-22</td>\n    </tr>\n    <tr>\n      <th>Abl</th>\n      <td>470.724329</td>\n      <td>-0.890831</td>\n      <td>0.575265</td>\n      <td>16.335307</td>\n      <td>1.206303e-02</td>\n    </tr>\n    <tr>\n      <th>AGO1</th>\n      <td>7650.727511</td>\n      <td>-0.862827</td>\n      <td>0.179043</td>\n      <td>55.349483</td>\n      <td>3.940119e-10</td>\n    </tr>\n  </tbody>\n</table>\n</div>"
     },
     "metadata": {},
     "execution_count": 6
    }
   ],
   "source": [
    "# Counts data\n",
    "genes_LRT = pd.read_excel(PATH_MY_DGE + LRT, index_col=0)\n",
    "genes_LRT.head()"
   ]
  },
  {
   "cell_type": "code",
   "execution_count": 7,
   "metadata": {},
   "outputs": [
    {
     "output_type": "execute_result",
     "data": {
      "text/plain": [
       "                baseMean  log2FoldChange     lfcSE       stat        pvalue\n",
       "gene                                                                       \n",
       "14-3-3zeta  53395.767469        0.553065  0.087182   6.343825  2.241299e-10\n",
       "2mit         5138.245843        1.025275  0.186069   5.510183  3.584608e-08\n",
       "AGO1         7650.727511        0.559781  0.116576   4.801855  1.572028e-06\n",
       "aPKC         2557.188848       -0.471080  0.157115  -2.998307  2.714845e-03\n",
       "Appl        21068.345015        1.080560  0.096515  11.195777  4.276365e-29"
      ],
      "text/html": "<div>\n<style scoped>\n    .dataframe tbody tr th:only-of-type {\n        vertical-align: middle;\n    }\n\n    .dataframe tbody tr th {\n        vertical-align: top;\n    }\n\n    .dataframe thead th {\n        text-align: right;\n    }\n</style>\n<table border=\"1\" class=\"dataframe\">\n  <thead>\n    <tr style=\"text-align: right;\">\n      <th></th>\n      <th>baseMean</th>\n      <th>log2FoldChange</th>\n      <th>lfcSE</th>\n      <th>stat</th>\n      <th>pvalue</th>\n    </tr>\n    <tr>\n      <th>gene</th>\n      <th></th>\n      <th></th>\n      <th></th>\n      <th></th>\n      <th></th>\n    </tr>\n  </thead>\n  <tbody>\n    <tr>\n      <th>14-3-3zeta</th>\n      <td>53395.767469</td>\n      <td>0.553065</td>\n      <td>0.087182</td>\n      <td>6.343825</td>\n      <td>2.241299e-10</td>\n    </tr>\n    <tr>\n      <th>2mit</th>\n      <td>5138.245843</td>\n      <td>1.025275</td>\n      <td>0.186069</td>\n      <td>5.510183</td>\n      <td>3.584608e-08</td>\n    </tr>\n    <tr>\n      <th>AGO1</th>\n      <td>7650.727511</td>\n      <td>0.559781</td>\n      <td>0.116576</td>\n      <td>4.801855</td>\n      <td>1.572028e-06</td>\n    </tr>\n    <tr>\n      <th>aPKC</th>\n      <td>2557.188848</td>\n      <td>-0.471080</td>\n      <td>0.157115</td>\n      <td>-2.998307</td>\n      <td>2.714845e-03</td>\n    </tr>\n    <tr>\n      <th>Appl</th>\n      <td>21068.345015</td>\n      <td>1.080560</td>\n      <td>0.096515</td>\n      <td>11.195777</td>\n      <td>4.276365e-29</td>\n    </tr>\n  </tbody>\n</table>\n</div>"
     },
     "metadata": {},
     "execution_count": 7
    }
   ],
   "source": [
    "genes_mean_DAL = pd.read_excel(PATH_MY_DGE + MEAN_DAL, index_col=0)\n",
    "genes_mean_DAL.head()"
   ]
  },
  {
   "cell_type": "code",
   "execution_count": 8,
   "metadata": {},
   "outputs": [
    {
     "output_type": "execute_result",
     "data": {
      "text/plain": [
       "                baseMean  log2FoldChange     lfcSE      stat        pvalue\n",
       "gene                                                                      \n",
       "14-3-3zeta  53395.767469       -0.222331  0.087197 -2.549758  1.077977e-02\n",
       "2mit         5138.245843       -0.763087  0.186200 -4.098215  4.163477e-05\n",
       "5-HT1A       1847.051208       -1.472478  0.246092 -5.983458  2.184495e-09\n",
       "Appl        21068.345015       -0.443962  0.096567 -4.597467  4.276583e-06\n",
       "armi           27.641092        1.813191  0.626525  2.894042  3.803171e-03"
      ],
      "text/html": "<div>\n<style scoped>\n    .dataframe tbody tr th:only-of-type {\n        vertical-align: middle;\n    }\n\n    .dataframe tbody tr th {\n        vertical-align: top;\n    }\n\n    .dataframe thead th {\n        text-align: right;\n    }\n</style>\n<table border=\"1\" class=\"dataframe\">\n  <thead>\n    <tr style=\"text-align: right;\">\n      <th></th>\n      <th>baseMean</th>\n      <th>log2FoldChange</th>\n      <th>lfcSE</th>\n      <th>stat</th>\n      <th>pvalue</th>\n    </tr>\n    <tr>\n      <th>gene</th>\n      <th></th>\n      <th></th>\n      <th></th>\n      <th></th>\n      <th></th>\n    </tr>\n  </thead>\n  <tbody>\n    <tr>\n      <th>14-3-3zeta</th>\n      <td>53395.767469</td>\n      <td>-0.222331</td>\n      <td>0.087197</td>\n      <td>-2.549758</td>\n      <td>1.077977e-02</td>\n    </tr>\n    <tr>\n      <th>2mit</th>\n      <td>5138.245843</td>\n      <td>-0.763087</td>\n      <td>0.186200</td>\n      <td>-4.098215</td>\n      <td>4.163477e-05</td>\n    </tr>\n    <tr>\n      <th>5-HT1A</th>\n      <td>1847.051208</td>\n      <td>-1.472478</td>\n      <td>0.246092</td>\n      <td>-5.983458</td>\n      <td>2.184495e-09</td>\n    </tr>\n    <tr>\n      <th>Appl</th>\n      <td>21068.345015</td>\n      <td>-0.443962</td>\n      <td>0.096567</td>\n      <td>-4.597467</td>\n      <td>4.276583e-06</td>\n    </tr>\n    <tr>\n      <th>armi</th>\n      <td>27.641092</td>\n      <td>1.813191</td>\n      <td>0.626525</td>\n      <td>2.894042</td>\n      <td>3.803171e-03</td>\n    </tr>\n  </tbody>\n</table>\n</div>"
     },
     "metadata": {},
     "execution_count": 8
    }
   ],
   "source": [
    "genes_mean_V2 = pd.read_excel(PATH_MY_DGE + MEAN_V2, index_col=0)\n",
    "genes_mean_V2.head()"
   ]
  },
  {
   "cell_type": "code",
   "execution_count": 9,
   "metadata": {},
   "outputs": [
    {
     "output_type": "execute_result",
     "data": {
      "text/plain": [
       "                baseMean  log2FoldChange     lfcSE      stat        pvalue\n",
       "gene                                                                      \n",
       "14-3-3zeta  53395.767469       -0.319041  0.095771 -3.331295  8.644292e-04\n",
       "5-HT1A       1847.051208        1.474263  0.268057  5.499808  3.802051e-08\n",
       "Appl        21068.345015       -0.543407  0.106073 -5.122937  3.008126e-07\n",
       "armi           27.641092       -2.308477  0.655611 -3.521111  4.297434e-04\n",
       "brp          4294.743116       -0.715513  0.163087 -4.387301  1.147660e-05"
      ],
      "text/html": "<div>\n<style scoped>\n    .dataframe tbody tr th:only-of-type {\n        vertical-align: middle;\n    }\n\n    .dataframe tbody tr th {\n        vertical-align: top;\n    }\n\n    .dataframe thead th {\n        text-align: right;\n    }\n</style>\n<table border=\"1\" class=\"dataframe\">\n  <thead>\n    <tr style=\"text-align: right;\">\n      <th></th>\n      <th>baseMean</th>\n      <th>log2FoldChange</th>\n      <th>lfcSE</th>\n      <th>stat</th>\n      <th>pvalue</th>\n    </tr>\n    <tr>\n      <th>gene</th>\n      <th></th>\n      <th></th>\n      <th></th>\n      <th></th>\n      <th></th>\n    </tr>\n  </thead>\n  <tbody>\n    <tr>\n      <th>14-3-3zeta</th>\n      <td>53395.767469</td>\n      <td>-0.319041</td>\n      <td>0.095771</td>\n      <td>-3.331295</td>\n      <td>8.644292e-04</td>\n    </tr>\n    <tr>\n      <th>5-HT1A</th>\n      <td>1847.051208</td>\n      <td>1.474263</td>\n      <td>0.268057</td>\n      <td>5.499808</td>\n      <td>3.802051e-08</td>\n    </tr>\n    <tr>\n      <th>Appl</th>\n      <td>21068.345015</td>\n      <td>-0.543407</td>\n      <td>0.106073</td>\n      <td>-5.122937</td>\n      <td>3.008126e-07</td>\n    </tr>\n    <tr>\n      <th>armi</th>\n      <td>27.641092</td>\n      <td>-2.308477</td>\n      <td>0.655611</td>\n      <td>-3.521111</td>\n      <td>4.297434e-04</td>\n    </tr>\n    <tr>\n      <th>brp</th>\n      <td>4294.743116</td>\n      <td>-0.715513</td>\n      <td>0.163087</td>\n      <td>-4.387301</td>\n      <td>1.147660e-05</td>\n    </tr>\n  </tbody>\n</table>\n</div>"
     },
     "metadata": {},
     "execution_count": 9
    }
   ],
   "source": [
    "genes_mean_V3 = pd.read_excel(PATH_MY_DGE + MEAN_V3, index_col=0)\n",
    "genes_mean_V3.head()"
   ]
  },
  {
   "cell_type": "code",
   "execution_count": 10,
   "metadata": {},
   "outputs": [
    {
     "output_type": "execute_result",
     "data": {
      "text/plain": [
       "            baseMean  log2FoldChange     lfcSE      stat        pvalue\n",
       "gene                                                                  \n",
       "5-HT1A   1847.051208        1.406294  0.245674  5.724225  1.039071e-08\n",
       "AGO1     7650.727511       -0.383222  0.116830 -3.280177  1.037419e-03\n",
       "Ank2     9186.434249        0.725675  0.113939  6.368957  1.903175e-10\n",
       "aPKC     2557.188848        0.606172  0.157253  3.854744  1.158507e-04\n",
       "Appl    21068.345015       -0.449237  0.096649 -4.648148  3.349281e-06"
      ],
      "text/html": "<div>\n<style scoped>\n    .dataframe tbody tr th:only-of-type {\n        vertical-align: middle;\n    }\n\n    .dataframe tbody tr th {\n        vertical-align: top;\n    }\n\n    .dataframe thead th {\n        text-align: right;\n    }\n</style>\n<table border=\"1\" class=\"dataframe\">\n  <thead>\n    <tr style=\"text-align: right;\">\n      <th></th>\n      <th>baseMean</th>\n      <th>log2FoldChange</th>\n      <th>lfcSE</th>\n      <th>stat</th>\n      <th>pvalue</th>\n    </tr>\n    <tr>\n      <th>gene</th>\n      <th></th>\n      <th></th>\n      <th></th>\n      <th></th>\n      <th></th>\n    </tr>\n  </thead>\n  <tbody>\n    <tr>\n      <th>5-HT1A</th>\n      <td>1847.051208</td>\n      <td>1.406294</td>\n      <td>0.245674</td>\n      <td>5.724225</td>\n      <td>1.039071e-08</td>\n    </tr>\n    <tr>\n      <th>AGO1</th>\n      <td>7650.727511</td>\n      <td>-0.383222</td>\n      <td>0.116830</td>\n      <td>-3.280177</td>\n      <td>1.037419e-03</td>\n    </tr>\n    <tr>\n      <th>Ank2</th>\n      <td>9186.434249</td>\n      <td>0.725675</td>\n      <td>0.113939</td>\n      <td>6.368957</td>\n      <td>1.903175e-10</td>\n    </tr>\n    <tr>\n      <th>aPKC</th>\n      <td>2557.188848</td>\n      <td>0.606172</td>\n      <td>0.157253</td>\n      <td>3.854744</td>\n      <td>1.158507e-04</td>\n    </tr>\n    <tr>\n      <th>Appl</th>\n      <td>21068.345015</td>\n      <td>-0.449237</td>\n      <td>0.096649</td>\n      <td>-4.648148</td>\n      <td>3.349281e-06</td>\n    </tr>\n  </tbody>\n</table>\n</div>"
     },
     "metadata": {},
     "execution_count": 10
    }
   ],
   "source": [
    "genes_mean_AB_KCs = pd.read_excel(PATH_MY_DGE + MEAN_AB_KCs, index_col=0)\n",
    "genes_mean_AB_KCs.head()"
   ]
  },
  {
   "cell_type": "code",
   "execution_count": 11,
   "metadata": {},
   "outputs": [
    {
     "output_type": "execute_result",
     "data": {
      "text/plain": [
       "                baseMean  log2FoldChange     lfcSE      stat        pvalue\n",
       "gene                                                                      \n",
       "14-3-3zeta  53395.767469        0.709975  0.080959  8.769583  1.793290e-18\n",
       "Abl           470.724329        0.805747  0.327097  2.463323  1.376559e-02\n",
       "AGO1         7650.727511        0.452421  0.108302  4.177386  2.948783e-05\n",
       "Appl        21068.345015        0.707182  0.089641  7.889049  3.044985e-15\n",
       "arm          1450.411450       -0.525104  0.160347 -3.274801  1.057364e-03"
      ],
      "text/html": "<div>\n<style scoped>\n    .dataframe tbody tr th:only-of-type {\n        vertical-align: middle;\n    }\n\n    .dataframe tbody tr th {\n        vertical-align: top;\n    }\n\n    .dataframe thead th {\n        text-align: right;\n    }\n</style>\n<table border=\"1\" class=\"dataframe\">\n  <thead>\n    <tr style=\"text-align: right;\">\n      <th></th>\n      <th>baseMean</th>\n      <th>log2FoldChange</th>\n      <th>lfcSE</th>\n      <th>stat</th>\n      <th>pvalue</th>\n    </tr>\n    <tr>\n      <th>gene</th>\n      <th></th>\n      <th></th>\n      <th></th>\n      <th></th>\n      <th></th>\n    </tr>\n  </thead>\n  <tbody>\n    <tr>\n      <th>14-3-3zeta</th>\n      <td>53395.767469</td>\n      <td>0.709975</td>\n      <td>0.080959</td>\n      <td>8.769583</td>\n      <td>1.793290e-18</td>\n    </tr>\n    <tr>\n      <th>Abl</th>\n      <td>470.724329</td>\n      <td>0.805747</td>\n      <td>0.327097</td>\n      <td>2.463323</td>\n      <td>1.376559e-02</td>\n    </tr>\n    <tr>\n      <th>AGO1</th>\n      <td>7650.727511</td>\n      <td>0.452421</td>\n      <td>0.108302</td>\n      <td>4.177386</td>\n      <td>2.948783e-05</td>\n    </tr>\n    <tr>\n      <th>Appl</th>\n      <td>21068.345015</td>\n      <td>0.707182</td>\n      <td>0.089641</td>\n      <td>7.889049</td>\n      <td>3.044985e-15</td>\n    </tr>\n    <tr>\n      <th>arm</th>\n      <td>1450.411450</td>\n      <td>-0.525104</td>\n      <td>0.160347</td>\n      <td>-3.274801</td>\n      <td>1.057364e-03</td>\n    </tr>\n  </tbody>\n</table>\n</div>"
     },
     "metadata": {},
     "execution_count": 11
    }
   ],
   "source": [
    "genes_mean_G_KCs = pd.read_excel(PATH_MY_DGE + MEAN_G_KCs, index_col=0)\n",
    "genes_mean_G_KCs.head()"
   ]
  },
  {
   "cell_type": "code",
   "execution_count": 12,
   "metadata": {},
   "outputs": [
    {
     "output_type": "execute_result",
     "data": {
      "text/plain": [
       "          baseMean  log2FoldChange     lfcSE      stat        pvalue\n",
       "gene                                                                \n",
       "aru     103.467196       -2.107674  0.516938 -4.077227  4.557595e-05\n",
       "Atx2   1344.501015       -0.570269  0.170931 -3.336246  8.491785e-04\n",
       "cer     731.714245       -1.220251  0.289554 -4.214248  2.506119e-05\n",
       "Ddc    5831.839263        1.085621  0.216454  5.015476  5.290221e-07\n",
       "dnc   14786.826024       -0.305314  0.093875 -3.252345  1.144569e-03"
      ],
      "text/html": "<div>\n<style scoped>\n    .dataframe tbody tr th:only-of-type {\n        vertical-align: middle;\n    }\n\n    .dataframe tbody tr th {\n        vertical-align: top;\n    }\n\n    .dataframe thead th {\n        text-align: right;\n    }\n</style>\n<table border=\"1\" class=\"dataframe\">\n  <thead>\n    <tr style=\"text-align: right;\">\n      <th></th>\n      <th>baseMean</th>\n      <th>log2FoldChange</th>\n      <th>lfcSE</th>\n      <th>stat</th>\n      <th>pvalue</th>\n    </tr>\n    <tr>\n      <th>gene</th>\n      <th></th>\n      <th></th>\n      <th></th>\n      <th></th>\n      <th></th>\n    </tr>\n  </thead>\n  <tbody>\n    <tr>\n      <th>aru</th>\n      <td>103.467196</td>\n      <td>-2.107674</td>\n      <td>0.516938</td>\n      <td>-4.077227</td>\n      <td>4.557595e-05</td>\n    </tr>\n    <tr>\n      <th>Atx2</th>\n      <td>1344.501015</td>\n      <td>-0.570269</td>\n      <td>0.170931</td>\n      <td>-3.336246</td>\n      <td>8.491785e-04</td>\n    </tr>\n    <tr>\n      <th>cer</th>\n      <td>731.714245</td>\n      <td>-1.220251</td>\n      <td>0.289554</td>\n      <td>-4.214248</td>\n      <td>2.506119e-05</td>\n    </tr>\n    <tr>\n      <th>Ddc</th>\n      <td>5831.839263</td>\n      <td>1.085621</td>\n      <td>0.216454</td>\n      <td>5.015476</td>\n      <td>5.290221e-07</td>\n    </tr>\n    <tr>\n      <th>dnc</th>\n      <td>14786.826024</td>\n      <td>-0.305314</td>\n      <td>0.093875</td>\n      <td>-3.252345</td>\n      <td>1.144569e-03</td>\n    </tr>\n  </tbody>\n</table>\n</div>"
     },
     "metadata": {},
     "execution_count": 12
    }
   ],
   "source": [
    "genes_mean_R27 = pd.read_excel(PATH_MY_DGE + MEAN_R27, index_col=0)\n",
    "genes_mean_R27.head()"
   ]
  },
  {
   "cell_type": "code",
   "execution_count": 13,
   "metadata": {},
   "outputs": [
    {
     "output_type": "execute_result",
     "data": {
      "text/plain": [
       "                baseMean  log2FoldChange     lfcSE      stat        pvalue\n",
       "gene                                                                      \n",
       "14-3-3zeta  53395.767469       -0.557256  0.087201 -6.390498  1.653468e-10\n",
       "5-HT1A       1847.051208       -1.029056  0.245899 -4.184878  2.853188e-05\n",
       "brp          4294.743116        0.467106  0.148480  3.145929  1.655600e-03\n",
       "Ddc          5831.839263       -0.777974  0.216547 -3.592633  3.273532e-04\n",
       "drl           795.369967        1.111718  0.242444  4.585468  4.529708e-06"
      ],
      "text/html": "<div>\n<style scoped>\n    .dataframe tbody tr th:only-of-type {\n        vertical-align: middle;\n    }\n\n    .dataframe tbody tr th {\n        vertical-align: top;\n    }\n\n    .dataframe thead th {\n        text-align: right;\n    }\n</style>\n<table border=\"1\" class=\"dataframe\">\n  <thead>\n    <tr style=\"text-align: right;\">\n      <th></th>\n      <th>baseMean</th>\n      <th>log2FoldChange</th>\n      <th>lfcSE</th>\n      <th>stat</th>\n      <th>pvalue</th>\n    </tr>\n    <tr>\n      <th>gene</th>\n      <th></th>\n      <th></th>\n      <th></th>\n      <th></th>\n      <th></th>\n    </tr>\n  </thead>\n  <tbody>\n    <tr>\n      <th>14-3-3zeta</th>\n      <td>53395.767469</td>\n      <td>-0.557256</td>\n      <td>0.087201</td>\n      <td>-6.390498</td>\n      <td>1.653468e-10</td>\n    </tr>\n    <tr>\n      <th>5-HT1A</th>\n      <td>1847.051208</td>\n      <td>-1.029056</td>\n      <td>0.245899</td>\n      <td>-4.184878</td>\n      <td>2.853188e-05</td>\n    </tr>\n    <tr>\n      <th>brp</th>\n      <td>4294.743116</td>\n      <td>0.467106</td>\n      <td>0.148480</td>\n      <td>3.145929</td>\n      <td>1.655600e-03</td>\n    </tr>\n    <tr>\n      <th>Ddc</th>\n      <td>5831.839263</td>\n      <td>-0.777974</td>\n      <td>0.216547</td>\n      <td>-3.592633</td>\n      <td>3.273532e-04</td>\n    </tr>\n    <tr>\n      <th>drl</th>\n      <td>795.369967</td>\n      <td>1.111718</td>\n      <td>0.242444</td>\n      <td>4.585468</td>\n      <td>4.529708e-06</td>\n    </tr>\n  </tbody>\n</table>\n</div>"
     },
     "metadata": {},
     "execution_count": 13
    }
   ],
   "source": [
    "genes_mean_G386 = pd.read_excel(PATH_MY_DGE + MEAN_G386, index_col=0)\n",
    "genes_mean_G386.head()"
   ]
  },
  {
   "cell_type": "code",
   "execution_count": 19,
   "metadata": {},
   "outputs": [],
   "source": [
    "genes_DAL_V2 = pd.read_excel(PATH_MY_DGE + PAIRWISE_DAL + \"V2.xlsx\", index_col=0)\n",
    "genes_DAL_V3 = pd.read_excel(PATH_MY_DGE + PAIRWISE_DAL + \"V3.xlsx\", index_col=0)\n",
    "genes_DAL_AB_KCs = pd.read_excel(PATH_MY_DGE + PAIRWISE_DAL + \"AB_KCs.xlsx\", index_col=0)\n",
    "genes_DAL_G_KCs = pd.read_excel(PATH_MY_DGE + PAIRWISE_DAL + \"G_KCs.xlsx\", index_col=0)\n",
    "genes_DAL_R27 = pd.read_excel(PATH_MY_DGE + PAIRWISE_DAL + \"R27.xlsx\", index_col=0)\n",
    "genes_DAL_G386 = pd.read_excel(PATH_MY_DGE + PAIRWISE_DAL + \"G386.xlsx\", index_col=0)"
   ]
  },
  {
   "cell_type": "code",
   "execution_count": 21,
   "metadata": {},
   "outputs": [],
   "source": [
    "genes_V2_DAL = pd.read_excel(PATH_MY_DGE + PAIRWISE_V2 + \"DAL.xlsx\", index_col=0)\n",
    "genes_V2_V3 = pd.read_excel(PATH_MY_DGE + PAIRWISE_V2 + \"V3.xlsx\", index_col=0)\n",
    "genes_V2_AB_KCs = pd.read_excel(PATH_MY_DGE + PAIRWISE_V2 + \"AB_KCs.xlsx\", index_col=0)\n",
    "genes_V2_G_KCs = pd.read_excel(PATH_MY_DGE + PAIRWISE_V2 + \"G_KCs.xlsx\", index_col=0)\n",
    "genes_V2_R27 = pd.read_excel(PATH_MY_DGE + PAIRWISE_V2 + \"R27.xlsx\", index_col=0)\n",
    "genes_V2_G386 = pd.read_excel(PATH_MY_DGE + PAIRWISE_V2 + \"G386.xlsx\", index_col=0)"
   ]
  },
  {
   "cell_type": "code",
   "execution_count": 22,
   "metadata": {},
   "outputs": [],
   "source": [
    "genes_V3_DAL = pd.read_excel(PATH_MY_DGE + PAIRWISE_V3 + \"DAL.xlsx\", index_col=0)\n",
    "genes_V3_V2 = pd.read_excel(PATH_MY_DGE + PAIRWISE_V3 + \"V2.xlsx\", index_col=0)\n",
    "genes_V3_AB_KCs = pd.read_excel(PATH_MY_DGE + PAIRWISE_V3 + \"AB_KCs.xlsx\", index_col=0)\n",
    "genes_V3_G_KCs = pd.read_excel(PATH_MY_DGE + PAIRWISE_V3 + \"G_KCs.xlsx\", index_col=0)\n",
    "genes_V3_R27 = pd.read_excel(PATH_MY_DGE + PAIRWISE_V3 + \"R27.xlsx\", index_col=0)\n",
    "genes_V3_G386 = pd.read_excel(PATH_MY_DGE + PAIRWISE_V3 + \"G386.xlsx\", index_col=0)"
   ]
  },
  {
   "cell_type": "code",
   "execution_count": 23,
   "metadata": {},
   "outputs": [],
   "source": [
    "genes_AB_KCs_DAL = pd.read_excel(PATH_MY_DGE + PAIRWISE_AB_KCs + \"DAL.xlsx\", index_col=0)\n",
    "genes_AB_KCs_V2 = pd.read_excel(PATH_MY_DGE + PAIRWISE_AB_KCs + \"V2.xlsx\", index_col=0)\n",
    "genes_AB_KCs_V3 = pd.read_excel(PATH_MY_DGE + PAIRWISE_AB_KCs + \"V3.xlsx\", index_col=0)\n",
    "genes_AB_KCs_G_KCs = pd.read_excel(PATH_MY_DGE + PAIRWISE_AB_KCs + \"G_KCs.xlsx\", index_col=0)\n",
    "genes_AB_KCs_R27 = pd.read_excel(PATH_MY_DGE + PAIRWISE_AB_KCs + \"R27.xlsx\", index_col=0)\n",
    "genes_AB_KCs_G386 = pd.read_excel(PATH_MY_DGE + PAIRWISE_AB_KCs + \"G386.xlsx\", index_col=0)"
   ]
  },
  {
   "cell_type": "code",
   "execution_count": 24,
   "metadata": {},
   "outputs": [],
   "source": [
    "genes_G_KCs_DAL = pd.read_excel(PATH_MY_DGE + PAIRWISE_G_KCs + \"DAL.xlsx\", index_col=0)\n",
    "genes_G_KCs_V2 = pd.read_excel(PATH_MY_DGE + PAIRWISE_G_KCs + \"V2.xlsx\", index_col=0)\n",
    "genes_G_KCs_V3 = pd.read_excel(PATH_MY_DGE + PAIRWISE_G_KCs + \"V3.xlsx\", index_col=0)\n",
    "genes_G_KCs_AB_KCs = pd.read_excel(PATH_MY_DGE + PAIRWISE_G_KCs + \"AB_KCs.xlsx\", index_col=0)\n",
    "genes_G_KCs_R27 = pd.read_excel(PATH_MY_DGE + PAIRWISE_G_KCs + \"R27.xlsx\", index_col=0)\n",
    "genes_G_KCs_G386 = pd.read_excel(PATH_MY_DGE + PAIRWISE_G_KCs + \"G386.xlsx\", index_col=0)"
   ]
  },
  {
   "cell_type": "code",
   "execution_count": 25,
   "metadata": {},
   "outputs": [],
   "source": [
    "genes_R27_DAL = pd.read_excel(PATH_MY_DGE + PAIRWISE_R27 + \"DAL.xlsx\", index_col=0)\n",
    "genes_R27_V2 = pd.read_excel(PATH_MY_DGE + PAIRWISE_R27 + \"V2.xlsx\", index_col=0)\n",
    "genes_R27_V3 = pd.read_excel(PATH_MY_DGE + PAIRWISE_R27 + \"V3.xlsx\", index_col=0)\n",
    "genes_R27_AB_KCs = pd.read_excel(PATH_MY_DGE + PAIRWISE_R27 + \"AB_KCs.xlsx\", index_col=0)\n",
    "genes_R27_G_KCs = pd.read_excel(PATH_MY_DGE + PAIRWISE_R27 + \"G_KCs.xlsx\", index_col=0)\n",
    "genes_R27_G386 = pd.read_excel(PATH_MY_DGE + PAIRWISE_R27 + \"G386.xlsx\", index_col=0)"
   ]
  },
  {
   "cell_type": "code",
   "execution_count": 26,
   "metadata": {},
   "outputs": [],
   "source": [
    "genes_G386_DAL = pd.read_excel(PATH_MY_DGE + PAIRWISE_G386 + \"DAL.xlsx\", index_col=0)\n",
    "genes_G386_V2 = pd.read_excel(PATH_MY_DGE + PAIRWISE_G386 + \"V2.xlsx\", index_col=0)\n",
    "genes_G386_V3 = pd.read_excel(PATH_MY_DGE + PAIRWISE_G386 + \"V3.xlsx\", index_col=0)\n",
    "genes_G386_AB_KCs = pd.read_excel(PATH_MY_DGE + PAIRWISE_G386 + \"AB_KCs.xlsx\", index_col=0)\n",
    "genes_G386_G_KCs = pd.read_excel(PATH_MY_DGE + PAIRWISE_G386 + \"G_KCs.xlsx\", index_col=0)\n",
    "genes_G386_R27 = pd.read_excel(PATH_MY_DGE + PAIRWISE_G386 + \"R27.xlsx\", index_col=0)"
   ]
  },
  {
   "cell_type": "code",
   "execution_count": null,
   "metadata": {},
   "outputs": [],
   "source": []
  }
 ],
 "metadata": {
  "kernelspec": {
   "name": "python385jvsc74a57bd024ca4be73995f5f6c55b5047f39da87722f02f9d48b69a91b127def2869ddebf",
   "display_name": "Python 3.8.5 64-bit ('ada': conda)"
  },
  "language_info": {
   "codemirror_mode": {
    "name": "ipython",
    "version": 3
   },
   "file_extension": ".py",
   "mimetype": "text/x-python",
   "name": "python",
   "nbconvert_exporter": "python",
   "pygments_lexer": "ipython3",
   "version": "3.8.5"
  }
 },
 "nbformat": 4,
 "nbformat_minor": 4
}